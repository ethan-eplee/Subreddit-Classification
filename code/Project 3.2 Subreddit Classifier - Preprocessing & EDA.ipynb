{
 "cells": [
  {
   "cell_type": "markdown",
   "id": "0c918067",
   "metadata": {},
   "source": [
    "<img src=\"http://imgur.com/1ZcRyrc.png\" style=\"float: left; margin: 20px; height: 55px\">\n",
    "\n",
    "# Project 3: Subreddit Classifier with Webscraping, NLP and ML\n",
    "## Part 2: Preprocessing & EDA"
   ]
  },
  {
   "cell_type": "markdown",
   "id": "24d0cd44",
   "metadata": {},
   "source": [
    "## Contents:\n",
    "1. [Import data](#Import-data)\n",
    "2. [Preprocessing](#Preprocessing)\n",
    "3. [Stop Words Removal](#Stop-Words-Removal)\n",
    "4. [Porter Stemming](#Porter-Stemming)\n",
    "5. [Lemmatizer](#Lemmatizer)\n",
    "6. [Feature Engineering](#Feature-Engineering)\n",
    "7. [EDA](#EDA)\n",
    "8. [N-grams](#N-grams)\n",
    "9. [Export to csv](#Export-to-csv)"
   ]
  },
  {
   "cell_type": "code",
   "execution_count": 1,
   "id": "92cce13f",
   "metadata": {},
   "outputs": [],
   "source": [
    "# Import libraries\n",
    "import requests\n",
    "import time\n",
    "import numpy as np\n",
    "import pandas as pd\n",
    "import matplotlib.pyplot as plt\n",
    "import seaborn as sns\n",
    "import re\n",
    "\n",
    "from wordcloud import WordCloud\n",
    "\n",
    "from sklearn.model_selection import train_test_split, GridSearchCV\n",
    "from sklearn.pipeline import Pipeline\n",
    "from sklearn.naive_bayes import MultinomialNB\n",
    "from sklearn.linear_model import LogisticRegression\n",
    "from sklearn.metrics import confusion_matrix, plot_confusion_matrix, classification_report\n",
    "from nltk.corpus import stopwords\n",
    "\n",
    "from nltk.tokenize import sent_tokenize, word_tokenize\n",
    "from nltk.tokenize import RegexpTokenizer\n",
    "from nltk.stem import WordNetLemmatizer\n",
    "from nltk.stem.porter import PorterStemmer\n",
    "\n",
    "# Import CountVectorizer and TFIDFVectorizer from feature_extraction.text\n",
    "from sklearn.feature_extraction.text import CountVectorizer\n",
    "from sklearn.feature_extraction.text import TfidfVectorizer\n",
    "%matplotlib inline\n",
    "sns.set(font_scale=1.5)\n",
    "sns.set_style('white')"
   ]
  },
  {
   "cell_type": "markdown",
   "id": "d3c54d4c",
   "metadata": {},
   "source": [
    "## Import data\n",
    "*Back to [Contents](#Contents:)*"
   ]
  },
  {
   "cell_type": "code",
   "execution_count": 2,
   "id": "b23da8a0",
   "metadata": {},
   "outputs": [],
   "source": [
    "df_bicycling = pd.read_csv('./data/bicycling_subreddit.csv')\n",
    "df_motorcycles = pd.read_csv('./data/motorcycles_subreddit.csv')"
   ]
  },
  {
   "cell_type": "code",
   "execution_count": 3,
   "id": "58cdefd2",
   "metadata": {},
   "outputs": [
    {
     "data": {
      "text/html": [
       "<div>\n",
       "<style scoped>\n",
       "    .dataframe tbody tr th:only-of-type {\n",
       "        vertical-align: middle;\n",
       "    }\n",
       "\n",
       "    .dataframe tbody tr th {\n",
       "        vertical-align: top;\n",
       "    }\n",
       "\n",
       "    .dataframe thead th {\n",
       "        text-align: right;\n",
       "    }\n",
       "</style>\n",
       "<table border=\"1\" class=\"dataframe\">\n",
       "  <thead>\n",
       "    <tr style=\"text-align: right;\">\n",
       "      <th></th>\n",
       "      <th>subreddit</th>\n",
       "      <th>selftext</th>\n",
       "      <th>title</th>\n",
       "      <th>text</th>\n",
       "    </tr>\n",
       "  </thead>\n",
       "  <tbody>\n",
       "    <tr>\n",
       "      <th>0</th>\n",
       "      <td>bicycling</td>\n",
       "      <td>NaN</td>\n",
       "      <td>$10 off any RoadID</td>\n",
       "      <td>$10 off any RoadID</td>\n",
       "    </tr>\n",
       "    <tr>\n",
       "      <th>1</th>\n",
       "      <td>bicycling</td>\n",
       "      <td>NaN</td>\n",
       "      <td>Is this a good deal on a bike? It’s a Fuji Thr...</td>\n",
       "      <td>Is this a good deal on a bike? It’s a Fuji Thr...</td>\n",
       "    </tr>\n",
       "    <tr>\n",
       "      <th>2</th>\n",
       "      <td>bicycling</td>\n",
       "      <td>Hi, so there's been a string of bike theft in ...</td>\n",
       "      <td>Preventing Bike Theft</td>\n",
       "      <td>Hi, so there's been a string of bike theft in ...</td>\n",
       "    </tr>\n",
       "    <tr>\n",
       "      <th>3</th>\n",
       "      <td>bicycling</td>\n",
       "      <td>NaN</td>\n",
       "      <td>Specialized Hardrock. Winnipeg Red River singl...</td>\n",
       "      <td>Specialized Hardrock. Winnipeg Red River singl...</td>\n",
       "    </tr>\n",
       "    <tr>\n",
       "      <th>4</th>\n",
       "      <td>bicycling</td>\n",
       "      <td>NaN</td>\n",
       "      <td>Specialized Hardrock. Winnipeg Red river Canop...</td>\n",
       "      <td>Specialized Hardrock. Winnipeg Red river Canop...</td>\n",
       "    </tr>\n",
       "  </tbody>\n",
       "</table>\n",
       "</div>"
      ],
      "text/plain": [
       "   subreddit                                           selftext  \\\n",
       "0  bicycling                                                NaN   \n",
       "1  bicycling                                                NaN   \n",
       "2  bicycling  Hi, so there's been a string of bike theft in ...   \n",
       "3  bicycling                                                NaN   \n",
       "4  bicycling                                                NaN   \n",
       "\n",
       "                                               title  \\\n",
       "0                                 $10 off any RoadID   \n",
       "1  Is this a good deal on a bike? It’s a Fuji Thr...   \n",
       "2                              Preventing Bike Theft   \n",
       "3  Specialized Hardrock. Winnipeg Red River singl...   \n",
       "4  Specialized Hardrock. Winnipeg Red river Canop...   \n",
       "\n",
       "                                                text  \n",
       "0                                 $10 off any RoadID  \n",
       "1  Is this a good deal on a bike? It’s a Fuji Thr...  \n",
       "2  Hi, so there's been a string of bike theft in ...  \n",
       "3  Specialized Hardrock. Winnipeg Red River singl...  \n",
       "4  Specialized Hardrock. Winnipeg Red river Canop...  "
      ]
     },
     "execution_count": 3,
     "metadata": {},
     "output_type": "execute_result"
    }
   ],
   "source": [
    "# look at bicycle dataframe\n",
    "df_bicycling.head()"
   ]
  },
  {
   "cell_type": "code",
   "execution_count": 4,
   "id": "db316f94",
   "metadata": {
    "scrolled": true
   },
   "outputs": [
    {
     "data": {
      "text/plain": [
       "subreddit       0\n",
       "selftext     1741\n",
       "title           0\n",
       "text            0\n",
       "dtype: int64"
      ]
     },
     "execution_count": 4,
     "metadata": {},
     "output_type": "execute_result"
    }
   ],
   "source": [
    "# check nulls in bicycle dataframe\n",
    "df_bicycling.isnull().sum()"
   ]
  },
  {
   "cell_type": "code",
   "execution_count": 5,
   "id": "0ee08eea",
   "metadata": {},
   "outputs": [
    {
     "data": {
      "text/plain": [
       "(2904, 4)"
      ]
     },
     "execution_count": 5,
     "metadata": {},
     "output_type": "execute_result"
    }
   ],
   "source": [
    "# check shape in bicycle dataframe\n",
    "df_bicycling.shape"
   ]
  },
  {
   "cell_type": "code",
   "execution_count": 6,
   "id": "1fe7d931",
   "metadata": {},
   "outputs": [
    {
     "data": {
      "text/html": [
       "<div>\n",
       "<style scoped>\n",
       "    .dataframe tbody tr th:only-of-type {\n",
       "        vertical-align: middle;\n",
       "    }\n",
       "\n",
       "    .dataframe tbody tr th {\n",
       "        vertical-align: top;\n",
       "    }\n",
       "\n",
       "    .dataframe thead th {\n",
       "        text-align: right;\n",
       "    }\n",
       "</style>\n",
       "<table border=\"1\" class=\"dataframe\">\n",
       "  <thead>\n",
       "    <tr style=\"text-align: right;\">\n",
       "      <th></th>\n",
       "      <th>subreddit</th>\n",
       "      <th>selftext</th>\n",
       "      <th>title</th>\n",
       "      <th>text</th>\n",
       "    </tr>\n",
       "  </thead>\n",
       "  <tbody>\n",
       "    <tr>\n",
       "      <th>0</th>\n",
       "      <td>motorcycles</td>\n",
       "      <td>Hey everyone. \\nThe time has come to replace t...</td>\n",
       "      <td>Anyone Running An XL Hornet X2 /w 13mm Crown Pad?</td>\n",
       "      <td>Hey everyone. \\nThe time has come to replace t...</td>\n",
       "    </tr>\n",
       "    <tr>\n",
       "      <th>1</th>\n",
       "      <td>motorcycles</td>\n",
       "      <td>I just recently bought a 2022 R7 anniversary e...</td>\n",
       "      <td>Breaking in a R7</td>\n",
       "      <td>I just recently bought a 2022 R7 anniversary e...</td>\n",
       "    </tr>\n",
       "    <tr>\n",
       "      <th>2</th>\n",
       "      <td>motorcycles</td>\n",
       "      <td>When I dropped my bike last time, this tube be...</td>\n",
       "      <td>Where does this line connect to? 2004 Ninja ZX636</td>\n",
       "      <td>When I dropped my bike last time, this tube be...</td>\n",
       "    </tr>\n",
       "    <tr>\n",
       "      <th>3</th>\n",
       "      <td>motorcycles</td>\n",
       "      <td>I want to tell my boyfriend I’m worried about ...</td>\n",
       "      <td>Do you never tell a biker you’re worried about...</td>\n",
       "      <td>I want to tell my boyfriend I’m worried about ...</td>\n",
       "    </tr>\n",
       "    <tr>\n",
       "      <th>4</th>\n",
       "      <td>motorcycles</td>\n",
       "      <td>I just recently got my 2021 R3 and have been l...</td>\n",
       "      <td>R3 Exhaust</td>\n",
       "      <td>I just recently got my 2021 R3 and have been l...</td>\n",
       "    </tr>\n",
       "  </tbody>\n",
       "</table>\n",
       "</div>"
      ],
      "text/plain": [
       "     subreddit                                           selftext  \\\n",
       "0  motorcycles  Hey everyone. \\nThe time has come to replace t...   \n",
       "1  motorcycles  I just recently bought a 2022 R7 anniversary e...   \n",
       "2  motorcycles  When I dropped my bike last time, this tube be...   \n",
       "3  motorcycles  I want to tell my boyfriend I’m worried about ...   \n",
       "4  motorcycles  I just recently got my 2021 R3 and have been l...   \n",
       "\n",
       "                                               title  \\\n",
       "0  Anyone Running An XL Hornet X2 /w 13mm Crown Pad?   \n",
       "1                                   Breaking in a R7   \n",
       "2  Where does this line connect to? 2004 Ninja ZX636   \n",
       "3  Do you never tell a biker you’re worried about...   \n",
       "4                                         R3 Exhaust   \n",
       "\n",
       "                                                text  \n",
       "0  Hey everyone. \\nThe time has come to replace t...  \n",
       "1  I just recently bought a 2022 R7 anniversary e...  \n",
       "2  When I dropped my bike last time, this tube be...  \n",
       "3  I want to tell my boyfriend I’m worried about ...  \n",
       "4  I just recently got my 2021 R3 and have been l...  "
      ]
     },
     "execution_count": 6,
     "metadata": {},
     "output_type": "execute_result"
    }
   ],
   "source": [
    "# look at motorcycle dataframe\n",
    "df_motorcycles.head()"
   ]
  },
  {
   "cell_type": "code",
   "execution_count": 7,
   "id": "b9a7d0aa",
   "metadata": {
    "scrolled": false
   },
   "outputs": [
    {
     "data": {
      "text/plain": [
       "subreddit      0\n",
       "selftext     550\n",
       "title          0\n",
       "text           0\n",
       "dtype: int64"
      ]
     },
     "execution_count": 7,
     "metadata": {},
     "output_type": "execute_result"
    }
   ],
   "source": [
    "# check nulls in motorcycles dataframe\n",
    "df_motorcycles.isnull().sum()"
   ]
  },
  {
   "cell_type": "code",
   "execution_count": 8,
   "id": "e127053b",
   "metadata": {},
   "outputs": [
    {
     "data": {
      "text/plain": [
       "(2482, 4)"
      ]
     },
     "execution_count": 8,
     "metadata": {},
     "output_type": "execute_result"
    }
   ],
   "source": [
    "# check shape in motorcycle dataframe\n",
    "df_motorcycles.shape"
   ]
  },
  {
   "cell_type": "code",
   "execution_count": 9,
   "id": "14d1b598",
   "metadata": {
    "scrolled": false
   },
   "outputs": [
    {
     "name": "stdout",
     "output_type": "stream",
     "text": [
      "<class 'pandas.core.frame.DataFrame'>\n",
      "RangeIndex: 5386 entries, 0 to 5385\n",
      "Data columns (total 4 columns):\n",
      " #   Column     Non-Null Count  Dtype \n",
      "---  ------     --------------  ----- \n",
      " 0   subreddit  5386 non-null   object\n",
      " 1   selftext   3095 non-null   object\n",
      " 2   title      5386 non-null   object\n",
      " 3   text       5386 non-null   object\n",
      "dtypes: object(4)\n",
      "memory usage: 168.4+ KB\n"
     ]
    }
   ],
   "source": [
    "# concat both dataframes into one\n",
    "df = pd.concat([df_bicycling,df_motorcycles], axis=0, ignore_index=True)\n",
    "df.info()"
   ]
  },
  {
   "cell_type": "code",
   "execution_count": 10,
   "id": "dca57d83",
   "metadata": {
    "scrolled": true
   },
   "outputs": [
    {
     "data": {
      "text/plain": [
       "(5386, 4)"
      ]
     },
     "execution_count": 10,
     "metadata": {},
     "output_type": "execute_result"
    }
   ],
   "source": [
    "df.shape"
   ]
  },
  {
   "cell_type": "code",
   "execution_count": 11,
   "id": "0ad19e1e",
   "metadata": {},
   "outputs": [],
   "source": [
    "df.drop_duplicates('text',inplace=True)"
   ]
  },
  {
   "cell_type": "code",
   "execution_count": 12,
   "id": "bf07ead6",
   "metadata": {
    "scrolled": false
   },
   "outputs": [
    {
     "data": {
      "text/html": [
       "<div>\n",
       "<style scoped>\n",
       "    .dataframe tbody tr th:only-of-type {\n",
       "        vertical-align: middle;\n",
       "    }\n",
       "\n",
       "    .dataframe tbody tr th {\n",
       "        vertical-align: top;\n",
       "    }\n",
       "\n",
       "    .dataframe thead th {\n",
       "        text-align: right;\n",
       "    }\n",
       "</style>\n",
       "<table border=\"1\" class=\"dataframe\">\n",
       "  <thead>\n",
       "    <tr style=\"text-align: right;\">\n",
       "      <th></th>\n",
       "      <th>subreddit</th>\n",
       "      <th>selftext</th>\n",
       "      <th>title</th>\n",
       "      <th>text</th>\n",
       "    </tr>\n",
       "  </thead>\n",
       "  <tbody>\n",
       "    <tr>\n",
       "      <th>0</th>\n",
       "      <td>bicycling</td>\n",
       "      <td>NaN</td>\n",
       "      <td>$10 off any RoadID</td>\n",
       "      <td>$10 off any RoadID</td>\n",
       "    </tr>\n",
       "    <tr>\n",
       "      <th>1</th>\n",
       "      <td>bicycling</td>\n",
       "      <td>NaN</td>\n",
       "      <td>Is this a good deal on a bike? It’s a Fuji Thr...</td>\n",
       "      <td>Is this a good deal on a bike? It’s a Fuji Thr...</td>\n",
       "    </tr>\n",
       "    <tr>\n",
       "      <th>2</th>\n",
       "      <td>bicycling</td>\n",
       "      <td>Hi, so there's been a string of bike theft in ...</td>\n",
       "      <td>Preventing Bike Theft</td>\n",
       "      <td>Hi, so there's been a string of bike theft in ...</td>\n",
       "    </tr>\n",
       "    <tr>\n",
       "      <th>3</th>\n",
       "      <td>bicycling</td>\n",
       "      <td>NaN</td>\n",
       "      <td>Specialized Hardrock. Winnipeg Red River singl...</td>\n",
       "      <td>Specialized Hardrock. Winnipeg Red River singl...</td>\n",
       "    </tr>\n",
       "    <tr>\n",
       "      <th>4</th>\n",
       "      <td>bicycling</td>\n",
       "      <td>NaN</td>\n",
       "      <td>Specialized Hardrock. Winnipeg Red river Canop...</td>\n",
       "      <td>Specialized Hardrock. Winnipeg Red river Canop...</td>\n",
       "    </tr>\n",
       "  </tbody>\n",
       "</table>\n",
       "</div>"
      ],
      "text/plain": [
       "   subreddit                                           selftext  \\\n",
       "0  bicycling                                                NaN   \n",
       "1  bicycling                                                NaN   \n",
       "2  bicycling  Hi, so there's been a string of bike theft in ...   \n",
       "3  bicycling                                                NaN   \n",
       "4  bicycling                                                NaN   \n",
       "\n",
       "                                               title  \\\n",
       "0                                 $10 off any RoadID   \n",
       "1  Is this a good deal on a bike? It’s a Fuji Thr...   \n",
       "2                              Preventing Bike Theft   \n",
       "3  Specialized Hardrock. Winnipeg Red River singl...   \n",
       "4  Specialized Hardrock. Winnipeg Red river Canop...   \n",
       "\n",
       "                                                text  \n",
       "0                                 $10 off any RoadID  \n",
       "1  Is this a good deal on a bike? It’s a Fuji Thr...  \n",
       "2  Hi, so there's been a string of bike theft in ...  \n",
       "3  Specialized Hardrock. Winnipeg Red River singl...  \n",
       "4  Specialized Hardrock. Winnipeg Red river Canop...  "
      ]
     },
     "execution_count": 12,
     "metadata": {},
     "output_type": "execute_result"
    }
   ],
   "source": [
    "df.head()"
   ]
  },
  {
   "cell_type": "markdown",
   "id": "aa88b35e",
   "metadata": {},
   "source": [
    "## Preprocessing \n",
    "- Removing url, special characters & tokenizing\n",
    "\n",
    "*Back to [Contents](#Contents:)*"
   ]
  },
  {
   "cell_type": "code",
   "execution_count": 13,
   "id": "6f530d8b",
   "metadata": {
    "scrolled": true
   },
   "outputs": [
    {
     "name": "stderr",
     "output_type": "stream",
     "text": [
      "C:\\Users\\finan\\AppData\\Local\\Temp/ipykernel_3364/3629698539.py:2: FutureWarning: The default value of regex will change from True to False in a future version.\n",
      "  df['text'] = df['text'].str.replace('http[s]?://(?:[a-zA-Z]|[0-9]|[$-_@.&+]|[!*\\(\\),]|\\\n"
     ]
    }
   ],
   "source": [
    "# Remove urls in text\n",
    "df['text'] = df['text'].str.replace('http[s]?://(?:[a-zA-Z]|[0-9]|[$-_@.&+]|[!*\\(\\),]|\\\n",
    "(?:%[0-9a-fA-F][0-9a-fA-F]))+', '')"
   ]
  },
  {
   "cell_type": "code",
   "execution_count": 14,
   "id": "809d9b00",
   "metadata": {},
   "outputs": [],
   "source": [
    "# Only find words in English characters\n",
    "tokenizer = RegexpTokenizer(r'[A-Za-z0-9]+') "
   ]
  },
  {
   "cell_type": "code",
   "execution_count": 15,
   "id": "8ffb7991",
   "metadata": {},
   "outputs": [],
   "source": [
    "# \"Run\" Tokenizer\n",
    "df['tokens'] = df.apply(lambda row: tokenizer.tokenize(row['text'].lower()),axis=1)"
   ]
  },
  {
   "cell_type": "code",
   "execution_count": 16,
   "id": "4237c868",
   "metadata": {
    "scrolled": true
   },
   "outputs": [
    {
     "data": {
      "text/html": [
       "<div>\n",
       "<style scoped>\n",
       "    .dataframe tbody tr th:only-of-type {\n",
       "        vertical-align: middle;\n",
       "    }\n",
       "\n",
       "    .dataframe tbody tr th {\n",
       "        vertical-align: top;\n",
       "    }\n",
       "\n",
       "    .dataframe thead th {\n",
       "        text-align: right;\n",
       "    }\n",
       "</style>\n",
       "<table border=\"1\" class=\"dataframe\">\n",
       "  <thead>\n",
       "    <tr style=\"text-align: right;\">\n",
       "      <th></th>\n",
       "      <th>index</th>\n",
       "      <th>subreddit</th>\n",
       "      <th>selftext</th>\n",
       "      <th>title</th>\n",
       "      <th>text</th>\n",
       "      <th>tokens</th>\n",
       "    </tr>\n",
       "  </thead>\n",
       "  <tbody>\n",
       "    <tr>\n",
       "      <th>0</th>\n",
       "      <td>0</td>\n",
       "      <td>bicycling</td>\n",
       "      <td>NaN</td>\n",
       "      <td>$10 off any RoadID</td>\n",
       "      <td>$10 off any RoadID</td>\n",
       "      <td>[10, off, any, roadid]</td>\n",
       "    </tr>\n",
       "    <tr>\n",
       "      <th>1</th>\n",
       "      <td>1</td>\n",
       "      <td>bicycling</td>\n",
       "      <td>NaN</td>\n",
       "      <td>Is this a good deal on a bike? It’s a Fuji Thr...</td>\n",
       "      <td>Is this a good deal on a bike? It’s a Fuji Thr...</td>\n",
       "      <td>[is, this, a, good, deal, on, a, bike, it, s, ...</td>\n",
       "    </tr>\n",
       "    <tr>\n",
       "      <th>2</th>\n",
       "      <td>2</td>\n",
       "      <td>bicycling</td>\n",
       "      <td>Hi, so there's been a string of bike theft in ...</td>\n",
       "      <td>Preventing Bike Theft</td>\n",
       "      <td>Hi, so there's been a string of bike theft in ...</td>\n",
       "      <td>[hi, so, there, s, been, a, string, of, bike, ...</td>\n",
       "    </tr>\n",
       "    <tr>\n",
       "      <th>3</th>\n",
       "      <td>3</td>\n",
       "      <td>bicycling</td>\n",
       "      <td>NaN</td>\n",
       "      <td>Specialized Hardrock. Winnipeg Red River singl...</td>\n",
       "      <td>Specialized Hardrock. Winnipeg Red River singl...</td>\n",
       "      <td>[specialized, hardrock, winnipeg, red, river, ...</td>\n",
       "    </tr>\n",
       "    <tr>\n",
       "      <th>4</th>\n",
       "      <td>4</td>\n",
       "      <td>bicycling</td>\n",
       "      <td>NaN</td>\n",
       "      <td>Specialized Hardrock. Winnipeg Red river Canop...</td>\n",
       "      <td>Specialized Hardrock. Winnipeg Red river Canop...</td>\n",
       "      <td>[specialized, hardrock, winnipeg, red, river, ...</td>\n",
       "    </tr>\n",
       "    <tr>\n",
       "      <th>...</th>\n",
       "      <td>...</td>\n",
       "      <td>...</td>\n",
       "      <td>...</td>\n",
       "      <td>...</td>\n",
       "      <td>...</td>\n",
       "      <td>...</td>\n",
       "    </tr>\n",
       "    <tr>\n",
       "      <th>5324</th>\n",
       "      <td>5381</td>\n",
       "      <td>motorcycles</td>\n",
       "      <td>&amp;amp;#x200B;\\n\\n*Processing video sdt716bel5c9...</td>\n",
       "      <td>Race at Laguna Seca wait for the last group to...</td>\n",
       "      <td>&amp;amp;#x200B;\\n\\n*Processing video sdt716bel5c9...</td>\n",
       "      <td>[amp, x200b, processing, video, sdt716bel5c91,...</td>\n",
       "    </tr>\n",
       "    <tr>\n",
       "      <th>5325</th>\n",
       "      <td>5382</td>\n",
       "      <td>motorcycles</td>\n",
       "      <td>Hello motorcycle community,\\n\\nMy father is tu...</td>\n",
       "      <td>Question about motorcycle license from a noob!</td>\n",
       "      <td>Hello motorcycle community,\\n\\nMy father is tu...</td>\n",
       "      <td>[hello, motorcycle, community, my, father, is,...</td>\n",
       "    </tr>\n",
       "    <tr>\n",
       "      <th>5326</th>\n",
       "      <td>5383</td>\n",
       "      <td>motorcycles</td>\n",
       "      <td>NaN</td>\n",
       "      <td>Tested my dad’s Vfr 800 Fi yesterday and i had...</td>\n",
       "      <td>Tested my dad’s Vfr 800 Fi yesterday and i had...</td>\n",
       "      <td>[tested, my, dad, s, vfr, 800, fi, yesterday, ...</td>\n",
       "    </tr>\n",
       "    <tr>\n",
       "      <th>5327</th>\n",
       "      <td>5384</td>\n",
       "      <td>motorcycles</td>\n",
       "      <td>I resently got myself new goggles for riding a...</td>\n",
       "      <td>Car was for goggles</td>\n",
       "      <td>I resently got myself new goggles for riding a...</td>\n",
       "      <td>[i, resently, got, myself, new, goggles, for, ...</td>\n",
       "    </tr>\n",
       "    <tr>\n",
       "      <th>5328</th>\n",
       "      <td>5385</td>\n",
       "      <td>motorcycles</td>\n",
       "      <td>I’ve have a good amount of experience of ridin...</td>\n",
       "      <td>Is the Yamaha R7 the right choice for a Semi-B...</td>\n",
       "      <td>I’ve have a good amount of experience of ridin...</td>\n",
       "      <td>[i, ve, have, a, good, amount, of, experience,...</td>\n",
       "    </tr>\n",
       "  </tbody>\n",
       "</table>\n",
       "<p>5329 rows × 6 columns</p>\n",
       "</div>"
      ],
      "text/plain": [
       "      index    subreddit                                           selftext  \\\n",
       "0         0    bicycling                                                NaN   \n",
       "1         1    bicycling                                                NaN   \n",
       "2         2    bicycling  Hi, so there's been a string of bike theft in ...   \n",
       "3         3    bicycling                                                NaN   \n",
       "4         4    bicycling                                                NaN   \n",
       "...     ...          ...                                                ...   \n",
       "5324   5381  motorcycles  &amp;#x200B;\\n\\n*Processing video sdt716bel5c9...   \n",
       "5325   5382  motorcycles  Hello motorcycle community,\\n\\nMy father is tu...   \n",
       "5326   5383  motorcycles                                                NaN   \n",
       "5327   5384  motorcycles  I resently got myself new goggles for riding a...   \n",
       "5328   5385  motorcycles  I’ve have a good amount of experience of ridin...   \n",
       "\n",
       "                                                  title  \\\n",
       "0                                    $10 off any RoadID   \n",
       "1     Is this a good deal on a bike? It’s a Fuji Thr...   \n",
       "2                                 Preventing Bike Theft   \n",
       "3     Specialized Hardrock. Winnipeg Red River singl...   \n",
       "4     Specialized Hardrock. Winnipeg Red river Canop...   \n",
       "...                                                 ...   \n",
       "5324  Race at Laguna Seca wait for the last group to...   \n",
       "5325     Question about motorcycle license from a noob!   \n",
       "5326  Tested my dad’s Vfr 800 Fi yesterday and i had...   \n",
       "5327                                Car was for goggles   \n",
       "5328  Is the Yamaha R7 the right choice for a Semi-B...   \n",
       "\n",
       "                                                   text  \\\n",
       "0                                    $10 off any RoadID   \n",
       "1     Is this a good deal on a bike? It’s a Fuji Thr...   \n",
       "2     Hi, so there's been a string of bike theft in ...   \n",
       "3     Specialized Hardrock. Winnipeg Red River singl...   \n",
       "4     Specialized Hardrock. Winnipeg Red river Canop...   \n",
       "...                                                 ...   \n",
       "5324  &amp;#x200B;\\n\\n*Processing video sdt716bel5c9...   \n",
       "5325  Hello motorcycle community,\\n\\nMy father is tu...   \n",
       "5326  Tested my dad’s Vfr 800 Fi yesterday and i had...   \n",
       "5327  I resently got myself new goggles for riding a...   \n",
       "5328  I’ve have a good amount of experience of ridin...   \n",
       "\n",
       "                                                 tokens  \n",
       "0                                [10, off, any, roadid]  \n",
       "1     [is, this, a, good, deal, on, a, bike, it, s, ...  \n",
       "2     [hi, so, there, s, been, a, string, of, bike, ...  \n",
       "3     [specialized, hardrock, winnipeg, red, river, ...  \n",
       "4     [specialized, hardrock, winnipeg, red, river, ...  \n",
       "...                                                 ...  \n",
       "5324  [amp, x200b, processing, video, sdt716bel5c91,...  \n",
       "5325  [hello, motorcycle, community, my, father, is,...  \n",
       "5326  [tested, my, dad, s, vfr, 800, fi, yesterday, ...  \n",
       "5327  [i, resently, got, myself, new, goggles, for, ...  \n",
       "5328  [i, ve, have, a, good, amount, of, experience,...  \n",
       "\n",
       "[5329 rows x 6 columns]"
      ]
     },
     "execution_count": 16,
     "metadata": {},
     "output_type": "execute_result"
    }
   ],
   "source": [
    "# Remove rows if tokens in row are empty\n",
    "df = df[df['tokens'].apply(lambda x: len(x)!=0)]\n",
    "df.reset_index()"
   ]
  },
  {
   "cell_type": "code",
   "execution_count": 17,
   "id": "f0874eb8",
   "metadata": {},
   "outputs": [
    {
     "data": {
      "text/plain": [
       "subreddit       0\n",
       "selftext     2234\n",
       "title           0\n",
       "text            0\n",
       "tokens          0\n",
       "dtype: int64"
      ]
     },
     "execution_count": 17,
     "metadata": {},
     "output_type": "execute_result"
    }
   ],
   "source": [
    "df.isnull().sum()"
   ]
  },
  {
   "cell_type": "code",
   "execution_count": 18,
   "id": "e62a3634",
   "metadata": {
    "scrolled": false
   },
   "outputs": [
    {
     "data": {
      "text/plain": [
       "(5329, 5)"
      ]
     },
     "execution_count": 18,
     "metadata": {},
     "output_type": "execute_result"
    }
   ],
   "source": [
    "df.shape"
   ]
  },
  {
   "cell_type": "code",
   "execution_count": 19,
   "id": "322885fd",
   "metadata": {
    "scrolled": true
   },
   "outputs": [
    {
     "data": {
      "text/plain": [
       "bicycling      0.535185\n",
       "motorcycles    0.464815\n",
       "Name: subreddit, dtype: float64"
      ]
     },
     "execution_count": 19,
     "metadata": {},
     "output_type": "execute_result"
    }
   ],
   "source": [
    "df.subreddit.value_counts(normalize=True)"
   ]
  },
  {
   "cell_type": "markdown",
   "id": "70671a84",
   "metadata": {},
   "source": [
    "We have a fairly balanced dataset where both sets of labels are well-represented. The imbalance is not too great."
   ]
  },
  {
   "cell_type": "markdown",
   "id": "b972117e",
   "metadata": {},
   "source": [
    "## Stop Words Removal\n",
    "*Back to [Contents](#Contents:)*"
   ]
  },
  {
   "cell_type": "markdown",
   "id": "40bb38bb",
   "metadata": {},
   "source": [
    "Stop words are common words, such as \"a\" and \"the\", are removed to increase the performance of the classifier model. Since stop words occur in abundance, they provide little to no unique information that can be used for classification or clustering."
   ]
  },
  {
   "cell_type": "code",
   "execution_count": 20,
   "id": "9375f31d",
   "metadata": {},
   "outputs": [],
   "source": [
    "# Remove general stopwords in the english language \n",
    "# Remove additional stop words\n",
    "\n",
    "add_stop = ['bicycle', 'bicycles', 'bicycling', 'cyclist', 'cyclists', 'cycling',\n",
    "            'motorcycle', 'motorcycles', 'motorbike', 'motorbikes', 'motor']\n",
    "\n",
    "stoplist = stopwords.words('english') + add_stop\n",
    "\n",
    "df['cleaned_tokens'] = df['tokens'].apply(lambda row: [word for word in row if word not in stoplist])"
   ]
  },
  {
   "cell_type": "code",
   "execution_count": 21,
   "id": "3fae3785",
   "metadata": {},
   "outputs": [
    {
     "data": {
      "text/html": [
       "<div>\n",
       "<style scoped>\n",
       "    .dataframe tbody tr th:only-of-type {\n",
       "        vertical-align: middle;\n",
       "    }\n",
       "\n",
       "    .dataframe tbody tr th {\n",
       "        vertical-align: top;\n",
       "    }\n",
       "\n",
       "    .dataframe thead th {\n",
       "        text-align: right;\n",
       "    }\n",
       "</style>\n",
       "<table border=\"1\" class=\"dataframe\">\n",
       "  <thead>\n",
       "    <tr style=\"text-align: right;\">\n",
       "      <th></th>\n",
       "      <th>subreddit</th>\n",
       "      <th>selftext</th>\n",
       "      <th>title</th>\n",
       "      <th>text</th>\n",
       "      <th>tokens</th>\n",
       "      <th>cleaned_tokens</th>\n",
       "    </tr>\n",
       "  </thead>\n",
       "  <tbody>\n",
       "    <tr>\n",
       "      <th>0</th>\n",
       "      <td>bicycling</td>\n",
       "      <td>NaN</td>\n",
       "      <td>$10 off any RoadID</td>\n",
       "      <td>$10 off any RoadID</td>\n",
       "      <td>[10, off, any, roadid]</td>\n",
       "      <td>[10, roadid]</td>\n",
       "    </tr>\n",
       "    <tr>\n",
       "      <th>1</th>\n",
       "      <td>bicycling</td>\n",
       "      <td>NaN</td>\n",
       "      <td>Is this a good deal on a bike? It’s a Fuji Thr...</td>\n",
       "      <td>Is this a good deal on a bike? It’s a Fuji Thr...</td>\n",
       "      <td>[is, this, a, good, deal, on, a, bike, it, s, ...</td>\n",
       "      <td>[good, deal, bike, fuji, thrill, se, mountain,...</td>\n",
       "    </tr>\n",
       "    <tr>\n",
       "      <th>2</th>\n",
       "      <td>bicycling</td>\n",
       "      <td>Hi, so there's been a string of bike theft in ...</td>\n",
       "      <td>Preventing Bike Theft</td>\n",
       "      <td>Hi, so there's been a string of bike theft in ...</td>\n",
       "      <td>[hi, so, there, s, been, a, string, of, bike, ...</td>\n",
       "      <td>[hi, string, bike, theft, apartment, garage, t...</td>\n",
       "    </tr>\n",
       "    <tr>\n",
       "      <th>3</th>\n",
       "      <td>bicycling</td>\n",
       "      <td>NaN</td>\n",
       "      <td>Specialized Hardrock. Winnipeg Red River singl...</td>\n",
       "      <td>Specialized Hardrock. Winnipeg Red River singl...</td>\n",
       "      <td>[specialized, hardrock, winnipeg, red, river, ...</td>\n",
       "      <td>[specialized, hardrock, winnipeg, red, river, ...</td>\n",
       "    </tr>\n",
       "    <tr>\n",
       "      <th>4</th>\n",
       "      <td>bicycling</td>\n",
       "      <td>NaN</td>\n",
       "      <td>Specialized Hardrock. Winnipeg Red river Canop...</td>\n",
       "      <td>Specialized Hardrock. Winnipeg Red river Canop...</td>\n",
       "      <td>[specialized, hardrock, winnipeg, red, river, ...</td>\n",
       "      <td>[specialized, hardrock, winnipeg, red, river, ...</td>\n",
       "    </tr>\n",
       "    <tr>\n",
       "      <th>...</th>\n",
       "      <td>...</td>\n",
       "      <td>...</td>\n",
       "      <td>...</td>\n",
       "      <td>...</td>\n",
       "      <td>...</td>\n",
       "      <td>...</td>\n",
       "    </tr>\n",
       "    <tr>\n",
       "      <th>5381</th>\n",
       "      <td>motorcycles</td>\n",
       "      <td>&amp;amp;#x200B;\\n\\n*Processing video sdt716bel5c9...</td>\n",
       "      <td>Race at Laguna Seca wait for the last group to...</td>\n",
       "      <td>&amp;amp;#x200B;\\n\\n*Processing video sdt716bel5c9...</td>\n",
       "      <td>[amp, x200b, processing, video, sdt716bel5c91,...</td>\n",
       "      <td>[amp, x200b, processing, video, sdt716bel5c91,...</td>\n",
       "    </tr>\n",
       "    <tr>\n",
       "      <th>5382</th>\n",
       "      <td>motorcycles</td>\n",
       "      <td>Hello motorcycle community,\\n\\nMy father is tu...</td>\n",
       "      <td>Question about motorcycle license from a noob!</td>\n",
       "      <td>Hello motorcycle community,\\n\\nMy father is tu...</td>\n",
       "      <td>[hello, motorcycle, community, my, father, is,...</td>\n",
       "      <td>[hello, community, father, turning, 60, year, ...</td>\n",
       "    </tr>\n",
       "    <tr>\n",
       "      <th>5383</th>\n",
       "      <td>motorcycles</td>\n",
       "      <td>NaN</td>\n",
       "      <td>Tested my dad’s Vfr 800 Fi yesterday and i had...</td>\n",
       "      <td>Tested my dad’s Vfr 800 Fi yesterday and i had...</td>\n",
       "      <td>[tested, my, dad, s, vfr, 800, fi, yesterday, ...</td>\n",
       "      <td>[tested, dad, vfr, 800, fi, yesterday, blast]</td>\n",
       "    </tr>\n",
       "    <tr>\n",
       "      <th>5384</th>\n",
       "      <td>motorcycles</td>\n",
       "      <td>I resently got myself new goggles for riding a...</td>\n",
       "      <td>Car was for goggles</td>\n",
       "      <td>I resently got myself new goggles for riding a...</td>\n",
       "      <td>[i, resently, got, myself, new, goggles, for, ...</td>\n",
       "      <td>[resently, got, new, goggles, riding, seem, ge...</td>\n",
       "    </tr>\n",
       "    <tr>\n",
       "      <th>5385</th>\n",
       "      <td>motorcycles</td>\n",
       "      <td>I’ve have a good amount of experience of ridin...</td>\n",
       "      <td>Is the Yamaha R7 the right choice for a Semi-B...</td>\n",
       "      <td>I’ve have a good amount of experience of ridin...</td>\n",
       "      <td>[i, ve, have, a, good, amount, of, experience,...</td>\n",
       "      <td>[good, amount, experience, riding, 250cc, want...</td>\n",
       "    </tr>\n",
       "  </tbody>\n",
       "</table>\n",
       "<p>5329 rows × 6 columns</p>\n",
       "</div>"
      ],
      "text/plain": [
       "        subreddit                                           selftext  \\\n",
       "0       bicycling                                                NaN   \n",
       "1       bicycling                                                NaN   \n",
       "2       bicycling  Hi, so there's been a string of bike theft in ...   \n",
       "3       bicycling                                                NaN   \n",
       "4       bicycling                                                NaN   \n",
       "...           ...                                                ...   \n",
       "5381  motorcycles  &amp;#x200B;\\n\\n*Processing video sdt716bel5c9...   \n",
       "5382  motorcycles  Hello motorcycle community,\\n\\nMy father is tu...   \n",
       "5383  motorcycles                                                NaN   \n",
       "5384  motorcycles  I resently got myself new goggles for riding a...   \n",
       "5385  motorcycles  I’ve have a good amount of experience of ridin...   \n",
       "\n",
       "                                                  title  \\\n",
       "0                                    $10 off any RoadID   \n",
       "1     Is this a good deal on a bike? It’s a Fuji Thr...   \n",
       "2                                 Preventing Bike Theft   \n",
       "3     Specialized Hardrock. Winnipeg Red River singl...   \n",
       "4     Specialized Hardrock. Winnipeg Red river Canop...   \n",
       "...                                                 ...   \n",
       "5381  Race at Laguna Seca wait for the last group to...   \n",
       "5382     Question about motorcycle license from a noob!   \n",
       "5383  Tested my dad’s Vfr 800 Fi yesterday and i had...   \n",
       "5384                                Car was for goggles   \n",
       "5385  Is the Yamaha R7 the right choice for a Semi-B...   \n",
       "\n",
       "                                                   text  \\\n",
       "0                                    $10 off any RoadID   \n",
       "1     Is this a good deal on a bike? It’s a Fuji Thr...   \n",
       "2     Hi, so there's been a string of bike theft in ...   \n",
       "3     Specialized Hardrock. Winnipeg Red River singl...   \n",
       "4     Specialized Hardrock. Winnipeg Red river Canop...   \n",
       "...                                                 ...   \n",
       "5381  &amp;#x200B;\\n\\n*Processing video sdt716bel5c9...   \n",
       "5382  Hello motorcycle community,\\n\\nMy father is tu...   \n",
       "5383  Tested my dad’s Vfr 800 Fi yesterday and i had...   \n",
       "5384  I resently got myself new goggles for riding a...   \n",
       "5385  I’ve have a good amount of experience of ridin...   \n",
       "\n",
       "                                                 tokens  \\\n",
       "0                                [10, off, any, roadid]   \n",
       "1     [is, this, a, good, deal, on, a, bike, it, s, ...   \n",
       "2     [hi, so, there, s, been, a, string, of, bike, ...   \n",
       "3     [specialized, hardrock, winnipeg, red, river, ...   \n",
       "4     [specialized, hardrock, winnipeg, red, river, ...   \n",
       "...                                                 ...   \n",
       "5381  [amp, x200b, processing, video, sdt716bel5c91,...   \n",
       "5382  [hello, motorcycle, community, my, father, is,...   \n",
       "5383  [tested, my, dad, s, vfr, 800, fi, yesterday, ...   \n",
       "5384  [i, resently, got, myself, new, goggles, for, ...   \n",
       "5385  [i, ve, have, a, good, amount, of, experience,...   \n",
       "\n",
       "                                         cleaned_tokens  \n",
       "0                                          [10, roadid]  \n",
       "1     [good, deal, bike, fuji, thrill, se, mountain,...  \n",
       "2     [hi, string, bike, theft, apartment, garage, t...  \n",
       "3     [specialized, hardrock, winnipeg, red, river, ...  \n",
       "4     [specialized, hardrock, winnipeg, red, river, ...  \n",
       "...                                                 ...  \n",
       "5381  [amp, x200b, processing, video, sdt716bel5c91,...  \n",
       "5382  [hello, community, father, turning, 60, year, ...  \n",
       "5383      [tested, dad, vfr, 800, fi, yesterday, blast]  \n",
       "5384  [resently, got, new, goggles, riding, seem, ge...  \n",
       "5385  [good, amount, experience, riding, 250cc, want...  \n",
       "\n",
       "[5329 rows x 6 columns]"
      ]
     },
     "execution_count": 21,
     "metadata": {},
     "output_type": "execute_result"
    }
   ],
   "source": [
    "df"
   ]
  },
  {
   "cell_type": "markdown",
   "id": "e4e222be",
   "metadata": {},
   "source": [
    "## Porter Stemming\n",
    "*Back to [Contents](#Contents:)*"
   ]
  },
  {
   "cell_type": "markdown",
   "id": "78b28bfd",
   "metadata": {},
   "source": [
    "We will improve the modeling ability of our strings by using a stemmer, which trims characters from each word to convert it to a stem. Words will register as equivalent during feature extraction if they share a stem (e.g. computer, computing, computed all result in a stem of comput).\n",
    "\n",
    "We will use the PorterStemmer class from the nltk library."
   ]
  },
  {
   "cell_type": "code",
   "execution_count": 22,
   "id": "752a2727",
   "metadata": {},
   "outputs": [],
   "source": [
    "ps = PorterStemmer()"
   ]
  },
  {
   "cell_type": "code",
   "execution_count": 23,
   "id": "e6d5a809",
   "metadata": {},
   "outputs": [],
   "source": [
    "# Define function to stem a list of words\n",
    "def stem_token(word_list):\n",
    "    return [ps.stem(word) for word in word_list]"
   ]
  },
  {
   "cell_type": "code",
   "execution_count": 24,
   "id": "8b8356fa",
   "metadata": {},
   "outputs": [],
   "source": [
    "df['stem_tokens'] = df['tokens'].apply(stem_token)"
   ]
  },
  {
   "cell_type": "code",
   "execution_count": 25,
   "id": "a1432eaf",
   "metadata": {},
   "outputs": [
    {
     "data": {
      "text/html": [
       "<div>\n",
       "<style scoped>\n",
       "    .dataframe tbody tr th:only-of-type {\n",
       "        vertical-align: middle;\n",
       "    }\n",
       "\n",
       "    .dataframe tbody tr th {\n",
       "        vertical-align: top;\n",
       "    }\n",
       "\n",
       "    .dataframe thead th {\n",
       "        text-align: right;\n",
       "    }\n",
       "</style>\n",
       "<table border=\"1\" class=\"dataframe\">\n",
       "  <thead>\n",
       "    <tr style=\"text-align: right;\">\n",
       "      <th></th>\n",
       "      <th>subreddit</th>\n",
       "      <th>selftext</th>\n",
       "      <th>title</th>\n",
       "      <th>text</th>\n",
       "      <th>tokens</th>\n",
       "      <th>cleaned_tokens</th>\n",
       "      <th>stem_tokens</th>\n",
       "    </tr>\n",
       "  </thead>\n",
       "  <tbody>\n",
       "    <tr>\n",
       "      <th>0</th>\n",
       "      <td>bicycling</td>\n",
       "      <td>NaN</td>\n",
       "      <td>$10 off any RoadID</td>\n",
       "      <td>$10 off any RoadID</td>\n",
       "      <td>[10, off, any, roadid]</td>\n",
       "      <td>[10, roadid]</td>\n",
       "      <td>[10, off, ani, roadid]</td>\n",
       "    </tr>\n",
       "    <tr>\n",
       "      <th>1</th>\n",
       "      <td>bicycling</td>\n",
       "      <td>NaN</td>\n",
       "      <td>Is this a good deal on a bike? It’s a Fuji Thr...</td>\n",
       "      <td>Is this a good deal on a bike? It’s a Fuji Thr...</td>\n",
       "      <td>[is, this, a, good, deal, on, a, bike, it, s, ...</td>\n",
       "      <td>[good, deal, bike, fuji, thrill, se, mountain,...</td>\n",
       "      <td>[is, thi, a, good, deal, on, a, bike, it, s, a...</td>\n",
       "    </tr>\n",
       "    <tr>\n",
       "      <th>2</th>\n",
       "      <td>bicycling</td>\n",
       "      <td>Hi, so there's been a string of bike theft in ...</td>\n",
       "      <td>Preventing Bike Theft</td>\n",
       "      <td>Hi, so there's been a string of bike theft in ...</td>\n",
       "      <td>[hi, so, there, s, been, a, string, of, bike, ...</td>\n",
       "      <td>[hi, string, bike, theft, apartment, garage, t...</td>\n",
       "      <td>[hi, so, there, s, been, a, string, of, bike, ...</td>\n",
       "    </tr>\n",
       "    <tr>\n",
       "      <th>3</th>\n",
       "      <td>bicycling</td>\n",
       "      <td>NaN</td>\n",
       "      <td>Specialized Hardrock. Winnipeg Red River singl...</td>\n",
       "      <td>Specialized Hardrock. Winnipeg Red River singl...</td>\n",
       "      <td>[specialized, hardrock, winnipeg, red, river, ...</td>\n",
       "      <td>[specialized, hardrock, winnipeg, red, river, ...</td>\n",
       "      <td>[special, hardrock, winnipeg, red, river, sing...</td>\n",
       "    </tr>\n",
       "    <tr>\n",
       "      <th>4</th>\n",
       "      <td>bicycling</td>\n",
       "      <td>NaN</td>\n",
       "      <td>Specialized Hardrock. Winnipeg Red river Canop...</td>\n",
       "      <td>Specialized Hardrock. Winnipeg Red river Canop...</td>\n",
       "      <td>[specialized, hardrock, winnipeg, red, river, ...</td>\n",
       "      <td>[specialized, hardrock, winnipeg, red, river, ...</td>\n",
       "      <td>[special, hardrock, winnipeg, red, river, cano...</td>\n",
       "    </tr>\n",
       "  </tbody>\n",
       "</table>\n",
       "</div>"
      ],
      "text/plain": [
       "   subreddit                                           selftext  \\\n",
       "0  bicycling                                                NaN   \n",
       "1  bicycling                                                NaN   \n",
       "2  bicycling  Hi, so there's been a string of bike theft in ...   \n",
       "3  bicycling                                                NaN   \n",
       "4  bicycling                                                NaN   \n",
       "\n",
       "                                               title  \\\n",
       "0                                 $10 off any RoadID   \n",
       "1  Is this a good deal on a bike? It’s a Fuji Thr...   \n",
       "2                              Preventing Bike Theft   \n",
       "3  Specialized Hardrock. Winnipeg Red River singl...   \n",
       "4  Specialized Hardrock. Winnipeg Red river Canop...   \n",
       "\n",
       "                                                text  \\\n",
       "0                                 $10 off any RoadID   \n",
       "1  Is this a good deal on a bike? It’s a Fuji Thr...   \n",
       "2  Hi, so there's been a string of bike theft in ...   \n",
       "3  Specialized Hardrock. Winnipeg Red River singl...   \n",
       "4  Specialized Hardrock. Winnipeg Red river Canop...   \n",
       "\n",
       "                                              tokens  \\\n",
       "0                             [10, off, any, roadid]   \n",
       "1  [is, this, a, good, deal, on, a, bike, it, s, ...   \n",
       "2  [hi, so, there, s, been, a, string, of, bike, ...   \n",
       "3  [specialized, hardrock, winnipeg, red, river, ...   \n",
       "4  [specialized, hardrock, winnipeg, red, river, ...   \n",
       "\n",
       "                                      cleaned_tokens  \\\n",
       "0                                       [10, roadid]   \n",
       "1  [good, deal, bike, fuji, thrill, se, mountain,...   \n",
       "2  [hi, string, bike, theft, apartment, garage, t...   \n",
       "3  [specialized, hardrock, winnipeg, red, river, ...   \n",
       "4  [specialized, hardrock, winnipeg, red, river, ...   \n",
       "\n",
       "                                         stem_tokens  \n",
       "0                             [10, off, ani, roadid]  \n",
       "1  [is, thi, a, good, deal, on, a, bike, it, s, a...  \n",
       "2  [hi, so, there, s, been, a, string, of, bike, ...  \n",
       "3  [special, hardrock, winnipeg, red, river, sing...  \n",
       "4  [special, hardrock, winnipeg, red, river, cano...  "
      ]
     },
     "execution_count": 25,
     "metadata": {},
     "output_type": "execute_result"
    }
   ],
   "source": [
    "df.head()"
   ]
  },
  {
   "cell_type": "markdown",
   "id": "69fc48e6",
   "metadata": {},
   "source": [
    "## Lemmatizer\n",
    "*Back to [Contents](#Contents:)*"
   ]
  },
  {
   "cell_type": "code",
   "execution_count": 26,
   "id": "dda3634a",
   "metadata": {},
   "outputs": [],
   "source": [
    "lem = WordNetLemmatizer()"
   ]
  },
  {
   "cell_type": "code",
   "execution_count": 27,
   "id": "cfc698fc",
   "metadata": {},
   "outputs": [],
   "source": [
    "# Define function to lemmatize a list of words\n",
    "def lem_tokens(word_list):\n",
    "    return [lem.lemmatize(word) for word in word_list]"
   ]
  },
  {
   "cell_type": "code",
   "execution_count": 28,
   "id": "9660d1dd",
   "metadata": {},
   "outputs": [],
   "source": [
    "df['lem_tokens'] = df['tokens'].apply(lem_tokens)"
   ]
  },
  {
   "cell_type": "code",
   "execution_count": 29,
   "id": "fc022090",
   "metadata": {
    "scrolled": true
   },
   "outputs": [
    {
     "data": {
      "text/html": [
       "<div>\n",
       "<style scoped>\n",
       "    .dataframe tbody tr th:only-of-type {\n",
       "        vertical-align: middle;\n",
       "    }\n",
       "\n",
       "    .dataframe tbody tr th {\n",
       "        vertical-align: top;\n",
       "    }\n",
       "\n",
       "    .dataframe thead th {\n",
       "        text-align: right;\n",
       "    }\n",
       "</style>\n",
       "<table border=\"1\" class=\"dataframe\">\n",
       "  <thead>\n",
       "    <tr style=\"text-align: right;\">\n",
       "      <th></th>\n",
       "      <th>subreddit</th>\n",
       "      <th>selftext</th>\n",
       "      <th>title</th>\n",
       "      <th>text</th>\n",
       "      <th>tokens</th>\n",
       "      <th>cleaned_tokens</th>\n",
       "      <th>stem_tokens</th>\n",
       "      <th>lem_tokens</th>\n",
       "    </tr>\n",
       "  </thead>\n",
       "  <tbody>\n",
       "    <tr>\n",
       "      <th>0</th>\n",
       "      <td>bicycling</td>\n",
       "      <td>NaN</td>\n",
       "      <td>$10 off any RoadID</td>\n",
       "      <td>$10 off any RoadID</td>\n",
       "      <td>[10, off, any, roadid]</td>\n",
       "      <td>[10, roadid]</td>\n",
       "      <td>[10, off, ani, roadid]</td>\n",
       "      <td>[10, off, any, roadid]</td>\n",
       "    </tr>\n",
       "    <tr>\n",
       "      <th>1</th>\n",
       "      <td>bicycling</td>\n",
       "      <td>NaN</td>\n",
       "      <td>Is this a good deal on a bike? It’s a Fuji Thr...</td>\n",
       "      <td>Is this a good deal on a bike? It’s a Fuji Thr...</td>\n",
       "      <td>[is, this, a, good, deal, on, a, bike, it, s, ...</td>\n",
       "      <td>[good, deal, bike, fuji, thrill, se, mountain,...</td>\n",
       "      <td>[is, thi, a, good, deal, on, a, bike, it, s, a...</td>\n",
       "      <td>[is, this, a, good, deal, on, a, bike, it, s, ...</td>\n",
       "    </tr>\n",
       "    <tr>\n",
       "      <th>2</th>\n",
       "      <td>bicycling</td>\n",
       "      <td>Hi, so there's been a string of bike theft in ...</td>\n",
       "      <td>Preventing Bike Theft</td>\n",
       "      <td>Hi, so there's been a string of bike theft in ...</td>\n",
       "      <td>[hi, so, there, s, been, a, string, of, bike, ...</td>\n",
       "      <td>[hi, string, bike, theft, apartment, garage, t...</td>\n",
       "      <td>[hi, so, there, s, been, a, string, of, bike, ...</td>\n",
       "      <td>[hi, so, there, s, been, a, string, of, bike, ...</td>\n",
       "    </tr>\n",
       "    <tr>\n",
       "      <th>3</th>\n",
       "      <td>bicycling</td>\n",
       "      <td>NaN</td>\n",
       "      <td>Specialized Hardrock. Winnipeg Red River singl...</td>\n",
       "      <td>Specialized Hardrock. Winnipeg Red River singl...</td>\n",
       "      <td>[specialized, hardrock, winnipeg, red, river, ...</td>\n",
       "      <td>[specialized, hardrock, winnipeg, red, river, ...</td>\n",
       "      <td>[special, hardrock, winnipeg, red, river, sing...</td>\n",
       "      <td>[specialized, hardrock, winnipeg, red, river, ...</td>\n",
       "    </tr>\n",
       "    <tr>\n",
       "      <th>4</th>\n",
       "      <td>bicycling</td>\n",
       "      <td>NaN</td>\n",
       "      <td>Specialized Hardrock. Winnipeg Red river Canop...</td>\n",
       "      <td>Specialized Hardrock. Winnipeg Red river Canop...</td>\n",
       "      <td>[specialized, hardrock, winnipeg, red, river, ...</td>\n",
       "      <td>[specialized, hardrock, winnipeg, red, river, ...</td>\n",
       "      <td>[special, hardrock, winnipeg, red, river, cano...</td>\n",
       "      <td>[specialized, hardrock, winnipeg, red, river, ...</td>\n",
       "    </tr>\n",
       "  </tbody>\n",
       "</table>\n",
       "</div>"
      ],
      "text/plain": [
       "   subreddit                                           selftext  \\\n",
       "0  bicycling                                                NaN   \n",
       "1  bicycling                                                NaN   \n",
       "2  bicycling  Hi, so there's been a string of bike theft in ...   \n",
       "3  bicycling                                                NaN   \n",
       "4  bicycling                                                NaN   \n",
       "\n",
       "                                               title  \\\n",
       "0                                 $10 off any RoadID   \n",
       "1  Is this a good deal on a bike? It’s a Fuji Thr...   \n",
       "2                              Preventing Bike Theft   \n",
       "3  Specialized Hardrock. Winnipeg Red River singl...   \n",
       "4  Specialized Hardrock. Winnipeg Red river Canop...   \n",
       "\n",
       "                                                text  \\\n",
       "0                                 $10 off any RoadID   \n",
       "1  Is this a good deal on a bike? It’s a Fuji Thr...   \n",
       "2  Hi, so there's been a string of bike theft in ...   \n",
       "3  Specialized Hardrock. Winnipeg Red River singl...   \n",
       "4  Specialized Hardrock. Winnipeg Red river Canop...   \n",
       "\n",
       "                                              tokens  \\\n",
       "0                             [10, off, any, roadid]   \n",
       "1  [is, this, a, good, deal, on, a, bike, it, s, ...   \n",
       "2  [hi, so, there, s, been, a, string, of, bike, ...   \n",
       "3  [specialized, hardrock, winnipeg, red, river, ...   \n",
       "4  [specialized, hardrock, winnipeg, red, river, ...   \n",
       "\n",
       "                                      cleaned_tokens  \\\n",
       "0                                       [10, roadid]   \n",
       "1  [good, deal, bike, fuji, thrill, se, mountain,...   \n",
       "2  [hi, string, bike, theft, apartment, garage, t...   \n",
       "3  [specialized, hardrock, winnipeg, red, river, ...   \n",
       "4  [specialized, hardrock, winnipeg, red, river, ...   \n",
       "\n",
       "                                         stem_tokens  \\\n",
       "0                             [10, off, ani, roadid]   \n",
       "1  [is, thi, a, good, deal, on, a, bike, it, s, a...   \n",
       "2  [hi, so, there, s, been, a, string, of, bike, ...   \n",
       "3  [special, hardrock, winnipeg, red, river, sing...   \n",
       "4  [special, hardrock, winnipeg, red, river, cano...   \n",
       "\n",
       "                                          lem_tokens  \n",
       "0                             [10, off, any, roadid]  \n",
       "1  [is, this, a, good, deal, on, a, bike, it, s, ...  \n",
       "2  [hi, so, there, s, been, a, string, of, bike, ...  \n",
       "3  [specialized, hardrock, winnipeg, red, river, ...  \n",
       "4  [specialized, hardrock, winnipeg, red, river, ...  "
      ]
     },
     "execution_count": 29,
     "metadata": {},
     "output_type": "execute_result"
    }
   ],
   "source": [
    "df.head()"
   ]
  },
  {
   "cell_type": "markdown",
   "id": "82e476c9",
   "metadata": {},
   "source": [
    "## Feature Engineering\n",
    "- Create new features: text word length and text character length\n",
    "- Not doing much with these, just for exploration purposes\n",
    "\n",
    "*Back to [Contents](#Contents:)*"
   ]
  },
  {
   "cell_type": "code",
   "execution_count": 30,
   "id": "51282655",
   "metadata": {},
   "outputs": [],
   "source": [
    "df['text_char_len'] = df['text'].apply(len)\n",
    "df['text_word_len'] = df['text'].apply(lambda x: len(x.split()))"
   ]
  },
  {
   "cell_type": "code",
   "execution_count": 31,
   "id": "5e459d03",
   "metadata": {},
   "outputs": [
    {
     "data": {
      "text/html": [
       "<div>\n",
       "<style scoped>\n",
       "    .dataframe tbody tr th:only-of-type {\n",
       "        vertical-align: middle;\n",
       "    }\n",
       "\n",
       "    .dataframe tbody tr th {\n",
       "        vertical-align: top;\n",
       "    }\n",
       "\n",
       "    .dataframe thead th {\n",
       "        text-align: right;\n",
       "    }\n",
       "</style>\n",
       "<table border=\"1\" class=\"dataframe\">\n",
       "  <thead>\n",
       "    <tr style=\"text-align: right;\">\n",
       "      <th></th>\n",
       "      <th>subreddit</th>\n",
       "      <th>selftext</th>\n",
       "      <th>title</th>\n",
       "      <th>text</th>\n",
       "      <th>tokens</th>\n",
       "      <th>cleaned_tokens</th>\n",
       "      <th>stem_tokens</th>\n",
       "      <th>lem_tokens</th>\n",
       "      <th>text_char_len</th>\n",
       "      <th>text_word_len</th>\n",
       "    </tr>\n",
       "  </thead>\n",
       "  <tbody>\n",
       "    <tr>\n",
       "      <th>0</th>\n",
       "      <td>bicycling</td>\n",
       "      <td>NaN</td>\n",
       "      <td>$10 off any RoadID</td>\n",
       "      <td>$10 off any RoadID</td>\n",
       "      <td>[10, off, any, roadid]</td>\n",
       "      <td>[10, roadid]</td>\n",
       "      <td>[10, off, ani, roadid]</td>\n",
       "      <td>[10, off, any, roadid]</td>\n",
       "      <td>18</td>\n",
       "      <td>4</td>\n",
       "    </tr>\n",
       "    <tr>\n",
       "      <th>1</th>\n",
       "      <td>bicycling</td>\n",
       "      <td>NaN</td>\n",
       "      <td>Is this a good deal on a bike? It’s a Fuji Thr...</td>\n",
       "      <td>Is this a good deal on a bike? It’s a Fuji Thr...</td>\n",
       "      <td>[is, this, a, good, deal, on, a, bike, it, s, ...</td>\n",
       "      <td>[good, deal, bike, fuji, thrill, se, mountain,...</td>\n",
       "      <td>[is, thi, a, good, deal, on, a, bike, it, s, a...</td>\n",
       "      <td>[is, this, a, good, deal, on, a, bike, it, s, ...</td>\n",
       "      <td>143</td>\n",
       "      <td>30</td>\n",
       "    </tr>\n",
       "    <tr>\n",
       "      <th>2</th>\n",
       "      <td>bicycling</td>\n",
       "      <td>Hi, so there's been a string of bike theft in ...</td>\n",
       "      <td>Preventing Bike Theft</td>\n",
       "      <td>Hi, so there's been a string of bike theft in ...</td>\n",
       "      <td>[hi, so, there, s, been, a, string, of, bike, ...</td>\n",
       "      <td>[hi, string, bike, theft, apartment, garage, t...</td>\n",
       "      <td>[hi, so, there, s, been, a, string, of, bike, ...</td>\n",
       "      <td>[hi, so, there, s, been, a, string, of, bike, ...</td>\n",
       "      <td>661</td>\n",
       "      <td>128</td>\n",
       "    </tr>\n",
       "    <tr>\n",
       "      <th>3</th>\n",
       "      <td>bicycling</td>\n",
       "      <td>NaN</td>\n",
       "      <td>Specialized Hardrock. Winnipeg Red River singl...</td>\n",
       "      <td>Specialized Hardrock. Winnipeg Red River singl...</td>\n",
       "      <td>[specialized, hardrock, winnipeg, red, river, ...</td>\n",
       "      <td>[specialized, hardrock, winnipeg, red, river, ...</td>\n",
       "      <td>[special, hardrock, winnipeg, red, river, sing...</td>\n",
       "      <td>[specialized, hardrock, winnipeg, red, river, ...</td>\n",
       "      <td>58</td>\n",
       "      <td>8</td>\n",
       "    </tr>\n",
       "    <tr>\n",
       "      <th>4</th>\n",
       "      <td>bicycling</td>\n",
       "      <td>NaN</td>\n",
       "      <td>Specialized Hardrock. Winnipeg Red river Canop...</td>\n",
       "      <td>Specialized Hardrock. Winnipeg Red river Canop...</td>\n",
       "      <td>[specialized, hardrock, winnipeg, red, river, ...</td>\n",
       "      <td>[specialized, hardrock, winnipeg, red, river, ...</td>\n",
       "      <td>[special, hardrock, winnipeg, red, river, cano...</td>\n",
       "      <td>[specialized, hardrock, winnipeg, red, river, ...</td>\n",
       "      <td>65</td>\n",
       "      <td>9</td>\n",
       "    </tr>\n",
       "  </tbody>\n",
       "</table>\n",
       "</div>"
      ],
      "text/plain": [
       "   subreddit                                           selftext  \\\n",
       "0  bicycling                                                NaN   \n",
       "1  bicycling                                                NaN   \n",
       "2  bicycling  Hi, so there's been a string of bike theft in ...   \n",
       "3  bicycling                                                NaN   \n",
       "4  bicycling                                                NaN   \n",
       "\n",
       "                                               title  \\\n",
       "0                                 $10 off any RoadID   \n",
       "1  Is this a good deal on a bike? It’s a Fuji Thr...   \n",
       "2                              Preventing Bike Theft   \n",
       "3  Specialized Hardrock. Winnipeg Red River singl...   \n",
       "4  Specialized Hardrock. Winnipeg Red river Canop...   \n",
       "\n",
       "                                                text  \\\n",
       "0                                 $10 off any RoadID   \n",
       "1  Is this a good deal on a bike? It’s a Fuji Thr...   \n",
       "2  Hi, so there's been a string of bike theft in ...   \n",
       "3  Specialized Hardrock. Winnipeg Red River singl...   \n",
       "4  Specialized Hardrock. Winnipeg Red river Canop...   \n",
       "\n",
       "                                              tokens  \\\n",
       "0                             [10, off, any, roadid]   \n",
       "1  [is, this, a, good, deal, on, a, bike, it, s, ...   \n",
       "2  [hi, so, there, s, been, a, string, of, bike, ...   \n",
       "3  [specialized, hardrock, winnipeg, red, river, ...   \n",
       "4  [specialized, hardrock, winnipeg, red, river, ...   \n",
       "\n",
       "                                      cleaned_tokens  \\\n",
       "0                                       [10, roadid]   \n",
       "1  [good, deal, bike, fuji, thrill, se, mountain,...   \n",
       "2  [hi, string, bike, theft, apartment, garage, t...   \n",
       "3  [specialized, hardrock, winnipeg, red, river, ...   \n",
       "4  [specialized, hardrock, winnipeg, red, river, ...   \n",
       "\n",
       "                                         stem_tokens  \\\n",
       "0                             [10, off, ani, roadid]   \n",
       "1  [is, thi, a, good, deal, on, a, bike, it, s, a...   \n",
       "2  [hi, so, there, s, been, a, string, of, bike, ...   \n",
       "3  [special, hardrock, winnipeg, red, river, sing...   \n",
       "4  [special, hardrock, winnipeg, red, river, cano...   \n",
       "\n",
       "                                          lem_tokens  text_char_len  \\\n",
       "0                             [10, off, any, roadid]             18   \n",
       "1  [is, this, a, good, deal, on, a, bike, it, s, ...            143   \n",
       "2  [hi, so, there, s, been, a, string, of, bike, ...            661   \n",
       "3  [specialized, hardrock, winnipeg, red, river, ...             58   \n",
       "4  [specialized, hardrock, winnipeg, red, river, ...             65   \n",
       "\n",
       "   text_word_len  \n",
       "0              4  \n",
       "1             30  \n",
       "2            128  \n",
       "3              8  \n",
       "4              9  "
      ]
     },
     "execution_count": 31,
     "metadata": {},
     "output_type": "execute_result"
    }
   ],
   "source": [
    "df.head()"
   ]
  },
  {
   "cell_type": "markdown",
   "id": "632e3302",
   "metadata": {},
   "source": [
    "## EDA\n",
    "- WordCloud\n",
    "- Exploring word and character length of posts\n",
    "- Exploring stem and lem words\n",
    "\n",
    "*Back to [Contents](#Contents:)*"
   ]
  },
  {
   "cell_type": "markdown",
   "id": "8cdd9b2d",
   "metadata": {},
   "source": [
    "### WordCloud"
   ]
  },
  {
   "cell_type": "code",
   "execution_count": 32,
   "id": "171cc48d",
   "metadata": {},
   "outputs": [],
   "source": [
    "# Define function to draw word cloud\n",
    "def draw_wordcloud(text, plot_title=None):\n",
    "    \"\"\"\n",
    "    Generate and draw word cloud from text.\n",
    "    \n",
    "    Parameters\n",
    "    ----------\n",
    "    text : str\n",
    "        Text to generate word cloud from.\n",
    "    title : str\n",
    "        Title to set on plot\n",
    "    \"\"\"\n",
    "    \n",
    "    wordcloud = WordCloud(scale=5, max_words=1000, background_color='white',\n",
    "                          colormap='brg', contour_width=3, contour_color='steelblue',\n",
    "                          random_state=42).generate(text)\n",
    "    \n",
    "    plt.figure(figsize=(10,10), facecolor='white')\n",
    "    \n",
    "    # Display generated Word Cloud\n",
    "    plt.imshow(wordcloud, interpolation=\"bilinear\")\n",
    "    if plot_title:\n",
    "        plt.title(plot_title, fontsize=20, pad=50)\n",
    "    plt.axis(\"off\")\n",
    "    plt.show()"
   ]
  },
  {
   "cell_type": "code",
   "execution_count": 33,
   "id": "1671b81d",
   "metadata": {},
   "outputs": [
    {
     "data": {
      "image/png": "[encoded data removed]",
      "text/plain": [
       "<Figure size 720x720 with 1 Axes>"
      ]
     },
     "metadata": {},
     "output_type": "display_data"
    }
   ],
   "source": [
    "# Draw word cloud for bicycling\n",
    "draw_wordcloud(str(df[df.subreddit=='bicycling'].text),\n",
    "               plot_title='Word Cloud for /r/bicycling')"
   ]
  },
  {
   "cell_type": "code",
   "execution_count": 34,
   "id": "14b26061",
   "metadata": {},
   "outputs": [
    {
     "data": {
      "image/png": "[encoded data removed]",
      "text/plain": [
       "<Figure size 720x720 with 1 Axes>"
      ]
     },
     "metadata": {},
     "output_type": "display_data"
    }
   ],
   "source": [
    "# Draw word cloud for motorcycles\n",
    "draw_wordcloud(str(df[df.subreddit=='motorcycles'].text),\n",
    "               plot_title='Word Cloud for /r/motorcycles')"
   ]
  },
  {
   "cell_type": "markdown",
   "id": "25120d4c",
   "metadata": {},
   "source": [
    "The word clouds did not show much insights. Bicycling posts show that the audience need help and advice, while audiences in the motorcycles subreddit seem to be talking about the greatest of something, presumably motorcycles."
   ]
  },
  {
   "cell_type": "markdown",
   "id": "c76af7a7",
   "metadata": {},
   "source": [
    "### Exploring word and character length of posts"
   ]
  },
  {
   "cell_type": "code",
   "execution_count": 35,
   "id": "ad250a0f",
   "metadata": {},
   "outputs": [
    {
     "data": {
      "text/html": [
       "<div>\n",
       "<style scoped>\n",
       "    .dataframe tbody tr th:only-of-type {\n",
       "        vertical-align: middle;\n",
       "    }\n",
       "\n",
       "    .dataframe tbody tr th {\n",
       "        vertical-align: top;\n",
       "    }\n",
       "\n",
       "    .dataframe thead tr th {\n",
       "        text-align: left;\n",
       "    }\n",
       "\n",
       "    .dataframe thead tr:last-of-type th {\n",
       "        text-align: right;\n",
       "    }\n",
       "</style>\n",
       "<table border=\"1\" class=\"dataframe\">\n",
       "  <thead>\n",
       "    <tr>\n",
       "      <th></th>\n",
       "      <th colspan=\"8\" halign=\"left\">text_char_len</th>\n",
       "      <th colspan=\"8\" halign=\"left\">text_word_len</th>\n",
       "    </tr>\n",
       "    <tr>\n",
       "      <th></th>\n",
       "      <th>count</th>\n",
       "      <th>mean</th>\n",
       "      <th>std</th>\n",
       "      <th>min</th>\n",
       "      <th>25%</th>\n",
       "      <th>50%</th>\n",
       "      <th>75%</th>\n",
       "      <th>max</th>\n",
       "      <th>count</th>\n",
       "      <th>mean</th>\n",
       "      <th>std</th>\n",
       "      <th>min</th>\n",
       "      <th>25%</th>\n",
       "      <th>50%</th>\n",
       "      <th>75%</th>\n",
       "      <th>max</th>\n",
       "    </tr>\n",
       "    <tr>\n",
       "      <th>subreddit</th>\n",
       "      <th></th>\n",
       "      <th></th>\n",
       "      <th></th>\n",
       "      <th></th>\n",
       "      <th></th>\n",
       "      <th></th>\n",
       "      <th></th>\n",
       "      <th></th>\n",
       "      <th></th>\n",
       "      <th></th>\n",
       "      <th></th>\n",
       "      <th></th>\n",
       "      <th></th>\n",
       "      <th></th>\n",
       "      <th></th>\n",
       "      <th></th>\n",
       "    </tr>\n",
       "  </thead>\n",
       "  <tbody>\n",
       "    <tr>\n",
       "      <th>bicycling</th>\n",
       "      <td>2852.0</td>\n",
       "      <td>262.584151</td>\n",
       "      <td>519.682721</td>\n",
       "      <td>3.0</td>\n",
       "      <td>45.0</td>\n",
       "      <td>105.0</td>\n",
       "      <td>322.0</td>\n",
       "      <td>14645.0</td>\n",
       "      <td>2852.0</td>\n",
       "      <td>48.199509</td>\n",
       "      <td>87.527500</td>\n",
       "      <td>1.0</td>\n",
       "      <td>8.0</td>\n",
       "      <td>20.0</td>\n",
       "      <td>61.0</td>\n",
       "      <td>2661.0</td>\n",
       "    </tr>\n",
       "    <tr>\n",
       "      <th>motorcycles</th>\n",
       "      <td>2477.0</td>\n",
       "      <td>448.844166</td>\n",
       "      <td>444.735868</td>\n",
       "      <td>6.0</td>\n",
       "      <td>183.0</td>\n",
       "      <td>340.0</td>\n",
       "      <td>582.0</td>\n",
       "      <td>4348.0</td>\n",
       "      <td>2477.0</td>\n",
       "      <td>84.999596</td>\n",
       "      <td>84.738725</td>\n",
       "      <td>1.0</td>\n",
       "      <td>34.0</td>\n",
       "      <td>64.0</td>\n",
       "      <td>111.0</td>\n",
       "      <td>795.0</td>\n",
       "    </tr>\n",
       "  </tbody>\n",
       "</table>\n",
       "</div>"
      ],
      "text/plain": [
       "            text_char_len                                                    \\\n",
       "                    count        mean         std  min    25%    50%    75%   \n",
       "subreddit                                                                     \n",
       "bicycling          2852.0  262.584151  519.682721  3.0   45.0  105.0  322.0   \n",
       "motorcycles        2477.0  448.844166  444.735868  6.0  183.0  340.0  582.0   \n",
       "\n",
       "                     text_word_len                                         \\\n",
       "                 max         count       mean        std  min   25%   50%   \n",
       "subreddit                                                                   \n",
       "bicycling    14645.0        2852.0  48.199509  87.527500  1.0   8.0  20.0   \n",
       "motorcycles   4348.0        2477.0  84.999596  84.738725  1.0  34.0  64.0   \n",
       "\n",
       "                            \n",
       "               75%     max  \n",
       "subreddit                   \n",
       "bicycling     61.0  2661.0  \n",
       "motorcycles  111.0   795.0  "
      ]
     },
     "execution_count": 35,
     "metadata": {},
     "output_type": "execute_result"
    }
   ],
   "source": [
    "df.groupby('subreddit').describe()"
   ]
  },
  {
   "cell_type": "code",
   "execution_count": 36,
   "id": "9be6307d",
   "metadata": {
    "scrolled": true
   },
   "outputs": [
    {
     "data": {
      "image/png": "[encoded data removed]",
      "text/plain": [
       "<Figure size 432x216 with 2 Axes>"
      ]
     },
     "metadata": {},
     "output_type": "display_data"
    }
   ],
   "source": [
    "g = sns.FacetGrid(df[df['text_char_len']<2000],col='subreddit')\n",
    "g.map(plt.hist, 'text_char_len', bins=15, );"
   ]
  },
  {
   "cell_type": "code",
   "execution_count": 37,
   "id": "187fb671",
   "metadata": {
    "scrolled": true
   },
   "outputs": [
    {
     "data": {
      "image/png": "[encoded data removed]",
      "text/plain": [
       "<Figure size 432x216 with 2 Axes>"
      ]
     },
     "metadata": {},
     "output_type": "display_data"
    }
   ],
   "source": [
    "g = sns.FacetGrid(df[df['text_word_len']<500],col='subreddit')\n",
    "g.map(plt.hist, 'text_word_len', bins=15, );"
   ]
  },
  {
   "cell_type": "markdown",
   "id": "cbdaee0a",
   "metadata": {},
   "source": [
    "**We see that bicycling subreddits have lesser characters and word counts than motorcycles subreddit.**"
   ]
  },
  {
   "cell_type": "markdown",
   "id": "1dfbc2d4",
   "metadata": {},
   "source": [
    "### Exploring stem and lem words"
   ]
  },
  {
   "cell_type": "code",
   "execution_count": 38,
   "id": "faac574c",
   "metadata": {},
   "outputs": [],
   "source": [
    "# Use previous function stem_token to create another column from cleaned tokens\n",
    "\n",
    "df['stemmed_from_cleaned_tokens'] = df['cleaned_tokens'].apply(stem_token)"
   ]
  },
  {
   "cell_type": "code",
   "execution_count": 39,
   "id": "b40a8514",
   "metadata": {
    "scrolled": true
   },
   "outputs": [
    {
     "name": "stdout",
     "output_type": "stream",
     "text": [
      "specialized special\n",
      "canopy canopi\n",
      "single singl\n"
     ]
    }
   ],
   "source": [
    "# Comparing cleaned tokens against its stemmed form\n",
    "\n",
    "n=4\n",
    "for i in range(len(df['cleaned_tokens'][n])):\n",
    "    if df['cleaned_tokens'][n][i] != df['stemmed_from_cleaned_tokens'][n][i]:\n",
    "        print(df['cleaned_tokens'][n][i], df['stemmed_from_cleaned_tokens'][n][i])"
   ]
  },
  {
   "cell_type": "code",
   "execution_count": 40,
   "id": "8668a5a3",
   "metadata": {},
   "outputs": [],
   "source": [
    "# Use previous function lem_token to create another column from cleaned tokens\n",
    "\n",
    "def lem_token(word_list):\n",
    "    return [lem.lemmatize(word) for word in word_list]\n",
    "\n",
    "df['lemmed_from_cleaned_tokens'] = df['cleaned_tokens'].apply(lem_token)"
   ]
  },
  {
   "cell_type": "code",
   "execution_count": 41,
   "id": "d5d0802e",
   "metadata": {
    "scrolled": true
   },
   "outputs": [],
   "source": [
    "# Comparing cleaned tokens against its lemmed form\n",
    "\n",
    "n=4\n",
    "for i in range(len(df['cleaned_tokens'][n])):\n",
    "    if df['cleaned_tokens'][n][i] != df['lemmed_from_cleaned_tokens'][n][i]:\n",
    "        print(df['cleaned_tokens'][n][i], df['lemmed_from_cleaned_tokens'][n][i])"
   ]
  },
  {
   "cell_type": "markdown",
   "id": "9fb845cb",
   "metadata": {},
   "source": [
    "**We can see that stemming is stricter in cleaning out words. The lemmatizer was only used on the words 'question' and 'cyclist' but the Porter Stemmer was used on more words. We are uncertain which is better, so we will leave it in the dataframe first.**"
   ]
  },
  {
   "cell_type": "markdown",
   "id": "b7e3900a",
   "metadata": {},
   "source": [
    "### Most common words in the original text"
   ]
  },
  {
   "cell_type": "code",
   "execution_count": 42,
   "id": "210dbd8d",
   "metadata": {},
   "outputs": [],
   "source": [
    "# Instantiate CountVectorizer and TfidfVectorizer\n",
    "cvec = CountVectorizer(stop_words=stoplist)\n",
    "tfidf = TfidfVectorizer(stop_words=stoplist)"
   ]
  },
  {
   "cell_type": "code",
   "execution_count": 43,
   "id": "17b388d0",
   "metadata": {
    "scrolled": true
   },
   "outputs": [
    {
     "data": {
      "image/png": "[encoded data removed]",
      "text/plain": [
       "<Figure size 1584x1152 with 2 Axes>"
      ]
     },
     "metadata": {},
     "output_type": "display_data"
    }
   ],
   "source": [
    "# Explore CountVectorizer token counts in /r/bicycling\n",
    "words_cvec_bike = pd.DataFrame(cvec.fit_transform(df[df.subreddit=='bicycling'].text).todense(),\n",
    "                               columns=cvec.get_feature_names())\n",
    "word_cvec_counts_bike = words_cvec_bike.sum(axis=0)\n",
    "\n",
    "# Explore TfidfVectorizer token counts in /r/bicycling\n",
    "words_tfidf_bike = pd.DataFrame(tfidf.fit_transform(df[df.subreddit=='bicycling'].text).todense(),\n",
    "                       columns=tfidf.get_feature_names())\n",
    "word_counts_tfidf_bike = words_tfidf_bike.sum(axis=0)\n",
    "\n",
    "# Plot top 20 words\n",
    "plt.figure(figsize=(22,16), facecolor='white')\n",
    "\n",
    "plt.subplot(2,2,1)\n",
    "word_cvec_counts_bike.sort_values().tail(20).plot(kind='barh')\n",
    "plt.title('Top 20 Words in /r/bicycling')\n",
    "plt.xlabel('Count')\n",
    "plt.ylabel('Word')\n",
    "\n",
    "plt.subplot(2,2,2)\n",
    "word_counts_tfidf_bike.sort_values().tail(20).plot(kind='barh')\n",
    "plt.title('Top 20 TFIDF Words in /r/bicycling')\n",
    "plt.xlabel('TFIDF Value')\n",
    "plt.ylabel('Word')\n",
    "\n",
    "plt.tight_layout()"
   ]
  },
  {
   "cell_type": "code",
   "execution_count": 44,
   "id": "267e4f22",
   "metadata": {
    "scrolled": false
   },
   "outputs": [
    {
     "data": {
      "image/png": "[encoded data removed]",
      "text/plain": [
       "<Figure size 1584x1152 with 2 Axes>"
      ]
     },
     "metadata": {},
     "output_type": "display_data"
    }
   ],
   "source": [
    "# Explore CountVectorizer token counts in /r/motorcycles\n",
    "words_cvec_motor = pd.DataFrame(cvec.fit_transform(df[df.subreddit=='motorcycles'].text).todense(),\n",
    "                                columns=cvec.get_feature_names())\n",
    "word_cvec_counts_motor = words_cvec_motor.sum(axis=0)\n",
    "\n",
    "# Explore TfidfVectorizer token counts in /r/motorcycles\n",
    "words_tfidf_motor = pd.DataFrame(tfidf.fit_transform(df[df.subreddit=='motorcycles'].text).todense(),\n",
    "                                 columns=tfidf.get_feature_names())\n",
    "word_counts_tfidf_motor = words_tfidf_motor.sum(axis=0)\n",
    "\n",
    "# Plot top 20 words\n",
    "plt.figure(figsize=(22,16), facecolor='white')\n",
    "\n",
    "plt.subplot(2,2,1)\n",
    "word_cvec_counts_motor.sort_values().tail(20).plot(kind='barh')\n",
    "plt.title('Top 20 Words in /r/motorcycles')\n",
    "plt.xlabel('Count')\n",
    "plt.ylabel('Word')\n",
    "\n",
    "plt.subplot(2,2,2)\n",
    "word_counts_tfidf_motor.sort_values().tail(20).plot(kind='barh')\n",
    "plt.title('Top 20 TFIDF Words in /r/motorcycles')\n",
    "plt.xlabel('TFIDF Value')\n",
    "plt.ylabel('Word')\n",
    "\n",
    "plt.tight_layout()"
   ]
  },
  {
   "cell_type": "code",
   "execution_count": 45,
   "id": "c5492912",
   "metadata": {},
   "outputs": [
    {
     "data": {
      "text/plain": [
       "00         0.177230\n",
       "000        2.567379\n",
       "0000       0.289593\n",
       "000ft      0.021046\n",
       "000km      0.135360\n",
       "             ...   \n",
       "مباريات    0.309394\n",
       "مواعيد     0.309394\n",
       "موٹر       0.619126\n",
       "پلس        0.309563\n",
       "𝘤𝘺𝘤𝘭𝘦      0.437228\n",
       "Length: 10659, dtype: float64"
      ]
     },
     "execution_count": 45,
     "metadata": {},
     "output_type": "execute_result"
    }
   ],
   "source": [
    "word_counts_tfidf_bike"
   ]
  },
  {
   "cell_type": "markdown",
   "id": "4b9a2932",
   "metadata": {},
   "source": [
    "## N-grams\n",
    "*Back to [Contents](#Contents:)*"
   ]
  },
  {
   "cell_type": "code",
   "execution_count": 46,
   "id": "f3dd07fb",
   "metadata": {},
   "outputs": [],
   "source": [
    "sentence_cleaned = df['cleaned_tokens'].apply(lambda wordlist: ' '.join(wordlist))"
   ]
  },
  {
   "cell_type": "code",
   "execution_count": 47,
   "id": "76bfe8ae",
   "metadata": {},
   "outputs": [
    {
     "data": {
      "text/plain": [
       "(5329,)"
      ]
     },
     "execution_count": 47,
     "metadata": {},
     "output_type": "execute_result"
    }
   ],
   "source": [
    "sentence_cleaned.shape"
   ]
  },
  {
   "cell_type": "code",
   "execution_count": 48,
   "id": "a603a974",
   "metadata": {},
   "outputs": [],
   "source": [
    "# Instantiate CountVectorizer again, but this time we want 2 and 3 word phrases\n",
    "cvec_ngram = CountVectorizer(stop_words=stoplist, ngram_range=(2,3), min_df=3)\n",
    "\n",
    "# Matrix of ngrams\n",
    "ngrams = cvec_ngram.fit_transform(sentence_cleaned)\n",
    "\n",
    "# count frequency of ngrams\n",
    "count_values = ngrams.toarray().sum(axis=0)\n",
    "\n",
    "# list of ngrams in dictionary form\n",
    "# returns the ngram terms (keys) & index position (values)\n",
    "vocab = cvec_ngram.vocabulary_\n",
    "\n",
    "# sort into dataframe, pass index into count_values to get freq\n",
    "df_ngram = pd.DataFrame(sorted([(count_values[i],k) for k,i in vocab.items()], reverse=True)).\\\n",
    "rename(columns={0: 'frequency', 1:'bigram/trigram'})"
   ]
  },
  {
   "cell_type": "code",
   "execution_count": 49,
   "id": "ea4cc607",
   "metadata": {},
   "outputs": [
    {
     "data": {
      "text/html": [
       "<div>\n",
       "<style scoped>\n",
       "    .dataframe tbody tr th:only-of-type {\n",
       "        vertical-align: middle;\n",
       "    }\n",
       "\n",
       "    .dataframe tbody tr th {\n",
       "        vertical-align: top;\n",
       "    }\n",
       "\n",
       "    .dataframe thead th {\n",
       "        text-align: right;\n",
       "    }\n",
       "</style>\n",
       "<table border=\"1\" class=\"dataframe\">\n",
       "  <thead>\n",
       "    <tr style=\"text-align: right;\">\n",
       "      <th></th>\n",
       "      <th>frequency</th>\n",
       "      <th>bigram/trigram</th>\n",
       "    </tr>\n",
       "  </thead>\n",
       "  <tbody>\n",
       "    <tr>\n",
       "      <th>0</th>\n",
       "      <td>202</td>\n",
       "      <td>first bike</td>\n",
       "    </tr>\n",
       "    <tr>\n",
       "      <th>1</th>\n",
       "      <td>195</td>\n",
       "      <td>road bike</td>\n",
       "    </tr>\n",
       "    <tr>\n",
       "      <th>2</th>\n",
       "      <td>190</td>\n",
       "      <td>new bike</td>\n",
       "    </tr>\n",
       "    <tr>\n",
       "      <th>3</th>\n",
       "      <td>189</td>\n",
       "      <td>amp x200b</td>\n",
       "    </tr>\n",
       "    <tr>\n",
       "      <th>4</th>\n",
       "      <td>126</td>\n",
       "      <td>anyone know</td>\n",
       "    </tr>\n",
       "    <tr>\n",
       "      <th>5</th>\n",
       "      <td>107</td>\n",
       "      <td>first time</td>\n",
       "    </tr>\n",
       "    <tr>\n",
       "      <th>6</th>\n",
       "      <td>98</td>\n",
       "      <td>feel like</td>\n",
       "    </tr>\n",
       "    <tr>\n",
       "      <th>7</th>\n",
       "      <td>93</td>\n",
       "      <td>would like</td>\n",
       "    </tr>\n",
       "    <tr>\n",
       "      <th>8</th>\n",
       "      <td>90</td>\n",
       "      <td>need help</td>\n",
       "    </tr>\n",
       "    <tr>\n",
       "      <th>9</th>\n",
       "      <td>80</td>\n",
       "      <td>seems like</td>\n",
       "    </tr>\n",
       "    <tr>\n",
       "      <th>10</th>\n",
       "      <td>75</td>\n",
       "      <td>brand new</td>\n",
       "    </tr>\n",
       "    <tr>\n",
       "      <th>11</th>\n",
       "      <td>74</td>\n",
       "      <td>new rider</td>\n",
       "    </tr>\n",
       "    <tr>\n",
       "      <th>12</th>\n",
       "      <td>72</td>\n",
       "      <td>thanks advance</td>\n",
       "    </tr>\n",
       "    <tr>\n",
       "      <th>13</th>\n",
       "      <td>61</td>\n",
       "      <td>get bike</td>\n",
       "    </tr>\n",
       "    <tr>\n",
       "      <th>14</th>\n",
       "      <td>60</td>\n",
       "      <td>years ago</td>\n",
       "    </tr>\n",
       "    <tr>\n",
       "      <th>15</th>\n",
       "      <td>59</td>\n",
       "      <td>hey guys</td>\n",
       "    </tr>\n",
       "    <tr>\n",
       "      <th>16</th>\n",
       "      <td>58</td>\n",
       "      <td>anyone else</td>\n",
       "    </tr>\n",
       "    <tr>\n",
       "      <th>17</th>\n",
       "      <td>57</td>\n",
       "      <td>mountain bike</td>\n",
       "    </tr>\n",
       "    <tr>\n",
       "      <th>18</th>\n",
       "      <td>56</td>\n",
       "      <td>bike would</td>\n",
       "    </tr>\n",
       "    <tr>\n",
       "      <th>19</th>\n",
       "      <td>51</td>\n",
       "      <td>want get</td>\n",
       "    </tr>\n",
       "  </tbody>\n",
       "</table>\n",
       "</div>"
      ],
      "text/plain": [
       "    frequency  bigram/trigram\n",
       "0         202      first bike\n",
       "1         195       road bike\n",
       "2         190        new bike\n",
       "3         189       amp x200b\n",
       "4         126     anyone know\n",
       "5         107      first time\n",
       "6          98       feel like\n",
       "7          93      would like\n",
       "8          90       need help\n",
       "9          80      seems like\n",
       "10         75       brand new\n",
       "11         74       new rider\n",
       "12         72  thanks advance\n",
       "13         61        get bike\n",
       "14         60       years ago\n",
       "15         59        hey guys\n",
       "16         58     anyone else\n",
       "17         57   mountain bike\n",
       "18         56      bike would\n",
       "19         51        want get"
      ]
     },
     "execution_count": 49,
     "metadata": {},
     "output_type": "execute_result"
    }
   ],
   "source": [
    "df_ngram.head(20)"
   ]
  },
  {
   "cell_type": "code",
   "execution_count": 50,
   "id": "cda52da3",
   "metadata": {},
   "outputs": [
    {
     "data": {
      "text/html": [
       "<div>\n",
       "<style scoped>\n",
       "    .dataframe tbody tr th:only-of-type {\n",
       "        vertical-align: middle;\n",
       "    }\n",
       "\n",
       "    .dataframe tbody tr th {\n",
       "        vertical-align: top;\n",
       "    }\n",
       "\n",
       "    .dataframe thead th {\n",
       "        text-align: right;\n",
       "    }\n",
       "</style>\n",
       "<table border=\"1\" class=\"dataframe\">\n",
       "  <thead>\n",
       "    <tr style=\"text-align: right;\">\n",
       "      <th></th>\n",
       "      <th>frequency</th>\n",
       "      <th>bigram/trigram</th>\n",
       "    </tr>\n",
       "  </thead>\n",
       "  <tbody>\n",
       "    <tr>\n",
       "      <th>6051</th>\n",
       "      <td>3</td>\n",
       "      <td>advice beginner</td>\n",
       "    </tr>\n",
       "    <tr>\n",
       "      <th>6052</th>\n",
       "      <td>3</td>\n",
       "      <td>advance input</td>\n",
       "    </tr>\n",
       "    <tr>\n",
       "      <th>6053</th>\n",
       "      <td>3</td>\n",
       "      <td>adjustments bike</td>\n",
       "    </tr>\n",
       "    <tr>\n",
       "      <th>6054</th>\n",
       "      <td>3</td>\n",
       "      <td>adjust seat</td>\n",
       "    </tr>\n",
       "    <tr>\n",
       "      <th>6055</th>\n",
       "      <td>3</td>\n",
       "      <td>actually works</td>\n",
       "    </tr>\n",
       "    <tr>\n",
       "      <th>...</th>\n",
       "      <td>...</td>\n",
       "      <td>...</td>\n",
       "    </tr>\n",
       "    <tr>\n",
       "      <th>6146</th>\n",
       "      <td>3</td>\n",
       "      <td>10 months</td>\n",
       "    </tr>\n",
       "    <tr>\n",
       "      <th>6147</th>\n",
       "      <td>3</td>\n",
       "      <td>10 mins</td>\n",
       "    </tr>\n",
       "    <tr>\n",
       "      <th>6148</th>\n",
       "      <td>3</td>\n",
       "      <td>10 grand</td>\n",
       "    </tr>\n",
       "    <tr>\n",
       "      <th>6149</th>\n",
       "      <td>3</td>\n",
       "      <td>10 day</td>\n",
       "    </tr>\n",
       "    <tr>\n",
       "      <th>6150</th>\n",
       "      <td>3</td>\n",
       "      <td>10 20</td>\n",
       "    </tr>\n",
       "  </tbody>\n",
       "</table>\n",
       "<p>100 rows × 2 columns</p>\n",
       "</div>"
      ],
      "text/plain": [
       "      frequency    bigram/trigram\n",
       "6051          3   advice beginner\n",
       "6052          3     advance input\n",
       "6053          3  adjustments bike\n",
       "6054          3       adjust seat\n",
       "6055          3    actually works\n",
       "...         ...               ...\n",
       "6146          3         10 months\n",
       "6147          3           10 mins\n",
       "6148          3          10 grand\n",
       "6149          3            10 day\n",
       "6150          3             10 20\n",
       "\n",
       "[100 rows x 2 columns]"
      ]
     },
     "execution_count": 50,
     "metadata": {},
     "output_type": "execute_result"
    }
   ],
   "source": [
    "df_ngram.tail(100)"
   ]
  },
  {
   "cell_type": "markdown",
   "id": "8e052e3e",
   "metadata": {},
   "source": [
    "Most common n-grams are bigrams. It seems like the most common bigrams are belonging to posts of people asking for advice as a beginner/ first timer. Least frequent n-grams seem to be quite random, but we see terms associated with time and distance/ mileage. "
   ]
  },
  {
   "cell_type": "markdown",
   "id": "86ad642c",
   "metadata": {},
   "source": [
    "## Export to csv\n",
    "- Export out a dataframe for use in model building in the next notebook\n",
    "\n",
    "*Back to [Contents](#Contents:)*"
   ]
  },
  {
   "cell_type": "code",
   "execution_count": 51,
   "id": "5a9ae1b1",
   "metadata": {},
   "outputs": [],
   "source": [
    "df['stem_text'] = df['stem_tokens'].apply(lambda word_list: ' '.join(word_list))\n",
    "df['lem_text'] = df['lem_tokens'].apply(lambda word_list: ' '.join(word_list))"
   ]
  },
  {
   "cell_type": "code",
   "execution_count": 52,
   "id": "964fdfe4",
   "metadata": {},
   "outputs": [
    {
     "data": {
      "text/html": [
       "<div>\n",
       "<style scoped>\n",
       "    .dataframe tbody tr th:only-of-type {\n",
       "        vertical-align: middle;\n",
       "    }\n",
       "\n",
       "    .dataframe tbody tr th {\n",
       "        vertical-align: top;\n",
       "    }\n",
       "\n",
       "    .dataframe thead th {\n",
       "        text-align: right;\n",
       "    }\n",
       "</style>\n",
       "<table border=\"1\" class=\"dataframe\">\n",
       "  <thead>\n",
       "    <tr style=\"text-align: right;\">\n",
       "      <th></th>\n",
       "      <th>subreddit</th>\n",
       "      <th>selftext</th>\n",
       "      <th>title</th>\n",
       "      <th>text</th>\n",
       "      <th>tokens</th>\n",
       "      <th>cleaned_tokens</th>\n",
       "      <th>stem_tokens</th>\n",
       "      <th>lem_tokens</th>\n",
       "      <th>text_char_len</th>\n",
       "      <th>text_word_len</th>\n",
       "      <th>stemmed_from_cleaned_tokens</th>\n",
       "      <th>lemmed_from_cleaned_tokens</th>\n",
       "      <th>stem_text</th>\n",
       "      <th>lem_text</th>\n",
       "    </tr>\n",
       "  </thead>\n",
       "  <tbody>\n",
       "    <tr>\n",
       "      <th>0</th>\n",
       "      <td>bicycling</td>\n",
       "      <td>NaN</td>\n",
       "      <td>$10 off any RoadID</td>\n",
       "      <td>$10 off any RoadID</td>\n",
       "      <td>[10, off, any, roadid]</td>\n",
       "      <td>[10, roadid]</td>\n",
       "      <td>[10, off, ani, roadid]</td>\n",
       "      <td>[10, off, any, roadid]</td>\n",
       "      <td>18</td>\n",
       "      <td>4</td>\n",
       "      <td>[10, roadid]</td>\n",
       "      <td>[10, roadid]</td>\n",
       "      <td>10 off ani roadid</td>\n",
       "      <td>10 off any roadid</td>\n",
       "    </tr>\n",
       "    <tr>\n",
       "      <th>1</th>\n",
       "      <td>bicycling</td>\n",
       "      <td>NaN</td>\n",
       "      <td>Is this a good deal on a bike? It’s a Fuji Thr...</td>\n",
       "      <td>Is this a good deal on a bike? It’s a Fuji Thr...</td>\n",
       "      <td>[is, this, a, good, deal, on, a, bike, it, s, ...</td>\n",
       "      <td>[good, deal, bike, fuji, thrill, se, mountain,...</td>\n",
       "      <td>[is, thi, a, good, deal, on, a, bike, it, s, a...</td>\n",
       "      <td>[is, this, a, good, deal, on, a, bike, it, s, ...</td>\n",
       "      <td>143</td>\n",
       "      <td>30</td>\n",
       "      <td>[good, deal, bike, fuji, thrill, se, mountain,...</td>\n",
       "      <td>[good, deal, bike, fuji, thrill, se, mountain,...</td>\n",
       "      <td>is thi a good deal on a bike it s a fuji thril...</td>\n",
       "      <td>is this a good deal on a bike it s a fuji thri...</td>\n",
       "    </tr>\n",
       "    <tr>\n",
       "      <th>2</th>\n",
       "      <td>bicycling</td>\n",
       "      <td>Hi, so there's been a string of bike theft in ...</td>\n",
       "      <td>Preventing Bike Theft</td>\n",
       "      <td>Hi, so there's been a string of bike theft in ...</td>\n",
       "      <td>[hi, so, there, s, been, a, string, of, bike, ...</td>\n",
       "      <td>[hi, string, bike, theft, apartment, garage, t...</td>\n",
       "      <td>[hi, so, there, s, been, a, string, of, bike, ...</td>\n",
       "      <td>[hi, so, there, s, been, a, string, of, bike, ...</td>\n",
       "      <td>661</td>\n",
       "      <td>128</td>\n",
       "      <td>[hi, string, bike, theft, apart, garag, thief,...</td>\n",
       "      <td>[hi, string, bike, theft, apartment, garage, t...</td>\n",
       "      <td>hi so there s been a string of bike theft in m...</td>\n",
       "      <td>hi so there s been a string of bike theft in m...</td>\n",
       "    </tr>\n",
       "    <tr>\n",
       "      <th>3</th>\n",
       "      <td>bicycling</td>\n",
       "      <td>NaN</td>\n",
       "      <td>Specialized Hardrock. Winnipeg Red River singl...</td>\n",
       "      <td>Specialized Hardrock. Winnipeg Red River singl...</td>\n",
       "      <td>[specialized, hardrock, winnipeg, red, river, ...</td>\n",
       "      <td>[specialized, hardrock, winnipeg, red, river, ...</td>\n",
       "      <td>[special, hardrock, winnipeg, red, river, sing...</td>\n",
       "      <td>[specialized, hardrock, winnipeg, red, river, ...</td>\n",
       "      <td>58</td>\n",
       "      <td>8</td>\n",
       "      <td>[special, hardrock, winnipeg, red, river, sing...</td>\n",
       "      <td>[specialized, hardrock, winnipeg, red, river, ...</td>\n",
       "      <td>special hardrock winnipeg red river singl trac...</td>\n",
       "      <td>specialized hardrock winnipeg red river single...</td>\n",
       "    </tr>\n",
       "    <tr>\n",
       "      <th>4</th>\n",
       "      <td>bicycling</td>\n",
       "      <td>NaN</td>\n",
       "      <td>Specialized Hardrock. Winnipeg Red river Canop...</td>\n",
       "      <td>Specialized Hardrock. Winnipeg Red river Canop...</td>\n",
       "      <td>[specialized, hardrock, winnipeg, red, river, ...</td>\n",
       "      <td>[specialized, hardrock, winnipeg, red, river, ...</td>\n",
       "      <td>[special, hardrock, winnipeg, red, river, cano...</td>\n",
       "      <td>[specialized, hardrock, winnipeg, red, river, ...</td>\n",
       "      <td>65</td>\n",
       "      <td>9</td>\n",
       "      <td>[special, hardrock, winnipeg, red, river, cano...</td>\n",
       "      <td>[specialized, hardrock, winnipeg, red, river, ...</td>\n",
       "      <td>special hardrock winnipeg red river canopi sin...</td>\n",
       "      <td>specialized hardrock winnipeg red river canopy...</td>\n",
       "    </tr>\n",
       "  </tbody>\n",
       "</table>\n",
       "</div>"
      ],
      "text/plain": [
       "   subreddit                                           selftext  \\\n",
       "0  bicycling                                                NaN   \n",
       "1  bicycling                                                NaN   \n",
       "2  bicycling  Hi, so there's been a string of bike theft in ...   \n",
       "3  bicycling                                                NaN   \n",
       "4  bicycling                                                NaN   \n",
       "\n",
       "                                               title  \\\n",
       "0                                 $10 off any RoadID   \n",
       "1  Is this a good deal on a bike? It’s a Fuji Thr...   \n",
       "2                              Preventing Bike Theft   \n",
       "3  Specialized Hardrock. Winnipeg Red River singl...   \n",
       "4  Specialized Hardrock. Winnipeg Red river Canop...   \n",
       "\n",
       "                                                text  \\\n",
       "0                                 $10 off any RoadID   \n",
       "1  Is this a good deal on a bike? It’s a Fuji Thr...   \n",
       "2  Hi, so there's been a string of bike theft in ...   \n",
       "3  Specialized Hardrock. Winnipeg Red River singl...   \n",
       "4  Specialized Hardrock. Winnipeg Red river Canop...   \n",
       "\n",
       "                                              tokens  \\\n",
       "0                             [10, off, any, roadid]   \n",
       "1  [is, this, a, good, deal, on, a, bike, it, s, ...   \n",
       "2  [hi, so, there, s, been, a, string, of, bike, ...   \n",
       "3  [specialized, hardrock, winnipeg, red, river, ...   \n",
       "4  [specialized, hardrock, winnipeg, red, river, ...   \n",
       "\n",
       "                                      cleaned_tokens  \\\n",
       "0                                       [10, roadid]   \n",
       "1  [good, deal, bike, fuji, thrill, se, mountain,...   \n",
       "2  [hi, string, bike, theft, apartment, garage, t...   \n",
       "3  [specialized, hardrock, winnipeg, red, river, ...   \n",
       "4  [specialized, hardrock, winnipeg, red, river, ...   \n",
       "\n",
       "                                         stem_tokens  \\\n",
       "0                             [10, off, ani, roadid]   \n",
       "1  [is, thi, a, good, deal, on, a, bike, it, s, a...   \n",
       "2  [hi, so, there, s, been, a, string, of, bike, ...   \n",
       "3  [special, hardrock, winnipeg, red, river, sing...   \n",
       "4  [special, hardrock, winnipeg, red, river, cano...   \n",
       "\n",
       "                                          lem_tokens  text_char_len  \\\n",
       "0                             [10, off, any, roadid]             18   \n",
       "1  [is, this, a, good, deal, on, a, bike, it, s, ...            143   \n",
       "2  [hi, so, there, s, been, a, string, of, bike, ...            661   \n",
       "3  [specialized, hardrock, winnipeg, red, river, ...             58   \n",
       "4  [specialized, hardrock, winnipeg, red, river, ...             65   \n",
       "\n",
       "   text_word_len                        stemmed_from_cleaned_tokens  \\\n",
       "0              4                                       [10, roadid]   \n",
       "1             30  [good, deal, bike, fuji, thrill, se, mountain,...   \n",
       "2            128  [hi, string, bike, theft, apart, garag, thief,...   \n",
       "3              8  [special, hardrock, winnipeg, red, river, sing...   \n",
       "4              9  [special, hardrock, winnipeg, red, river, cano...   \n",
       "\n",
       "                          lemmed_from_cleaned_tokens  \\\n",
       "0                                       [10, roadid]   \n",
       "1  [good, deal, bike, fuji, thrill, se, mountain,...   \n",
       "2  [hi, string, bike, theft, apartment, garage, t...   \n",
       "3  [specialized, hardrock, winnipeg, red, river, ...   \n",
       "4  [specialized, hardrock, winnipeg, red, river, ...   \n",
       "\n",
       "                                           stem_text  \\\n",
       "0                                  10 off ani roadid   \n",
       "1  is thi a good deal on a bike it s a fuji thril...   \n",
       "2  hi so there s been a string of bike theft in m...   \n",
       "3  special hardrock winnipeg red river singl trac...   \n",
       "4  special hardrock winnipeg red river canopi sin...   \n",
       "\n",
       "                                            lem_text  \n",
       "0                                  10 off any roadid  \n",
       "1  is this a good deal on a bike it s a fuji thri...  \n",
       "2  hi so there s been a string of bike theft in m...  \n",
       "3  specialized hardrock winnipeg red river single...  \n",
       "4  specialized hardrock winnipeg red river canopy...  "
      ]
     },
     "execution_count": 52,
     "metadata": {},
     "output_type": "execute_result"
    }
   ],
   "source": [
    "df.head()"
   ]
  },
  {
   "cell_type": "code",
   "execution_count": 53,
   "id": "4af908ef",
   "metadata": {},
   "outputs": [],
   "source": [
    "final_df = df[['subreddit', 'text', 'stem_text', 'lem_text']]\n",
    "final_df.to_csv('./data/final_df.csv', index = False)"
   ]
  },
  {
   "cell_type": "code",
   "execution_count": null,
   "id": "ff475381",
   "metadata": {},
   "outputs": [],
   "source": []
  }
 ],
 "metadata": {
  "kernelspec": {
   "display_name": "Python 3 (ipykernel)",
   "language": "python",
   "name": "python3"
  },
  "language_info": {
   "codemirror_mode": {
    "name": "ipython",
    "version": 3
   },
   "file_extension": ".py",
   "mimetype": "text/x-python",
   "name": "python",
   "nbconvert_exporter": "python",
   "pygments_lexer": "ipython3",
   "version": "3.9.7"
  }
 },
 "nbformat": 4,
 "nbformat_minor": 5
}
