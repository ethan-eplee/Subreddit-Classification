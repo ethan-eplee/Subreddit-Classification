{
 "cells": [
  {
   "cell_type": "markdown",
   "id": "441dd6c2",
   "metadata": {},
   "source": [
    "<img src=\"http://imgur.com/1ZcRyrc.png\" style=\"float: left; margin: 20px; height: 55px\">\n",
    "\n",
    "# Project 3: Subreddit Classifier with Webscraping, NLP and ML\n",
    "## Part 3: Modelling & Evaluation"
   ]
  },
  {
   "cell_type": "markdown",
   "id": "ac001690",
   "metadata": {},
   "source": [
    "## Contents:\n",
    "1. [Import data](#Import-data)\n",
    "2. [Train-test split](#Train-test-split)\n",
    "3. [Modelling](#Modelling)\n",
    "4. [Results Analysis](#Results-Analysis)\n",
    "5. [Feature Importance](#Feature-Importance)\n",
    "6. [ROC AUC Curve](#ROC-AUC-Curve)\n",
    "7. [Conclusion & Recommendations](#Conclusion-&-Recommendations)\n",
    "8. [References](#References)"
   ]
  },
  {
   "cell_type": "code",
   "execution_count": 1,
   "id": "36979ea4",
   "metadata": {},
   "outputs": [],
   "source": [
    "# Import libraries\n",
    "import requests\n",
    "import time\n",
    "import numpy as np\n",
    "import pandas as pd\n",
    "import matplotlib.pyplot as plt\n",
    "import seaborn as sns\n",
    "\n",
    "from sklearn.model_selection import train_test_split\n",
    "from sklearn.model_selection import GridSearchCV, RandomizedSearchCV\n",
    "from sklearn.model_selection import cross_val_score\n",
    "from sklearn.pipeline import Pipeline\n",
    "from nltk.corpus import stopwords\n",
    "\n",
    "from sklearn.linear_model import LogisticRegression\n",
    "from sklearn.naive_bayes import MultinomialNB\n",
    "from sklearn.feature_extraction.text import CountVectorizer\n",
    "from sklearn.feature_extraction.text import TfidfVectorizer\n",
    "from sklearn.ensemble import RandomForestClassifier\n",
    "\n",
    "from sklearn.metrics import confusion_matrix\n",
    "from sklearn.metrics import plot_confusion_matrix\n",
    "from sklearn.metrics import classification_report\n",
    "from sklearn.metrics import roc_curve\n",
    "from sklearn.metrics import RocCurveDisplay\n",
    "from sklearn.metrics import roc_auc_score\n",
    "\n",
    "%matplotlib inline\n",
    "sns.set(font_scale=1.5)\n",
    "sns.set_style('white')"
   ]
  },
  {
   "cell_type": "markdown",
   "id": "76d7fd1a",
   "metadata": {},
   "source": [
    "## Import data\n",
    "*Back to [Contents](#Contents:)*"
   ]
  },
  {
   "cell_type": "code",
   "execution_count": 2,
   "id": "4633df2e",
   "metadata": {},
   "outputs": [],
   "source": [
    "df = pd.read_csv('./data/final_df.csv')"
   ]
  },
  {
   "cell_type": "code",
   "execution_count": 3,
   "id": "81a6a06d",
   "metadata": {
    "scrolled": true
   },
   "outputs": [
    {
     "data": {
      "text/plain": [
       "(5329, 4)"
      ]
     },
     "execution_count": 3,
     "metadata": {},
     "output_type": "execute_result"
    }
   ],
   "source": [
    "df.shape"
   ]
  },
  {
   "cell_type": "code",
   "execution_count": 4,
   "id": "c4bf7c9e",
   "metadata": {},
   "outputs": [],
   "source": [
    "# Mapping Bicycling subreddits to 0 and Motorcycles subreddits to 1 \n",
    "df['bike'] = df['subreddit'].map({'bicycling':0, 'motorcycles':1})"
   ]
  },
  {
   "cell_type": "code",
   "execution_count": 5,
   "id": "935f9981",
   "metadata": {
    "scrolled": false
   },
   "outputs": [
    {
     "data": {
      "text/plain": [
       "0    0.535185\n",
       "1    0.464815\n",
       "Name: bike, dtype: float64"
      ]
     },
     "execution_count": 5,
     "metadata": {},
     "output_type": "execute_result"
    }
   ],
   "source": [
    "df['bike'].value_counts(normalize=True)"
   ]
  },
  {
   "cell_type": "markdown",
   "id": "eaad278e",
   "metadata": {},
   "source": [
    "Baseline accuracy will be set at 53.7% and used to check the performance of our models."
   ]
  },
  {
   "cell_type": "code",
   "execution_count": 6,
   "id": "f222ba02",
   "metadata": {
    "scrolled": true
   },
   "outputs": [
    {
     "data": {
      "text/html": [
       "<div>\n",
       "<style scoped>\n",
       "    .dataframe tbody tr th:only-of-type {\n",
       "        vertical-align: middle;\n",
       "    }\n",
       "\n",
       "    .dataframe tbody tr th {\n",
       "        vertical-align: top;\n",
       "    }\n",
       "\n",
       "    .dataframe thead th {\n",
       "        text-align: right;\n",
       "    }\n",
       "</style>\n",
       "<table border=\"1\" class=\"dataframe\">\n",
       "  <thead>\n",
       "    <tr style=\"text-align: right;\">\n",
       "      <th></th>\n",
       "      <th>subreddit</th>\n",
       "      <th>text</th>\n",
       "      <th>stem_text</th>\n",
       "      <th>lem_text</th>\n",
       "      <th>bike</th>\n",
       "    </tr>\n",
       "  </thead>\n",
       "  <tbody>\n",
       "    <tr>\n",
       "      <th>0</th>\n",
       "      <td>bicycling</td>\n",
       "      <td>$10 off any RoadID</td>\n",
       "      <td>10 off ani roadid</td>\n",
       "      <td>10 off any roadid</td>\n",
       "      <td>0</td>\n",
       "    </tr>\n",
       "    <tr>\n",
       "      <th>1</th>\n",
       "      <td>bicycling</td>\n",
       "      <td>Is this a good deal on a bike? It’s a Fuji Thr...</td>\n",
       "      <td>is thi a good deal on a bike it s a fuji thril...</td>\n",
       "      <td>is this a good deal on a bike it s a fuji thri...</td>\n",
       "      <td>0</td>\n",
       "    </tr>\n",
       "    <tr>\n",
       "      <th>2</th>\n",
       "      <td>bicycling</td>\n",
       "      <td>Hi, so there's been a string of bike theft in ...</td>\n",
       "      <td>hi so there s been a string of bike theft in m...</td>\n",
       "      <td>hi so there s been a string of bike theft in m...</td>\n",
       "      <td>0</td>\n",
       "    </tr>\n",
       "    <tr>\n",
       "      <th>3</th>\n",
       "      <td>bicycling</td>\n",
       "      <td>Specialized Hardrock. Winnipeg Red River singl...</td>\n",
       "      <td>special hardrock winnipeg red river singl trac...</td>\n",
       "      <td>specialized hardrock winnipeg red river single...</td>\n",
       "      <td>0</td>\n",
       "    </tr>\n",
       "    <tr>\n",
       "      <th>4</th>\n",
       "      <td>bicycling</td>\n",
       "      <td>Specialized Hardrock. Winnipeg Red river Canop...</td>\n",
       "      <td>special hardrock winnipeg red river canopi sin...</td>\n",
       "      <td>specialized hardrock winnipeg red river canopy...</td>\n",
       "      <td>0</td>\n",
       "    </tr>\n",
       "  </tbody>\n",
       "</table>\n",
       "</div>"
      ],
      "text/plain": [
       "   subreddit                                               text  \\\n",
       "0  bicycling                                 $10 off any RoadID   \n",
       "1  bicycling  Is this a good deal on a bike? It’s a Fuji Thr...   \n",
       "2  bicycling  Hi, so there's been a string of bike theft in ...   \n",
       "3  bicycling  Specialized Hardrock. Winnipeg Red River singl...   \n",
       "4  bicycling  Specialized Hardrock. Winnipeg Red river Canop...   \n",
       "\n",
       "                                           stem_text  \\\n",
       "0                                  10 off ani roadid   \n",
       "1  is thi a good deal on a bike it s a fuji thril...   \n",
       "2  hi so there s been a string of bike theft in m...   \n",
       "3  special hardrock winnipeg red river singl trac...   \n",
       "4  special hardrock winnipeg red river canopi sin...   \n",
       "\n",
       "                                            lem_text  bike  \n",
       "0                                  10 off any roadid     0  \n",
       "1  is this a good deal on a bike it s a fuji thri...     0  \n",
       "2  hi so there s been a string of bike theft in m...     0  \n",
       "3  specialized hardrock winnipeg red river single...     0  \n",
       "4  specialized hardrock winnipeg red river canopy...     0  "
      ]
     },
     "execution_count": 6,
     "metadata": {},
     "output_type": "execute_result"
    }
   ],
   "source": [
    "df.head()"
   ]
  },
  {
   "cell_type": "markdown",
   "id": "d58e8d34",
   "metadata": {},
   "source": [
    "## Train-test split\n",
    "- We will have 3 sets of data: one from the main base text, one that is stemmed and one that is lemmatized\n",
    "- All 3 sets will be passed into the models to see which has the better performance.\n",
    "\n",
    "*Back to [Contents](#Contents:)*"
   ]
  },
  {
   "cell_type": "code",
   "execution_count": 7,
   "id": "c6bf65cf",
   "metadata": {},
   "outputs": [],
   "source": [
    "X = df['text']\n",
    "X_stem = df['stem_text']\n",
    "X_lem = df['lem_text']\n",
    "y = df['bike']"
   ]
  },
  {
   "cell_type": "code",
   "execution_count": 8,
   "id": "bc2cec04",
   "metadata": {},
   "outputs": [
    {
     "data": {
      "text/plain": [
       "0    0.535185\n",
       "1    0.464815\n",
       "Name: bike, dtype: float64"
      ]
     },
     "execution_count": 8,
     "metadata": {},
     "output_type": "execute_result"
    }
   ],
   "source": [
    "# Check if data is balanced or imbalanced\n",
    "y.value_counts(normalize=True)"
   ]
  },
  {
   "cell_type": "code",
   "execution_count": 9,
   "id": "172f284d",
   "metadata": {},
   "outputs": [],
   "source": [
    "# Split the main text data into the training and testing sets.\n",
    "X_main_train, X_main_test, y_main_train, y_main_test = train_test_split(X, y, test_size=0.3, stratify=y, random_state=42)"
   ]
  },
  {
   "cell_type": "code",
   "execution_count": 10,
   "id": "f1d48475",
   "metadata": {},
   "outputs": [],
   "source": [
    "# Split the stem text data into the training and testing sets.\n",
    "X_stem_train, X_stem_test, y_stem_train, y_stem_test = train_test_split(X_stem, y, test_size=0.3, stratify=y, random_state=42)"
   ]
  },
  {
   "cell_type": "code",
   "execution_count": 11,
   "id": "50d53bbf",
   "metadata": {},
   "outputs": [],
   "source": [
    "# Split the lemmatized text data into the training and testing sets.\n",
    "X_lem_train, X_lem_test, y_lem_train, y_lem_test = train_test_split(X_lem, y, test_size=0.3, stratify=y, random_state=42)"
   ]
  },
  {
   "cell_type": "markdown",
   "id": "9a54bf84",
   "metadata": {},
   "source": [
    "## Modelling\n",
    "- Model 0: CountVectorizer with LogisticRegression\n",
    "- Creating a Randomized Search function to run different models\n",
    "- Model 1: CountVectorizer with MultinomialNB (using main, stem and lem text)\n",
    "- Model 2: TfidfVectorizer with MultinomialNB (using main, stem and lem text)\n",
    "- Model 3: CountVectorizer with RandomForest (using main, stem and lem text)\n",
    "- Model 4: TfidfVectorizer with RandomForest (using main, stem and lem text)\n",
    "\n",
    "*Back to [Contents](#Contents:)*"
   ]
  },
  {
   "cell_type": "markdown",
   "id": "a9ea72ae",
   "metadata": {},
   "source": [
    "### Model 0: CountVectorizer with LogisticRegression"
   ]
  },
  {
   "cell_type": "code",
   "execution_count": 12,
   "id": "0e7bdcec",
   "metadata": {},
   "outputs": [
    {
     "name": "stdout",
     "output_type": "stream",
     "text": [
      "There are 14062 features in the model.\n",
      "Train score: 0.9777\n",
      "Test score: 0.863\n"
     ]
    }
   ],
   "source": [
    "# Use CountVectorizer and LogisticRegression to get a simple first model\n",
    "\n",
    "cv_simple = CountVectorizer(stop_words='english')\n",
    "X_train_cv = cv_simple.fit_transform(X_main_train)\n",
    "X_test_cv = cv_simple.transform(X_main_test)\n",
    "\n",
    "print(\"There are {} features in the model.\".format(len(cv_simple.get_feature_names())))\n",
    "\n",
    "lr_simple = LogisticRegression(solver='lbfgs')\n",
    "lr_simple.fit(X_train_cv, y_main_train)\n",
    "score_train = round(lr_simple.score(X_train_cv, y_main_train),4)\n",
    "score_test = round(lr_simple.score(X_test_cv, y_main_test),4)\n",
    "\n",
    "print(\"Train score: {}\".format(score_train))\n",
    "print(\"Test score: {}\".format(score_test))"
   ]
  },
  {
   "cell_type": "markdown",
   "id": "fd3cd43b",
   "metadata": {},
   "source": [
    "Looks like there is an issue of overfitting with this simple Logistic Regression model."
   ]
  },
  {
   "cell_type": "markdown",
   "id": "826369ed",
   "metadata": {},
   "source": [
    "### Function to run different models and print results"
   ]
  },
  {
   "cell_type": "code",
   "execution_count": 13,
   "id": "4d935753",
   "metadata": {},
   "outputs": [],
   "source": [
    "# Remove general stopwords in the english language \n",
    "# Remove additional stop words\n",
    "\n",
    "add_stop = ['bicycle', 'bicycles', 'bicycling', 'cyclist', 'cyclists', 'cycling',\n",
    "            'motorcycle', 'motorcycles', 'motorbike', 'motorbikes', 'motor']\n",
    "\n",
    "stoplist = stopwords.words('english') + add_stop"
   ]
  },
  {
   "cell_type": "code",
   "execution_count": 14,
   "id": "3e3da410",
   "metadata": {},
   "outputs": [],
   "source": [
    "# Instantiate a dictionary to house Models' Scores\n",
    "results = {}"
   ]
  },
  {
   "cell_type": "code",
   "execution_count": 15,
   "id": "98adc88e",
   "metadata": {},
   "outputs": [],
   "source": [
    "# Define main function to run Pipeline + RandomizedSearchCV\n",
    "def run_model_rs(pipeline, parameters, cv=3, kind='', model_name=''):\n",
    "    \n",
    "    # Instantiate RandomizedSearchCV\n",
    "    rs = RandomizedSearchCV(pipeline,\n",
    "                            parameters,\n",
    "                            cv=cv,\n",
    "                            verbose=1,\n",
    "                            n_jobs=-1,\n",
    "                            n_iter=25, \n",
    "                            random_state=42)\n",
    "    \n",
    "    # Start our timer.\n",
    "    t0 = time.time()\n",
    "    \n",
    "    # Fit GridSearch to training data, either main text, stem text or lem text\n",
    "    if kind=='main':\n",
    "        X_train = X_main_train\n",
    "        y_train = y_main_train\n",
    "        X_test = X_main_test\n",
    "        y_test = y_main_test\n",
    "    elif kind=='stem':\n",
    "        X_train = X_stem_train\n",
    "        y_train = y_stem_train\n",
    "        X_test = X_stem_test\n",
    "        y_test = y_stem_test\n",
    "    else:\n",
    "        X_train = X_lem_train\n",
    "        y_train = y_lem_train\n",
    "        X_test = X_lem_test\n",
    "        y_test = y_lem_test\n",
    "    \n",
    "    rs_model = rs.fit(X_train, y_train)\n",
    "    \n",
    "    # Stop our timer and print the result.\n",
    "    print(f\"Time taken: {round(time.time() - t0,2)} seconds\")\n",
    "    \n",
    "    \n",
    "    # Best mean score out of cross validation out of all parameters tested\n",
    "    print('\\n')\n",
    "    print(f'Best Score: {round(rs.best_score_,4)}')\n",
    "    \n",
    "    # Best Paramenters\n",
    "    print(f'Best Parameters: {rs.best_params_}')\n",
    "    \n",
    "    # Save best model\n",
    "    print(f'Best Estimator: {rs.best_estimator_}')\n",
    "    \n",
    "    # Score model on training set.\n",
    "    train_score = round(rs_model.score(X_train, y_train),4)\n",
    "    print('\\n')\n",
    "    print(f'Training Accuracy Score: {train_score}')\n",
    "    \n",
    "    # Score model on testing set.\n",
    "    test_score = round(rs_model.score(X_test, y_test),4)\n",
    "    print(f'Testing Accuracy Score: {test_score}')\n",
    "    \n",
    "    # Generalization difference\n",
    "    gen_diff = round((1 - test_score/train_score) * 100,4)\n",
    "    print(f'Generalization Difference: {gen_diff}%')\n",
    "    print('\\n')\n",
    "    \n",
    "    # Predictions\n",
    "    pred = rs.predict(X_test)\n",
    "    \n",
    "    # Calculate ROC_AUC score\n",
    "    y_proba = rs.predict_proba(X_test)\n",
    "    auc = round(roc_auc_score(y_test, y_proba[:,1]),4)\n",
    "    \n",
    "    # Confusion Matrix\n",
    "    cm_df = pd.DataFrame(confusion_matrix(y_test, pred),\n",
    "                         columns=['pred_bicycling', 'pred_motorcycles'],\n",
    "                         index=['actual_bicycling', 'actual_motorcycles'])\n",
    "    print('Confusion Matrix:')\n",
    "    print(cm_df)\n",
    "    print('\\n')\n",
    "    \n",
    "    tn, fp, fn, tp = confusion_matrix(y_test, pred).ravel()\n",
    "    \n",
    "    # Print different metrics\n",
    "    accuracy = round((tp + tn) / (tp + tn + fp + fn),4)\n",
    "    print(f'Accuracy: {accuracy}')\n",
    "    \n",
    "    misclassification = round(1 - accuracy,4)\n",
    "    print(f'Misclassification: {misclassification}') \n",
    "    \n",
    "    sensitivity = round(tp / (tp + fn),4)\n",
    "    print(f'Sensitivity/ Recall: {sensitivity}')\n",
    "    \n",
    "    specificity = round(tn / (tn + fp),4)\n",
    "    print(f'Specificity: {specificity}')\n",
    "    \n",
    "    precision = round(tp / (tp + fp),4)\n",
    "    print(f'Precision: {precision}')\n",
    "    \n",
    "    f1_score = round(2 * (sensitivity * precision) / (sensitivity + precision),4)\n",
    "    print(f'F1 Score: {f1_score}')\n",
    "    \n",
    "    print(f'ROC AUC Score: {auc}')\n",
    "    \n",
    "    # 'Append' accuracy scores to 'results' dictinoary\n",
    "    results[model_name] = [train_score, test_score, gen_diff,\n",
    "                           misclassification, sensitivity, specificity, precision, f1_score, auc]\n",
    "    \n",
    "    plot_confusion_matrix(rs, X_test, y_test, cmap='Blues', values_format='d')"
   ]
  },
  {
   "cell_type": "markdown",
   "id": "88d45112",
   "metadata": {},
   "source": [
    "### Model 1: CountVectorizer with MultinomialNB\n",
    "- 1.1 Using main text\n",
    "- 1.2 Using stemmed text\n",
    "- 1.3 Using lemmatized text"
   ]
  },
  {
   "cell_type": "code",
   "execution_count": 16,
   "id": "40e42b98",
   "metadata": {},
   "outputs": [],
   "source": [
    "# Set up pipeline\n",
    "pipe_cvec_nb = Pipeline([\n",
    "    ('cvec', CountVectorizer()),\n",
    "    ('nb', MultinomialNB())\n",
    "])"
   ]
  },
  {
   "cell_type": "code",
   "execution_count": 17,
   "id": "e745ce81",
   "metadata": {},
   "outputs": [],
   "source": [
    "# Set up hyperparemeters\n",
    "params_cvec_nb = {\n",
    "    'cvec__max_features': [3_000, 4_000, 5_000, 6_000, 7_000], # select n most common words in data\n",
    "    'cvec__min_df': [2, 3], # remove terms that appear in less than n documents\n",
    "    'cvec__max_df': [.85, .9, .95], # remove frequent terms in n% of documents\n",
    "    'cvec__ngram_range': [(1,1), (1,2)], #try unigrams, or bigrams\n",
    "    'cvec__stop_words': [stoplist]\n",
    "}"
   ]
  },
  {
   "cell_type": "code",
   "execution_count": 18,
   "id": "83eb8f80",
   "metadata": {
    "scrolled": true
   },
   "outputs": [
    {
     "name": "stdout",
     "output_type": "stream",
     "text": [
      "Fitting 5 folds for each of 25 candidates, totalling 125 fits\n",
      "Time taken: 10.43 seconds\n",
      "\n",
      "\n",
      "Best Score: 0.8509\n",
      "Best Parameters: {'cvec__stop_words': ['i', 'me', 'my', 'myself', 'we', 'our', 'ours', 'ourselves', 'you', \"you're\", \"you've\", \"you'll\", \"you'd\", 'your', 'yours', 'yourself', 'yourselves', 'he', 'him', 'his', 'himself', 'she', \"she's\", 'her', 'hers', 'herself', 'it', \"it's\", 'its', 'itself', 'they', 'them', 'their', 'theirs', 'themselves', 'what', 'which', 'who', 'whom', 'this', 'that', \"that'll\", 'these', 'those', 'am', 'is', 'are', 'was', 'were', 'be', 'been', 'being', 'have', 'has', 'had', 'having', 'do', 'does', 'did', 'doing', 'a', 'an', 'the', 'and', 'but', 'if', 'or', 'because', 'as', 'until', 'while', 'of', 'at', 'by', 'for', 'with', 'about', 'against', 'between', 'into', 'through', 'during', 'before', 'after', 'above', 'below', 'to', 'from', 'up', 'down', 'in', 'out', 'on', 'off', 'over', 'under', 'again', 'further', 'then', 'once', 'here', 'there', 'when', 'where', 'why', 'how', 'all', 'any', 'both', 'each', 'few', 'more', 'most', 'other', 'some', 'such', 'no', 'nor', 'not', 'only', 'own', 'same', 'so', 'than', 'too', 'very', 's', 't', 'can', 'will', 'just', 'don', \"don't\", 'should', \"should've\", 'now', 'd', 'll', 'm', 'o', 're', 've', 'y', 'ain', 'aren', \"aren't\", 'couldn', \"couldn't\", 'didn', \"didn't\", 'doesn', \"doesn't\", 'hadn', \"hadn't\", 'hasn', \"hasn't\", 'haven', \"haven't\", 'isn', \"isn't\", 'ma', 'mightn', \"mightn't\", 'mustn', \"mustn't\", 'needn', \"needn't\", 'shan', \"shan't\", 'shouldn', \"shouldn't\", 'wasn', \"wasn't\", 'weren', \"weren't\", 'won', \"won't\", 'wouldn', \"wouldn't\", 'bicycle', 'bicycles', 'bicycling', 'cyclist', 'cyclists', 'cycling', 'motorcycle', 'motorcycles', 'motorbike', 'motorbikes', 'motor'], 'cvec__ngram_range': (1, 2), 'cvec__min_df': 3, 'cvec__max_features': 7000, 'cvec__max_df': 0.85}\n",
      "Best Estimator: Pipeline(steps=[('cvec',\n",
      "                 CountVectorizer(max_df=0.85, max_features=7000, min_df=3,\n",
      "                                 ngram_range=(1, 2),\n",
      "                                 stop_words=['i', 'me', 'my', 'myself', 'we',\n",
      "                                             'our', 'ours', 'ourselves', 'you',\n",
      "                                             \"you're\", \"you've\", \"you'll\",\n",
      "                                             \"you'd\", 'your', 'yours',\n",
      "                                             'yourself', 'yourselves', 'he',\n",
      "                                             'him', 'his', 'himself', 'she',\n",
      "                                             \"she's\", 'her', 'hers', 'herself',\n",
      "                                             'it', \"it's\", 'its', 'itself', ...])),\n",
      "                ('nb', MultinomialNB())])\n",
      "\n",
      "\n",
      "Training Accuracy Score: 0.9209\n",
      "Testing Accuracy Score: 0.8487\n",
      "Generalization Difference: 7.8402%\n",
      "\n",
      "\n",
      "Confusion Matrix:\n",
      "                    pred_bicycling  pred_motorcycles\n",
      "actual_bicycling               713               143\n",
      "actual_motorcycles              99               644\n",
      "\n",
      "\n",
      "Accuracy: 0.8487\n",
      "Misclassification: 0.1513\n",
      "Sensitivity/ Recall: 0.8668\n",
      "Specificity: 0.8329\n",
      "Precision: 0.8183\n",
      "F1 Score: 0.8419\n",
      "ROC AUC Score: 0.9293\n"
     ]
    },
    {
     "data": {
      "image/png": "[encoded data removed]",
      "text/plain": [
       "<Figure size 432x288 with 2 Axes>"
      ]
     },
     "metadata": {},
     "output_type": "display_data"
    }
   ],
   "source": [
    "# Run Model 1.1: CountVectorizer with MultinomialNB using main text\n",
    "run_model_rs(pipe_cvec_nb, params_cvec_nb, cv=5, kind='main', model_name='cvec_nb_main')"
   ]
  },
  {
   "cell_type": "code",
   "execution_count": 19,
   "id": "95942374",
   "metadata": {
    "scrolled": true
   },
   "outputs": [
    {
     "name": "stdout",
     "output_type": "stream",
     "text": [
      "Fitting 5 folds for each of 25 candidates, totalling 125 fits\n",
      "Time taken: 7.56 seconds\n",
      "\n",
      "\n",
      "Best Score: 0.8702\n",
      "Best Parameters: {'cvec__stop_words': ['i', 'me', 'my', 'myself', 'we', 'our', 'ours', 'ourselves', 'you', \"you're\", \"you've\", \"you'll\", \"you'd\", 'your', 'yours', 'yourself', 'yourselves', 'he', 'him', 'his', 'himself', 'she', \"she's\", 'her', 'hers', 'herself', 'it', \"it's\", 'its', 'itself', 'they', 'them', 'their', 'theirs', 'themselves', 'what', 'which', 'who', 'whom', 'this', 'that', \"that'll\", 'these', 'those', 'am', 'is', 'are', 'was', 'were', 'be', 'been', 'being', 'have', 'has', 'had', 'having', 'do', 'does', 'did', 'doing', 'a', 'an', 'the', 'and', 'but', 'if', 'or', 'because', 'as', 'until', 'while', 'of', 'at', 'by', 'for', 'with', 'about', 'against', 'between', 'into', 'through', 'during', 'before', 'after', 'above', 'below', 'to', 'from', 'up', 'down', 'in', 'out', 'on', 'off', 'over', 'under', 'again', 'further', 'then', 'once', 'here', 'there', 'when', 'where', 'why', 'how', 'all', 'any', 'both', 'each', 'few', 'more', 'most', 'other', 'some', 'such', 'no', 'nor', 'not', 'only', 'own', 'same', 'so', 'than', 'too', 'very', 's', 't', 'can', 'will', 'just', 'don', \"don't\", 'should', \"should've\", 'now', 'd', 'll', 'm', 'o', 're', 've', 'y', 'ain', 'aren', \"aren't\", 'couldn', \"couldn't\", 'didn', \"didn't\", 'doesn', \"doesn't\", 'hadn', \"hadn't\", 'hasn', \"hasn't\", 'haven', \"haven't\", 'isn', \"isn't\", 'ma', 'mightn', \"mightn't\", 'mustn', \"mustn't\", 'needn', \"needn't\", 'shan', \"shan't\", 'shouldn', \"shouldn't\", 'wasn', \"wasn't\", 'weren', \"weren't\", 'won', \"won't\", 'wouldn', \"wouldn't\", 'bicycle', 'bicycles', 'bicycling', 'cyclist', 'cyclists', 'cycling', 'motorcycle', 'motorcycles', 'motorbike', 'motorbikes', 'motor'], 'cvec__ngram_range': (1, 2), 'cvec__min_df': 2, 'cvec__max_features': 7000, 'cvec__max_df': 0.95}\n",
      "Best Estimator: Pipeline(steps=[('cvec',\n",
      "                 CountVectorizer(max_df=0.95, max_features=7000, min_df=2,\n",
      "                                 ngram_range=(1, 2),\n",
      "                                 stop_words=['i', 'me', 'my', 'myself', 'we',\n",
      "                                             'our', 'ours', 'ourselves', 'you',\n",
      "                                             \"you're\", \"you've\", \"you'll\",\n",
      "                                             \"you'd\", 'your', 'yours',\n",
      "                                             'yourself', 'yourselves', 'he',\n",
      "                                             'him', 'his', 'himself', 'she',\n",
      "                                             \"she's\", 'her', 'hers', 'herself',\n",
      "                                             'it', \"it's\", 'its', 'itself', ...])),\n",
      "                ('nb', MultinomialNB())])\n",
      "\n",
      "\n",
      "Training Accuracy Score: 0.9343\n",
      "Testing Accuracy Score: 0.8737\n",
      "Generalization Difference: 6.4861%\n",
      "\n",
      "\n",
      "Confusion Matrix:\n",
      "                    pred_bicycling  pred_motorcycles\n",
      "actual_bicycling               735               121\n",
      "actual_motorcycles              81               662\n",
      "\n",
      "\n",
      "Accuracy: 0.8737\n",
      "Misclassification: 0.1263\n",
      "Sensitivity/ Recall: 0.891\n",
      "Specificity: 0.8586\n",
      "Precision: 0.8455\n",
      "F1 Score: 0.8677\n",
      "ROC AUC Score: 0.9465\n"
     ]
    },
    {
     "data": {
      "image/png": "[encoded data removed]",
      "text/plain": [
       "<Figure size 432x288 with 2 Axes>"
      ]
     },
     "metadata": {},
     "output_type": "display_data"
    }
   ],
   "source": [
    "# Run Model 1.2: CountVectorizer with MultinomialNB using stemmed text\n",
    "run_model_rs(pipe_cvec_nb, params_cvec_nb, cv=5, kind='stem', model_name='cvec_nb_stem')"
   ]
  },
  {
   "cell_type": "code",
   "execution_count": 20,
   "id": "9e27d363",
   "metadata": {
    "scrolled": true
   },
   "outputs": [
    {
     "name": "stdout",
     "output_type": "stream",
     "text": [
      "Fitting 5 folds for each of 25 candidates, totalling 125 fits\n",
      "Time taken: 7.7 seconds\n",
      "\n",
      "\n",
      "Best Score: 0.8507\n",
      "Best Parameters: {'cvec__stop_words': ['i', 'me', 'my', 'myself', 'we', 'our', 'ours', 'ourselves', 'you', \"you're\", \"you've\", \"you'll\", \"you'd\", 'your', 'yours', 'yourself', 'yourselves', 'he', 'him', 'his', 'himself', 'she', \"she's\", 'her', 'hers', 'herself', 'it', \"it's\", 'its', 'itself', 'they', 'them', 'their', 'theirs', 'themselves', 'what', 'which', 'who', 'whom', 'this', 'that', \"that'll\", 'these', 'those', 'am', 'is', 'are', 'was', 'were', 'be', 'been', 'being', 'have', 'has', 'had', 'having', 'do', 'does', 'did', 'doing', 'a', 'an', 'the', 'and', 'but', 'if', 'or', 'because', 'as', 'until', 'while', 'of', 'at', 'by', 'for', 'with', 'about', 'against', 'between', 'into', 'through', 'during', 'before', 'after', 'above', 'below', 'to', 'from', 'up', 'down', 'in', 'out', 'on', 'off', 'over', 'under', 'again', 'further', 'then', 'once', 'here', 'there', 'when', 'where', 'why', 'how', 'all', 'any', 'both', 'each', 'few', 'more', 'most', 'other', 'some', 'such', 'no', 'nor', 'not', 'only', 'own', 'same', 'so', 'than', 'too', 'very', 's', 't', 'can', 'will', 'just', 'don', \"don't\", 'should', \"should've\", 'now', 'd', 'll', 'm', 'o', 're', 've', 'y', 'ain', 'aren', \"aren't\", 'couldn', \"couldn't\", 'didn', \"didn't\", 'doesn', \"doesn't\", 'hadn', \"hadn't\", 'hasn', \"hasn't\", 'haven', \"haven't\", 'isn', \"isn't\", 'ma', 'mightn', \"mightn't\", 'mustn', \"mustn't\", 'needn', \"needn't\", 'shan', \"shan't\", 'shouldn', \"shouldn't\", 'wasn', \"wasn't\", 'weren', \"weren't\", 'won', \"won't\", 'wouldn', \"wouldn't\", 'bicycle', 'bicycles', 'bicycling', 'cyclist', 'cyclists', 'cycling', 'motorcycle', 'motorcycles', 'motorbike', 'motorbikes', 'motor'], 'cvec__ngram_range': (1, 2), 'cvec__min_df': 2, 'cvec__max_features': 6000, 'cvec__max_df': 0.85}\n",
      "Best Estimator: Pipeline(steps=[('cvec',\n",
      "                 CountVectorizer(max_df=0.85, max_features=6000, min_df=2,\n",
      "                                 ngram_range=(1, 2),\n",
      "                                 stop_words=['i', 'me', 'my', 'myself', 'we',\n",
      "                                             'our', 'ours', 'ourselves', 'you',\n",
      "                                             \"you're\", \"you've\", \"you'll\",\n",
      "                                             \"you'd\", 'your', 'yours',\n",
      "                                             'yourself', 'yourselves', 'he',\n",
      "                                             'him', 'his', 'himself', 'she',\n",
      "                                             \"she's\", 'her', 'hers', 'herself',\n",
      "                                             'it', \"it's\", 'its', 'itself', ...])),\n",
      "                ('nb', MultinomialNB())])\n",
      "\n",
      "\n",
      "Training Accuracy Score: 0.9177\n",
      "Testing Accuracy Score: 0.8468\n",
      "Generalization Difference: 7.7258%\n",
      "\n",
      "\n",
      "Confusion Matrix:\n",
      "                    pred_bicycling  pred_motorcycles\n",
      "actual_bicycling               710               146\n",
      "actual_motorcycles              99               644\n",
      "\n",
      "\n",
      "Accuracy: 0.8468\n",
      "Misclassification: 0.1532\n",
      "Sensitivity/ Recall: 0.8668\n",
      "Specificity: 0.8294\n",
      "Precision: 0.8152\n",
      "F1 Score: 0.8402\n",
      "ROC AUC Score: 0.9319\n"
     ]
    },
    {
     "data": {
      "image/png": "[encoded data removed]",
      "text/plain": [
       "<Figure size 432x288 with 2 Axes>"
      ]
     },
     "metadata": {},
     "output_type": "display_data"
    }
   ],
   "source": [
    "# Run Model 1.3: CountVectorizer with MultinomialNB using lemmatized text\n",
    "run_model_rs(pipe_cvec_nb, params_cvec_nb, cv=5, kind='lem', model_name='cvec_nb_lem')"
   ]
  },
  {
   "cell_type": "markdown",
   "id": "5ef539cb",
   "metadata": {},
   "source": [
    "### Model 2: TfidfVectorizer with MultinomialNB\n",
    "- 2.1 Using main text\n",
    "- 2.2 Using stemmed text\n",
    "- 2.3 Using lemmatized text"
   ]
  },
  {
   "cell_type": "code",
   "execution_count": 21,
   "id": "1cbe54d6",
   "metadata": {},
   "outputs": [],
   "source": [
    "# Set up pipeline\n",
    "pipe_tvec_nb = Pipeline([\n",
    "    ('tvec', TfidfVectorizer()),\n",
    "    ('nb', MultinomialNB())\n",
    "])"
   ]
  },
  {
   "cell_type": "code",
   "execution_count": 22,
   "id": "048ecbc8",
   "metadata": {},
   "outputs": [],
   "source": [
    "# Set up hyperparemeters\n",
    "params_tvec_nb = {\n",
    "    'tvec__max_features': [3_000, 4_000, 5_000, 6_000, 7_000],\n",
    "    'tvec__stop_words': [stoplist],\n",
    "    'tvec__ngram_range': [(1,1), (1,2)],\n",
    "    'tvec__min_df': [2, 3],\n",
    "    'tvec__max_df': [0.8, 0.9]\n",
    "}"
   ]
  },
  {
   "cell_type": "code",
   "execution_count": 23,
   "id": "7652fe8f",
   "metadata": {},
   "outputs": [
    {
     "name": "stdout",
     "output_type": "stream",
     "text": [
      "Fitting 5 folds for each of 25 candidates, totalling 125 fits\n",
      "Time taken: 9.77 seconds\n",
      "\n",
      "\n",
      "Best Score: 0.8547\n",
      "Best Parameters: {'tvec__stop_words': ['i', 'me', 'my', 'myself', 'we', 'our', 'ours', 'ourselves', 'you', \"you're\", \"you've\", \"you'll\", \"you'd\", 'your', 'yours', 'yourself', 'yourselves', 'he', 'him', 'his', 'himself', 'she', \"she's\", 'her', 'hers', 'herself', 'it', \"it's\", 'its', 'itself', 'they', 'them', 'their', 'theirs', 'themselves', 'what', 'which', 'who', 'whom', 'this', 'that', \"that'll\", 'these', 'those', 'am', 'is', 'are', 'was', 'were', 'be', 'been', 'being', 'have', 'has', 'had', 'having', 'do', 'does', 'did', 'doing', 'a', 'an', 'the', 'and', 'but', 'if', 'or', 'because', 'as', 'until', 'while', 'of', 'at', 'by', 'for', 'with', 'about', 'against', 'between', 'into', 'through', 'during', 'before', 'after', 'above', 'below', 'to', 'from', 'up', 'down', 'in', 'out', 'on', 'off', 'over', 'under', 'again', 'further', 'then', 'once', 'here', 'there', 'when', 'where', 'why', 'how', 'all', 'any', 'both', 'each', 'few', 'more', 'most', 'other', 'some', 'such', 'no', 'nor', 'not', 'only', 'own', 'same', 'so', 'than', 'too', 'very', 's', 't', 'can', 'will', 'just', 'don', \"don't\", 'should', \"should've\", 'now', 'd', 'll', 'm', 'o', 're', 've', 'y', 'ain', 'aren', \"aren't\", 'couldn', \"couldn't\", 'didn', \"didn't\", 'doesn', \"doesn't\", 'hadn', \"hadn't\", 'hasn', \"hasn't\", 'haven', \"haven't\", 'isn', \"isn't\", 'ma', 'mightn', \"mightn't\", 'mustn', \"mustn't\", 'needn', \"needn't\", 'shan', \"shan't\", 'shouldn', \"shouldn't\", 'wasn', \"wasn't\", 'weren', \"weren't\", 'won', \"won't\", 'wouldn', \"wouldn't\", 'bicycle', 'bicycles', 'bicycling', 'cyclist', 'cyclists', 'cycling', 'motorcycle', 'motorcycles', 'motorbike', 'motorbikes', 'motor'], 'tvec__ngram_range': (1, 2), 'tvec__min_df': 2, 'tvec__max_features': 6000, 'tvec__max_df': 0.8}\n",
      "Best Estimator: Pipeline(steps=[('tvec',\n",
      "                 TfidfVectorizer(max_df=0.8, max_features=6000, min_df=2,\n",
      "                                 ngram_range=(1, 2),\n",
      "                                 stop_words=['i', 'me', 'my', 'myself', 'we',\n",
      "                                             'our', 'ours', 'ourselves', 'you',\n",
      "                                             \"you're\", \"you've\", \"you'll\",\n",
      "                                             \"you'd\", 'your', 'yours',\n",
      "                                             'yourself', 'yourselves', 'he',\n",
      "                                             'him', 'his', 'himself', 'she',\n",
      "                                             \"she's\", 'her', 'hers', 'herself',\n",
      "                                             'it', \"it's\", 'its', 'itself', ...])),\n",
      "                ('nb', MultinomialNB())])\n",
      "\n",
      "\n",
      "Training Accuracy Score: 0.9429\n",
      "Testing Accuracy Score: 0.848\n",
      "Generalization Difference: 10.0647%\n",
      "\n",
      "\n",
      "Confusion Matrix:\n",
      "                    pred_bicycling  pred_motorcycles\n",
      "actual_bicycling               735               121\n",
      "actual_motorcycles             122               621\n",
      "\n",
      "\n",
      "Accuracy: 0.848\n",
      "Misclassification: 0.152\n",
      "Sensitivity/ Recall: 0.8358\n",
      "Specificity: 0.8586\n",
      "Precision: 0.8369\n",
      "F1 Score: 0.8363\n",
      "ROC AUC Score: 0.9359\n"
     ]
    },
    {
     "data": {
      "image/png": "[encoded data removed]",
      "text/plain": [
       "<Figure size 432x288 with 2 Axes>"
      ]
     },
     "metadata": {},
     "output_type": "display_data"
    }
   ],
   "source": [
    "# Run Model 2.1: TfidfVectorizer with MultinomialNB with main text\n",
    "run_model_rs(pipe_tvec_nb, params_tvec_nb, cv=5, kind='main', model_name='tvec_nb_main')"
   ]
  },
  {
   "cell_type": "code",
   "execution_count": 24,
   "id": "b3afa0da",
   "metadata": {
    "scrolled": true
   },
   "outputs": [
    {
     "name": "stdout",
     "output_type": "stream",
     "text": [
      "Fitting 5 folds for each of 25 candidates, totalling 125 fits\n",
      "Time taken: 9.42 seconds\n",
      "\n",
      "\n",
      "Best Score: 0.8735\n",
      "Best Parameters: {'tvec__stop_words': ['i', 'me', 'my', 'myself', 'we', 'our', 'ours', 'ourselves', 'you', \"you're\", \"you've\", \"you'll\", \"you'd\", 'your', 'yours', 'yourself', 'yourselves', 'he', 'him', 'his', 'himself', 'she', \"she's\", 'her', 'hers', 'herself', 'it', \"it's\", 'its', 'itself', 'they', 'them', 'their', 'theirs', 'themselves', 'what', 'which', 'who', 'whom', 'this', 'that', \"that'll\", 'these', 'those', 'am', 'is', 'are', 'was', 'were', 'be', 'been', 'being', 'have', 'has', 'had', 'having', 'do', 'does', 'did', 'doing', 'a', 'an', 'the', 'and', 'but', 'if', 'or', 'because', 'as', 'until', 'while', 'of', 'at', 'by', 'for', 'with', 'about', 'against', 'between', 'into', 'through', 'during', 'before', 'after', 'above', 'below', 'to', 'from', 'up', 'down', 'in', 'out', 'on', 'off', 'over', 'under', 'again', 'further', 'then', 'once', 'here', 'there', 'when', 'where', 'why', 'how', 'all', 'any', 'both', 'each', 'few', 'more', 'most', 'other', 'some', 'such', 'no', 'nor', 'not', 'only', 'own', 'same', 'so', 'than', 'too', 'very', 's', 't', 'can', 'will', 'just', 'don', \"don't\", 'should', \"should've\", 'now', 'd', 'll', 'm', 'o', 're', 've', 'y', 'ain', 'aren', \"aren't\", 'couldn', \"couldn't\", 'didn', \"didn't\", 'doesn', \"doesn't\", 'hadn', \"hadn't\", 'hasn', \"hasn't\", 'haven', \"haven't\", 'isn', \"isn't\", 'ma', 'mightn', \"mightn't\", 'mustn', \"mustn't\", 'needn', \"needn't\", 'shan', \"shan't\", 'shouldn', \"shouldn't\", 'wasn', \"wasn't\", 'weren', \"weren't\", 'won', \"won't\", 'wouldn', \"wouldn't\", 'bicycle', 'bicycles', 'bicycling', 'cyclist', 'cyclists', 'cycling', 'motorcycle', 'motorcycles', 'motorbike', 'motorbikes', 'motor'], 'tvec__ngram_range': (1, 2), 'tvec__min_df': 3, 'tvec__max_features': 7000, 'tvec__max_df': 0.8}\n",
      "Best Estimator: Pipeline(steps=[('tvec',\n",
      "                 TfidfVectorizer(max_df=0.8, max_features=7000, min_df=3,\n",
      "                                 ngram_range=(1, 2),\n",
      "                                 stop_words=['i', 'me', 'my', 'myself', 'we',\n",
      "                                             'our', 'ours', 'ourselves', 'you',\n",
      "                                             \"you're\", \"you've\", \"you'll\",\n",
      "                                             \"you'd\", 'your', 'yours',\n",
      "                                             'yourself', 'yourselves', 'he',\n",
      "                                             'him', 'his', 'himself', 'she',\n",
      "                                             \"she's\", 'her', 'hers', 'herself',\n",
      "                                             'it', \"it's\", 'its', 'itself', ...])),\n",
      "                ('nb', MultinomialNB())])\n",
      "\n",
      "\n",
      "Training Accuracy Score: 0.9571\n",
      "Testing Accuracy Score: 0.8699\n",
      "Generalization Difference: 9.1109%\n",
      "\n",
      "\n",
      "Confusion Matrix:\n",
      "                    pred_bicycling  pred_motorcycles\n",
      "actual_bicycling               745               111\n",
      "actual_motorcycles              97               646\n",
      "\n",
      "\n",
      "Accuracy: 0.8699\n",
      "Misclassification: 0.1301\n",
      "Sensitivity/ Recall: 0.8694\n",
      "Specificity: 0.8703\n",
      "Precision: 0.8534\n",
      "F1 Score: 0.8613\n",
      "ROC AUC Score: 0.9522\n"
     ]
    },
    {
     "data": {
      "image/png": "[encoded data removed]",
      "text/plain": [
       "<Figure size 432x288 with 2 Axes>"
      ]
     },
     "metadata": {},
     "output_type": "display_data"
    }
   ],
   "source": [
    "# Run Model 2.2: TfidfVectorizer with MultinomialNB with stemmed text\n",
    "run_model_rs(pipe_tvec_nb, params_tvec_nb, cv=5, kind='stem', model_name='tvec_nb_stem')"
   ]
  },
  {
   "cell_type": "code",
   "execution_count": 25,
   "id": "6b9c6713",
   "metadata": {},
   "outputs": [
    {
     "name": "stdout",
     "output_type": "stream",
     "text": [
      "Fitting 5 folds for each of 25 candidates, totalling 125 fits\n",
      "Time taken: 9.42 seconds\n",
      "\n",
      "\n",
      "Best Score: 0.8582\n",
      "Best Parameters: {'tvec__stop_words': ['i', 'me', 'my', 'myself', 'we', 'our', 'ours', 'ourselves', 'you', \"you're\", \"you've\", \"you'll\", \"you'd\", 'your', 'yours', 'yourself', 'yourselves', 'he', 'him', 'his', 'himself', 'she', \"she's\", 'her', 'hers', 'herself', 'it', \"it's\", 'its', 'itself', 'they', 'them', 'their', 'theirs', 'themselves', 'what', 'which', 'who', 'whom', 'this', 'that', \"that'll\", 'these', 'those', 'am', 'is', 'are', 'was', 'were', 'be', 'been', 'being', 'have', 'has', 'had', 'having', 'do', 'does', 'did', 'doing', 'a', 'an', 'the', 'and', 'but', 'if', 'or', 'because', 'as', 'until', 'while', 'of', 'at', 'by', 'for', 'with', 'about', 'against', 'between', 'into', 'through', 'during', 'before', 'after', 'above', 'below', 'to', 'from', 'up', 'down', 'in', 'out', 'on', 'off', 'over', 'under', 'again', 'further', 'then', 'once', 'here', 'there', 'when', 'where', 'why', 'how', 'all', 'any', 'both', 'each', 'few', 'more', 'most', 'other', 'some', 'such', 'no', 'nor', 'not', 'only', 'own', 'same', 'so', 'than', 'too', 'very', 's', 't', 'can', 'will', 'just', 'don', \"don't\", 'should', \"should've\", 'now', 'd', 'll', 'm', 'o', 're', 've', 'y', 'ain', 'aren', \"aren't\", 'couldn', \"couldn't\", 'didn', \"didn't\", 'doesn', \"doesn't\", 'hadn', \"hadn't\", 'hasn', \"hasn't\", 'haven', \"haven't\", 'isn', \"isn't\", 'ma', 'mightn', \"mightn't\", 'mustn', \"mustn't\", 'needn', \"needn't\", 'shan', \"shan't\", 'shouldn', \"shouldn't\", 'wasn', \"wasn't\", 'weren', \"weren't\", 'won', \"won't\", 'wouldn', \"wouldn't\", 'bicycle', 'bicycles', 'bicycling', 'cyclist', 'cyclists', 'cycling', 'motorcycle', 'motorcycles', 'motorbike', 'motorbikes', 'motor'], 'tvec__ngram_range': (1, 2), 'tvec__min_df': 2, 'tvec__max_features': 7000, 'tvec__max_df': 0.9}\n",
      "Best Estimator: Pipeline(steps=[('tvec',\n",
      "                 TfidfVectorizer(max_df=0.9, max_features=7000, min_df=2,\n",
      "                                 ngram_range=(1, 2),\n",
      "                                 stop_words=['i', 'me', 'my', 'myself', 'we',\n",
      "                                             'our', 'ours', 'ourselves', 'you',\n",
      "                                             \"you're\", \"you've\", \"you'll\",\n",
      "                                             \"you'd\", 'your', 'yours',\n",
      "                                             'yourself', 'yourselves', 'he',\n",
      "                                             'him', 'his', 'himself', 'she',\n",
      "                                             \"she's\", 'her', 'hers', 'herself',\n",
      "                                             'it', \"it's\", 'its', 'itself', ...])),\n",
      "                ('nb', MultinomialNB())])\n",
      "\n",
      "\n",
      "Training Accuracy Score: 0.948\n",
      "Testing Accuracy Score: 0.8512\n",
      "Generalization Difference: 10.211%\n",
      "\n",
      "\n",
      "Confusion Matrix:\n",
      "                    pred_bicycling  pred_motorcycles\n",
      "actual_bicycling               736               120\n",
      "actual_motorcycles             118               625\n",
      "\n",
      "\n",
      "Accuracy: 0.8512\n",
      "Misclassification: 0.1488\n",
      "Sensitivity/ Recall: 0.8412\n",
      "Specificity: 0.8598\n",
      "Precision: 0.8389\n",
      "F1 Score: 0.84\n",
      "ROC AUC Score: 0.9378\n"
     ]
    },
    {
     "data": {
      "image/png": "[encoded data removed]",
      "text/plain": [
       "<Figure size 432x288 with 2 Axes>"
      ]
     },
     "metadata": {},
     "output_type": "display_data"
    }
   ],
   "source": [
    "# Run Model 2.3: TfidfVectorizer with MultinomialNB with lemmatized text\n",
    "run_model_rs(pipe_tvec_nb, params_tvec_nb, cv=5, kind='lem', model_name='tvec_nb_lem')"
   ]
  },
  {
   "cell_type": "markdown",
   "id": "e2bb487c",
   "metadata": {},
   "source": [
    "### Model 3: CountVectorizer with RandomForest\n",
    "- 3.1 Using main text\n",
    "- 3.2 Using stemmed text\n",
    "- 3.3 Using lemmatized text"
   ]
  },
  {
   "cell_type": "code",
   "execution_count": 26,
   "id": "8c6a2add",
   "metadata": {},
   "outputs": [],
   "source": [
    "# Set up pipeline\n",
    "\n",
    "pipe_cvec_rf = Pipeline([\n",
    "    ('cvec', CountVectorizer()),\n",
    "    ('rf', RandomForestClassifier())\n",
    "])"
   ]
  },
  {
   "cell_type": "code",
   "execution_count": 27,
   "id": "45464c4b",
   "metadata": {},
   "outputs": [],
   "source": [
    "# Set up hyperparameters\n",
    "\n",
    "params_cvec_rf = {\n",
    "    'cvec__max_features': [2_000, 3_500, 5_000],\n",
    "    'cvec__stop_words': [stoplist],\n",
    "    'cvec__ngram_range': [(1,1), (1,2)],\n",
    "    #'cvec__min_df': [0.01, 0.02, 0.03],\n",
    "    #'cvec__max_df': [0.8, 0.9],\n",
    "    \n",
    "    'rf__n_estimators': [100, 150, 200],\n",
    "    'rf__max_depth': [None, 1, 3, 5],\n",
    "    #'rf__min_samples_split': [10, 20, 30],\n",
    "    #'rf__min_samples_leaf':[5, 10, 15]\n",
    "}"
   ]
  },
  {
   "cell_type": "code",
   "execution_count": 28,
   "id": "e74020d1",
   "metadata": {
    "scrolled": true
   },
   "outputs": [
    {
     "name": "stdout",
     "output_type": "stream",
     "text": [
      "Fitting 5 folds for each of 25 candidates, totalling 125 fits\n",
      "Time taken: 25.62 seconds\n",
      "\n",
      "\n",
      "Best Score: 0.8016\n",
      "Best Parameters: {'rf__n_estimators': 200, 'rf__max_depth': None, 'cvec__stop_words': ['i', 'me', 'my', 'myself', 'we', 'our', 'ours', 'ourselves', 'you', \"you're\", \"you've\", \"you'll\", \"you'd\", 'your', 'yours', 'yourself', 'yourselves', 'he', 'him', 'his', 'himself', 'she', \"she's\", 'her', 'hers', 'herself', 'it', \"it's\", 'its', 'itself', 'they', 'them', 'their', 'theirs', 'themselves', 'what', 'which', 'who', 'whom', 'this', 'that', \"that'll\", 'these', 'those', 'am', 'is', 'are', 'was', 'were', 'be', 'been', 'being', 'have', 'has', 'had', 'having', 'do', 'does', 'did', 'doing', 'a', 'an', 'the', 'and', 'but', 'if', 'or', 'because', 'as', 'until', 'while', 'of', 'at', 'by', 'for', 'with', 'about', 'against', 'between', 'into', 'through', 'during', 'before', 'after', 'above', 'below', 'to', 'from', 'up', 'down', 'in', 'out', 'on', 'off', 'over', 'under', 'again', 'further', 'then', 'once', 'here', 'there', 'when', 'where', 'why', 'how', 'all', 'any', 'both', 'each', 'few', 'more', 'most', 'other', 'some', 'such', 'no', 'nor', 'not', 'only', 'own', 'same', 'so', 'than', 'too', 'very', 's', 't', 'can', 'will', 'just', 'don', \"don't\", 'should', \"should've\", 'now', 'd', 'll', 'm', 'o', 're', 've', 'y', 'ain', 'aren', \"aren't\", 'couldn', \"couldn't\", 'didn', \"didn't\", 'doesn', \"doesn't\", 'hadn', \"hadn't\", 'hasn', \"hasn't\", 'haven', \"haven't\", 'isn', \"isn't\", 'ma', 'mightn', \"mightn't\", 'mustn', \"mustn't\", 'needn', \"needn't\", 'shan', \"shan't\", 'shouldn', \"shouldn't\", 'wasn', \"wasn't\", 'weren', \"weren't\", 'won', \"won't\", 'wouldn', \"wouldn't\", 'bicycle', 'bicycles', 'bicycling', 'cyclist', 'cyclists', 'cycling', 'motorcycle', 'motorcycles', 'motorbike', 'motorbikes', 'motor'], 'cvec__ngram_range': (1, 2), 'cvec__max_features': 5000}\n",
      "Best Estimator: Pipeline(steps=[('cvec',\n",
      "                 CountVectorizer(max_features=5000, ngram_range=(1, 2),\n",
      "                                 stop_words=['i', 'me', 'my', 'myself', 'we',\n",
      "                                             'our', 'ours', 'ourselves', 'you',\n",
      "                                             \"you're\", \"you've\", \"you'll\",\n",
      "                                             \"you'd\", 'your', 'yours',\n",
      "                                             'yourself', 'yourselves', 'he',\n",
      "                                             'him', 'his', 'himself', 'she',\n",
      "                                             \"she's\", 'her', 'hers', 'herself',\n",
      "                                             'it', \"it's\", 'its', 'itself', ...])),\n",
      "                ('rf', RandomForestClassifier(n_estimators=200))])\n",
      "\n",
      "\n",
      "Training Accuracy Score: 0.9952\n",
      "Testing Accuracy Score: 0.8199\n",
      "Generalization Difference: 17.6145%\n",
      "\n",
      "\n",
      "Confusion Matrix:\n",
      "                    pred_bicycling  pred_motorcycles\n",
      "actual_bicycling               721               135\n",
      "actual_motorcycles             153               590\n",
      "\n",
      "\n",
      "Accuracy: 0.8199\n",
      "Misclassification: 0.1801\n",
      "Sensitivity/ Recall: 0.7941\n",
      "Specificity: 0.8423\n",
      "Precision: 0.8138\n",
      "F1 Score: 0.8038\n",
      "ROC AUC Score: 0.8893\n"
     ]
    },
    {
     "data": {
      "image/png": "[encoded data removed]",
      "text/plain": [
       "<Figure size 432x288 with 2 Axes>"
      ]
     },
     "metadata": {},
     "output_type": "display_data"
    }
   ],
   "source": [
    "# Run Model 3.1: CountVectorizer with RandomForest with main text\n",
    "run_model_rs(pipe_cvec_rf, params_cvec_rf, cv=5, kind='main', model_name='cvec_rf_main')"
   ]
  },
  {
   "cell_type": "code",
   "execution_count": 29,
   "id": "09d316b4",
   "metadata": {},
   "outputs": [
    {
     "name": "stdout",
     "output_type": "stream",
     "text": [
      "Fitting 5 folds for each of 25 candidates, totalling 125 fits\n",
      "Time taken: 22.97 seconds\n",
      "\n",
      "\n",
      "Best Score: 0.8351\n",
      "Best Parameters: {'rf__n_estimators': 100, 'rf__max_depth': None, 'cvec__stop_words': ['i', 'me', 'my', 'myself', 'we', 'our', 'ours', 'ourselves', 'you', \"you're\", \"you've\", \"you'll\", \"you'd\", 'your', 'yours', 'yourself', 'yourselves', 'he', 'him', 'his', 'himself', 'she', \"she's\", 'her', 'hers', 'herself', 'it', \"it's\", 'its', 'itself', 'they', 'them', 'their', 'theirs', 'themselves', 'what', 'which', 'who', 'whom', 'this', 'that', \"that'll\", 'these', 'those', 'am', 'is', 'are', 'was', 'were', 'be', 'been', 'being', 'have', 'has', 'had', 'having', 'do', 'does', 'did', 'doing', 'a', 'an', 'the', 'and', 'but', 'if', 'or', 'because', 'as', 'until', 'while', 'of', 'at', 'by', 'for', 'with', 'about', 'against', 'between', 'into', 'through', 'during', 'before', 'after', 'above', 'below', 'to', 'from', 'up', 'down', 'in', 'out', 'on', 'off', 'over', 'under', 'again', 'further', 'then', 'once', 'here', 'there', 'when', 'where', 'why', 'how', 'all', 'any', 'both', 'each', 'few', 'more', 'most', 'other', 'some', 'such', 'no', 'nor', 'not', 'only', 'own', 'same', 'so', 'than', 'too', 'very', 's', 't', 'can', 'will', 'just', 'don', \"don't\", 'should', \"should've\", 'now', 'd', 'll', 'm', 'o', 're', 've', 'y', 'ain', 'aren', \"aren't\", 'couldn', \"couldn't\", 'didn', \"didn't\", 'doesn', \"doesn't\", 'hadn', \"hadn't\", 'hasn', \"hasn't\", 'haven', \"haven't\", 'isn', \"isn't\", 'ma', 'mightn', \"mightn't\", 'mustn', \"mustn't\", 'needn', \"needn't\", 'shan', \"shan't\", 'shouldn', \"shouldn't\", 'wasn', \"wasn't\", 'weren', \"weren't\", 'won', \"won't\", 'wouldn', \"wouldn't\", 'bicycle', 'bicycles', 'bicycling', 'cyclist', 'cyclists', 'cycling', 'motorcycle', 'motorcycles', 'motorbike', 'motorbikes', 'motor'], 'cvec__ngram_range': (1, 2), 'cvec__max_features': 2000}\n",
      "Best Estimator: Pipeline(steps=[('cvec',\n",
      "                 CountVectorizer(max_features=2000, ngram_range=(1, 2),\n",
      "                                 stop_words=['i', 'me', 'my', 'myself', 'we',\n",
      "                                             'our', 'ours', 'ourselves', 'you',\n",
      "                                             \"you're\", \"you've\", \"you'll\",\n",
      "                                             \"you'd\", 'your', 'yours',\n",
      "                                             'yourself', 'yourselves', 'he',\n",
      "                                             'him', 'his', 'himself', 'she',\n",
      "                                             \"she's\", 'her', 'hers', 'herself',\n",
      "                                             'it', \"it's\", 'its', 'itself', ...])),\n",
      "                ('rf', RandomForestClassifier())])\n",
      "\n",
      "\n",
      "Training Accuracy Score: 0.9957\n",
      "Testing Accuracy Score: 0.8286\n",
      "Generalization Difference: 16.7822%\n",
      "\n",
      "\n",
      "Confusion Matrix:\n",
      "                    pred_bicycling  pred_motorcycles\n",
      "actual_bicycling               714               142\n",
      "actual_motorcycles             132               611\n",
      "\n",
      "\n",
      "Accuracy: 0.8286\n",
      "Misclassification: 0.1714\n",
      "Sensitivity/ Recall: 0.8223\n",
      "Specificity: 0.8341\n",
      "Precision: 0.8114\n",
      "F1 Score: 0.8168\n",
      "ROC AUC Score: 0.9048\n"
     ]
    },
    {
     "data": {
      "image/png": "[encoded data removed]",
      "text/plain": [
       "<Figure size 432x288 with 2 Axes>"
      ]
     },
     "metadata": {},
     "output_type": "display_data"
    }
   ],
   "source": [
    "# Run Model 3.2: CountVectorizer with RandomForest with stemmed text\n",
    "run_model_rs(pipe_cvec_rf, params_cvec_rf, cv=5, kind='stem', model_name='cvec_rf_stem')"
   ]
  },
  {
   "cell_type": "code",
   "execution_count": 30,
   "id": "3390d6cd",
   "metadata": {},
   "outputs": [
    {
     "name": "stdout",
     "output_type": "stream",
     "text": [
      "Fitting 5 folds for each of 25 candidates, totalling 125 fits\n",
      "Time taken: 26.42 seconds\n",
      "\n",
      "\n",
      "Best Score: 0.7995\n",
      "Best Parameters: {'rf__n_estimators': 200, 'rf__max_depth': None, 'cvec__stop_words': ['i', 'me', 'my', 'myself', 'we', 'our', 'ours', 'ourselves', 'you', \"you're\", \"you've\", \"you'll\", \"you'd\", 'your', 'yours', 'yourself', 'yourselves', 'he', 'him', 'his', 'himself', 'she', \"she's\", 'her', 'hers', 'herself', 'it', \"it's\", 'its', 'itself', 'they', 'them', 'their', 'theirs', 'themselves', 'what', 'which', 'who', 'whom', 'this', 'that', \"that'll\", 'these', 'those', 'am', 'is', 'are', 'was', 'were', 'be', 'been', 'being', 'have', 'has', 'had', 'having', 'do', 'does', 'did', 'doing', 'a', 'an', 'the', 'and', 'but', 'if', 'or', 'because', 'as', 'until', 'while', 'of', 'at', 'by', 'for', 'with', 'about', 'against', 'between', 'into', 'through', 'during', 'before', 'after', 'above', 'below', 'to', 'from', 'up', 'down', 'in', 'out', 'on', 'off', 'over', 'under', 'again', 'further', 'then', 'once', 'here', 'there', 'when', 'where', 'why', 'how', 'all', 'any', 'both', 'each', 'few', 'more', 'most', 'other', 'some', 'such', 'no', 'nor', 'not', 'only', 'own', 'same', 'so', 'than', 'too', 'very', 's', 't', 'can', 'will', 'just', 'don', \"don't\", 'should', \"should've\", 'now', 'd', 'll', 'm', 'o', 're', 've', 'y', 'ain', 'aren', \"aren't\", 'couldn', \"couldn't\", 'didn', \"didn't\", 'doesn', \"doesn't\", 'hadn', \"hadn't\", 'hasn', \"hasn't\", 'haven', \"haven't\", 'isn', \"isn't\", 'ma', 'mightn', \"mightn't\", 'mustn', \"mustn't\", 'needn', \"needn't\", 'shan', \"shan't\", 'shouldn', \"shouldn't\", 'wasn', \"wasn't\", 'weren', \"weren't\", 'won', \"won't\", 'wouldn', \"wouldn't\", 'bicycle', 'bicycles', 'bicycling', 'cyclist', 'cyclists', 'cycling', 'motorcycle', 'motorcycles', 'motorbike', 'motorbikes', 'motor'], 'cvec__ngram_range': (1, 1), 'cvec__max_features': 5000}\n",
      "Best Estimator: Pipeline(steps=[('cvec',\n",
      "                 CountVectorizer(max_features=5000,\n",
      "                                 stop_words=['i', 'me', 'my', 'myself', 'we',\n",
      "                                             'our', 'ours', 'ourselves', 'you',\n",
      "                                             \"you're\", \"you've\", \"you'll\",\n",
      "                                             \"you'd\", 'your', 'yours',\n",
      "                                             'yourself', 'yourselves', 'he',\n",
      "                                             'him', 'his', 'himself', 'she',\n",
      "                                             \"she's\", 'her', 'hers', 'herself',\n",
      "                                             'it', \"it's\", 'its', 'itself', ...])),\n",
      "                ('rf', RandomForestClassifier(n_estimators=200))])\n",
      "\n",
      "\n",
      "Training Accuracy Score: 0.9965\n",
      "Testing Accuracy Score: 0.818\n",
      "Generalization Difference: 17.9127%\n",
      "\n",
      "\n",
      "Confusion Matrix:\n",
      "                    pred_bicycling  pred_motorcycles\n",
      "actual_bicycling               732               124\n",
      "actual_motorcycles             167               576\n",
      "\n",
      "\n",
      "Accuracy: 0.818\n",
      "Misclassification: 0.182\n",
      "Sensitivity/ Recall: 0.7752\n",
      "Specificity: 0.8551\n",
      "Precision: 0.8229\n",
      "F1 Score: 0.7983\n",
      "ROC AUC Score: 0.8857\n"
     ]
    },
    {
     "data": {
      "image/png": "[encoded data removed]",
      "text/plain": [
       "<Figure size 432x288 with 2 Axes>"
      ]
     },
     "metadata": {},
     "output_type": "display_data"
    }
   ],
   "source": [
    "# Run Model 3.3: CountVectorizer with RandomForest with lemmatized text\n",
    "run_model_rs(pipe_cvec_rf, params_cvec_rf, cv=5, kind='main', model_name='cvec_rf_lem')"
   ]
  },
  {
   "cell_type": "markdown",
   "id": "023854b1",
   "metadata": {},
   "source": [
    "### Model 4: TfidfVectorizer with RandomForest\n",
    "- 4.1 Using main text\n",
    "- 4.2 Using stemmed text\n",
    "- 4.3 Using lemmatized text"
   ]
  },
  {
   "cell_type": "code",
   "execution_count": 31,
   "id": "7ef64146",
   "metadata": {},
   "outputs": [],
   "source": [
    "# Set up pipeline\n",
    "\n",
    "pipe_tvec_rf = Pipeline([\n",
    "    ('tvec', TfidfVectorizer()),\n",
    "    ('rf', RandomForestClassifier())\n",
    "])"
   ]
  },
  {
   "cell_type": "code",
   "execution_count": 32,
   "id": "1fc16489",
   "metadata": {},
   "outputs": [],
   "source": [
    "# Set up hyperparameters\n",
    "\n",
    "params_tvec_rf = {\n",
    "    'tvec__max_features': [2_000, 3_500, 5_000],\n",
    "    'tvec__stop_words': [stoplist],\n",
    "    'tvec__ngram_range': [(1,1), (1,2)],\n",
    "    #'tvec__min_df': [0.01, 0.02, 0.03],\n",
    "    #'tvec__max_df': [0.8, 0.9],\n",
    "    \n",
    "    'rf__n_estimators': [100, 150, 200],\n",
    "    'rf__max_depth': [None, 1, 3, 5],\n",
    "    #'rf__min_samples_split': [10, 20, 30],\n",
    "    #'rf__min_samples_leaf':[5, 10, 15]\n",
    "}"
   ]
  },
  {
   "cell_type": "code",
   "execution_count": 33,
   "id": "1f3d91bc",
   "metadata": {
    "scrolled": true
   },
   "outputs": [
    {
     "name": "stdout",
     "output_type": "stream",
     "text": [
      "Fitting 5 folds for each of 25 candidates, totalling 125 fits\n",
      "Time taken: 29.65 seconds\n",
      "\n",
      "\n",
      "Best Score: 0.8008\n",
      "Best Parameters: {'tvec__stop_words': ['i', 'me', 'my', 'myself', 'we', 'our', 'ours', 'ourselves', 'you', \"you're\", \"you've\", \"you'll\", \"you'd\", 'your', 'yours', 'yourself', 'yourselves', 'he', 'him', 'his', 'himself', 'she', \"she's\", 'her', 'hers', 'herself', 'it', \"it's\", 'its', 'itself', 'they', 'them', 'their', 'theirs', 'themselves', 'what', 'which', 'who', 'whom', 'this', 'that', \"that'll\", 'these', 'those', 'am', 'is', 'are', 'was', 'were', 'be', 'been', 'being', 'have', 'has', 'had', 'having', 'do', 'does', 'did', 'doing', 'a', 'an', 'the', 'and', 'but', 'if', 'or', 'because', 'as', 'until', 'while', 'of', 'at', 'by', 'for', 'with', 'about', 'against', 'between', 'into', 'through', 'during', 'before', 'after', 'above', 'below', 'to', 'from', 'up', 'down', 'in', 'out', 'on', 'off', 'over', 'under', 'again', 'further', 'then', 'once', 'here', 'there', 'when', 'where', 'why', 'how', 'all', 'any', 'both', 'each', 'few', 'more', 'most', 'other', 'some', 'such', 'no', 'nor', 'not', 'only', 'own', 'same', 'so', 'than', 'too', 'very', 's', 't', 'can', 'will', 'just', 'don', \"don't\", 'should', \"should've\", 'now', 'd', 'll', 'm', 'o', 're', 've', 'y', 'ain', 'aren', \"aren't\", 'couldn', \"couldn't\", 'didn', \"didn't\", 'doesn', \"doesn't\", 'hadn', \"hadn't\", 'hasn', \"hasn't\", 'haven', \"haven't\", 'isn', \"isn't\", 'ma', 'mightn', \"mightn't\", 'mustn', \"mustn't\", 'needn', \"needn't\", 'shan', \"shan't\", 'shouldn', \"shouldn't\", 'wasn', \"wasn't\", 'weren', \"weren't\", 'won', \"won't\", 'wouldn', \"wouldn't\", 'bicycle', 'bicycles', 'bicycling', 'cyclist', 'cyclists', 'cycling', 'motorcycle', 'motorcycles', 'motorbike', 'motorbikes', 'motor'], 'tvec__ngram_range': (1, 1), 'tvec__max_features': 5000, 'rf__n_estimators': 150, 'rf__max_depth': None}\n",
      "Best Estimator: Pipeline(steps=[('tvec',\n",
      "                 TfidfVectorizer(max_features=5000,\n",
      "                                 stop_words=['i', 'me', 'my', 'myself', 'we',\n",
      "                                             'our', 'ours', 'ourselves', 'you',\n",
      "                                             \"you're\", \"you've\", \"you'll\",\n",
      "                                             \"you'd\", 'your', 'yours',\n",
      "                                             'yourself', 'yourselves', 'he',\n",
      "                                             'him', 'his', 'himself', 'she',\n",
      "                                             \"she's\", 'her', 'hers', 'herself',\n",
      "                                             'it', \"it's\", 'its', 'itself', ...])),\n",
      "                ('rf', RandomForestClassifier(n_estimators=150))])\n",
      "\n",
      "\n",
      "Training Accuracy Score: 0.9965\n",
      "Testing Accuracy Score: 0.8174\n",
      "Generalization Difference: 17.9729%\n",
      "\n",
      "\n",
      "Confusion Matrix:\n",
      "                    pred_bicycling  pred_motorcycles\n",
      "actual_bicycling               732               124\n",
      "actual_motorcycles             168               575\n",
      "\n",
      "\n",
      "Accuracy: 0.8174\n",
      "Misclassification: 0.1826\n",
      "Sensitivity/ Recall: 0.7739\n",
      "Specificity: 0.8551\n",
      "Precision: 0.8226\n",
      "F1 Score: 0.7975\n",
      "ROC AUC Score: 0.8874\n"
     ]
    },
    {
     "data": {
      "image/png": "[encoded data removed]",
      "text/plain": [
       "<Figure size 432x288 with 2 Axes>"
      ]
     },
     "metadata": {},
     "output_type": "display_data"
    }
   ],
   "source": [
    "# Run Model 4.1: TfidfVectorizer with RandomForest with main text\n",
    "run_model_rs(pipe_tvec_rf, params_tvec_rf, cv=5, kind='main', model_name='tvec_rf_main')"
   ]
  },
  {
   "cell_type": "code",
   "execution_count": 34,
   "id": "3a532341",
   "metadata": {},
   "outputs": [
    {
     "name": "stdout",
     "output_type": "stream",
     "text": [
      "Fitting 5 folds for each of 25 candidates, totalling 125 fits\n",
      "Time taken: 27.68 seconds\n",
      "\n",
      "\n",
      "Best Score: 0.8311\n",
      "Best Parameters: {'tvec__stop_words': ['i', 'me', 'my', 'myself', 'we', 'our', 'ours', 'ourselves', 'you', \"you're\", \"you've\", \"you'll\", \"you'd\", 'your', 'yours', 'yourself', 'yourselves', 'he', 'him', 'his', 'himself', 'she', \"she's\", 'her', 'hers', 'herself', 'it', \"it's\", 'its', 'itself', 'they', 'them', 'their', 'theirs', 'themselves', 'what', 'which', 'who', 'whom', 'this', 'that', \"that'll\", 'these', 'those', 'am', 'is', 'are', 'was', 'were', 'be', 'been', 'being', 'have', 'has', 'had', 'having', 'do', 'does', 'did', 'doing', 'a', 'an', 'the', 'and', 'but', 'if', 'or', 'because', 'as', 'until', 'while', 'of', 'at', 'by', 'for', 'with', 'about', 'against', 'between', 'into', 'through', 'during', 'before', 'after', 'above', 'below', 'to', 'from', 'up', 'down', 'in', 'out', 'on', 'off', 'over', 'under', 'again', 'further', 'then', 'once', 'here', 'there', 'when', 'where', 'why', 'how', 'all', 'any', 'both', 'each', 'few', 'more', 'most', 'other', 'some', 'such', 'no', 'nor', 'not', 'only', 'own', 'same', 'so', 'than', 'too', 'very', 's', 't', 'can', 'will', 'just', 'don', \"don't\", 'should', \"should've\", 'now', 'd', 'll', 'm', 'o', 're', 've', 'y', 'ain', 'aren', \"aren't\", 'couldn', \"couldn't\", 'didn', \"didn't\", 'doesn', \"doesn't\", 'hadn', \"hadn't\", 'hasn', \"hasn't\", 'haven', \"haven't\", 'isn', \"isn't\", 'ma', 'mightn', \"mightn't\", 'mustn', \"mustn't\", 'needn', \"needn't\", 'shan', \"shan't\", 'shouldn', \"shouldn't\", 'wasn', \"wasn't\", 'weren', \"weren't\", 'won', \"won't\", 'wouldn', \"wouldn't\", 'bicycle', 'bicycles', 'bicycling', 'cyclist', 'cyclists', 'cycling', 'motorcycle', 'motorcycles', 'motorbike', 'motorbikes', 'motor'], 'tvec__ngram_range': (1, 1), 'tvec__max_features': 2000, 'rf__n_estimators': 100, 'rf__max_depth': None}\n",
      "Best Estimator: Pipeline(steps=[('tvec',\n",
      "                 TfidfVectorizer(max_features=2000,\n",
      "                                 stop_words=['i', 'me', 'my', 'myself', 'we',\n",
      "                                             'our', 'ours', 'ourselves', 'you',\n",
      "                                             \"you're\", \"you've\", \"you'll\",\n",
      "                                             \"you'd\", 'your', 'yours',\n",
      "                                             'yourself', 'yourselves', 'he',\n",
      "                                             'him', 'his', 'himself', 'she',\n",
      "                                             \"she's\", 'her', 'hers', 'herself',\n",
      "                                             'it', \"it's\", 'its', 'itself', ...])),\n",
      "                ('rf', RandomForestClassifier())])\n",
      "\n",
      "\n",
      "Training Accuracy Score: 0.9957\n",
      "Testing Accuracy Score: 0.8311\n",
      "Generalization Difference: 16.5311%\n",
      "\n",
      "\n",
      "Confusion Matrix:\n",
      "                    pred_bicycling  pred_motorcycles\n",
      "actual_bicycling               736               120\n",
      "actual_motorcycles             150               593\n",
      "\n",
      "\n",
      "Accuracy: 0.8311\n",
      "Misclassification: 0.1689\n",
      "Sensitivity/ Recall: 0.7981\n",
      "Specificity: 0.8598\n",
      "Precision: 0.8317\n",
      "F1 Score: 0.8146\n",
      "ROC AUC Score: 0.9022\n"
     ]
    },
    {
     "data": {
      "image/png": "[encoded data removed]",
      "text/plain": [
       "<Figure size 432x288 with 2 Axes>"
      ]
     },
     "metadata": {},
     "output_type": "display_data"
    }
   ],
   "source": [
    "# Run Model 4.2: TfidfVectorizer with RandomForest with stemmed text\n",
    "run_model_rs(pipe_tvec_rf, params_tvec_rf, cv=5, kind='stem', model_name='tvec_rf_stem')"
   ]
  },
  {
   "cell_type": "code",
   "execution_count": 35,
   "id": "68246d78",
   "metadata": {},
   "outputs": [
    {
     "name": "stdout",
     "output_type": "stream",
     "text": [
      "Fitting 5 folds for each of 25 candidates, totalling 125 fits\n",
      "Time taken: 29.11 seconds\n",
      "\n",
      "\n",
      "Best Score: 0.8032\n",
      "Best Parameters: {'tvec__stop_words': ['i', 'me', 'my', 'myself', 'we', 'our', 'ours', 'ourselves', 'you', \"you're\", \"you've\", \"you'll\", \"you'd\", 'your', 'yours', 'yourself', 'yourselves', 'he', 'him', 'his', 'himself', 'she', \"she's\", 'her', 'hers', 'herself', 'it', \"it's\", 'its', 'itself', 'they', 'them', 'their', 'theirs', 'themselves', 'what', 'which', 'who', 'whom', 'this', 'that', \"that'll\", 'these', 'those', 'am', 'is', 'are', 'was', 'were', 'be', 'been', 'being', 'have', 'has', 'had', 'having', 'do', 'does', 'did', 'doing', 'a', 'an', 'the', 'and', 'but', 'if', 'or', 'because', 'as', 'until', 'while', 'of', 'at', 'by', 'for', 'with', 'about', 'against', 'between', 'into', 'through', 'during', 'before', 'after', 'above', 'below', 'to', 'from', 'up', 'down', 'in', 'out', 'on', 'off', 'over', 'under', 'again', 'further', 'then', 'once', 'here', 'there', 'when', 'where', 'why', 'how', 'all', 'any', 'both', 'each', 'few', 'more', 'most', 'other', 'some', 'such', 'no', 'nor', 'not', 'only', 'own', 'same', 'so', 'than', 'too', 'very', 's', 't', 'can', 'will', 'just', 'don', \"don't\", 'should', \"should've\", 'now', 'd', 'll', 'm', 'o', 're', 've', 'y', 'ain', 'aren', \"aren't\", 'couldn', \"couldn't\", 'didn', \"didn't\", 'doesn', \"doesn't\", 'hadn', \"hadn't\", 'hasn', \"hasn't\", 'haven', \"haven't\", 'isn', \"isn't\", 'ma', 'mightn', \"mightn't\", 'mustn', \"mustn't\", 'needn', \"needn't\", 'shan', \"shan't\", 'shouldn', \"shouldn't\", 'wasn', \"wasn't\", 'weren', \"weren't\", 'won', \"won't\", 'wouldn', \"wouldn't\", 'bicycle', 'bicycles', 'bicycling', 'cyclist', 'cyclists', 'cycling', 'motorcycle', 'motorcycles', 'motorbike', 'motorbikes', 'motor'], 'tvec__ngram_range': (1, 2), 'tvec__max_features': 5000, 'rf__n_estimators': 100, 'rf__max_depth': None}\n",
      "Best Estimator: Pipeline(steps=[('tvec',\n",
      "                 TfidfVectorizer(max_features=5000, ngram_range=(1, 2),\n",
      "                                 stop_words=['i', 'me', 'my', 'myself', 'we',\n",
      "                                             'our', 'ours', 'ourselves', 'you',\n",
      "                                             \"you're\", \"you've\", \"you'll\",\n",
      "                                             \"you'd\", 'your', 'yours',\n",
      "                                             'yourself', 'yourselves', 'he',\n",
      "                                             'him', 'his', 'himself', 'she',\n",
      "                                             \"she's\", 'her', 'hers', 'herself',\n",
      "                                             'it', \"it's\", 'its', 'itself', ...])),\n",
      "                ('rf', RandomForestClassifier())])\n",
      "\n",
      "\n",
      "Training Accuracy Score: 0.9962\n",
      "Testing Accuracy Score: 0.8143\n",
      "Generalization Difference: 18.2594%\n",
      "\n",
      "\n",
      "Confusion Matrix:\n",
      "                    pred_bicycling  pred_motorcycles\n",
      "actual_bicycling               726               130\n",
      "actual_motorcycles             167               576\n",
      "\n",
      "\n",
      "Accuracy: 0.8143\n",
      "Misclassification: 0.1857\n",
      "Sensitivity/ Recall: 0.7752\n",
      "Specificity: 0.8481\n",
      "Precision: 0.8159\n",
      "F1 Score: 0.795\n",
      "ROC AUC Score: 0.8883\n"
     ]
    },
    {
     "data": {
      "image/png": "[encoded data removed]",
      "text/plain": [
       "<Figure size 432x288 with 2 Axes>"
      ]
     },
     "metadata": {},
     "output_type": "display_data"
    }
   ],
   "source": [
    "# Run Model 4.3: TfidfVectorizer with RandomForest with lemmatized text\n",
    "run_model_rs(pipe_tvec_rf, params_tvec_rf, cv=5, kind='lem', model_name='tvec_rf_lem')"
   ]
  },
  {
   "cell_type": "markdown",
   "id": "cc572285",
   "metadata": {},
   "source": [
    "## Results Analysis\n",
    "*Back to [Contents](#Contents:)*"
   ]
  },
  {
   "cell_type": "code",
   "execution_count": 36,
   "id": "5d2b5f63",
   "metadata": {
    "scrolled": true
   },
   "outputs": [
    {
     "data": {
      "text/plain": [
       "{'cvec_nb_main': [0.9209,\n",
       "  0.8487,\n",
       "  7.8402,\n",
       "  0.1513,\n",
       "  0.8668,\n",
       "  0.8329,\n",
       "  0.8183,\n",
       "  0.8419,\n",
       "  0.9293],\n",
       " 'cvec_nb_stem': [0.9343,\n",
       "  0.8737,\n",
       "  6.4861,\n",
       "  0.1263,\n",
       "  0.891,\n",
       "  0.8586,\n",
       "  0.8455,\n",
       "  0.8677,\n",
       "  0.9465],\n",
       " 'cvec_nb_lem': [0.9177,\n",
       "  0.8468,\n",
       "  7.7258,\n",
       "  0.1532,\n",
       "  0.8668,\n",
       "  0.8294,\n",
       "  0.8152,\n",
       "  0.8402,\n",
       "  0.9319],\n",
       " 'tvec_nb_main': [0.9429,\n",
       "  0.848,\n",
       "  10.0647,\n",
       "  0.152,\n",
       "  0.8358,\n",
       "  0.8586,\n",
       "  0.8369,\n",
       "  0.8363,\n",
       "  0.9359],\n",
       " 'tvec_nb_stem': [0.9571,\n",
       "  0.8699,\n",
       "  9.1109,\n",
       "  0.1301,\n",
       "  0.8694,\n",
       "  0.8703,\n",
       "  0.8534,\n",
       "  0.8613,\n",
       "  0.9522],\n",
       " 'tvec_nb_lem': [0.948,\n",
       "  0.8512,\n",
       "  10.211,\n",
       "  0.1488,\n",
       "  0.8412,\n",
       "  0.8598,\n",
       "  0.8389,\n",
       "  0.84,\n",
       "  0.9378],\n",
       " 'cvec_rf_main': [0.9952,\n",
       "  0.8199,\n",
       "  17.6145,\n",
       "  0.1801,\n",
       "  0.7941,\n",
       "  0.8423,\n",
       "  0.8138,\n",
       "  0.8038,\n",
       "  0.8893],\n",
       " 'cvec_rf_stem': [0.9957,\n",
       "  0.8286,\n",
       "  16.7822,\n",
       "  0.1714,\n",
       "  0.8223,\n",
       "  0.8341,\n",
       "  0.8114,\n",
       "  0.8168,\n",
       "  0.9048],\n",
       " 'cvec_rf_lem': [0.9965,\n",
       "  0.818,\n",
       "  17.9127,\n",
       "  0.182,\n",
       "  0.7752,\n",
       "  0.8551,\n",
       "  0.8229,\n",
       "  0.7983,\n",
       "  0.8857],\n",
       " 'tvec_rf_main': [0.9965,\n",
       "  0.8174,\n",
       "  17.9729,\n",
       "  0.1826,\n",
       "  0.7739,\n",
       "  0.8551,\n",
       "  0.8226,\n",
       "  0.7975,\n",
       "  0.8874],\n",
       " 'tvec_rf_stem': [0.9957,\n",
       "  0.8311,\n",
       "  16.5311,\n",
       "  0.1689,\n",
       "  0.7981,\n",
       "  0.8598,\n",
       "  0.8317,\n",
       "  0.8146,\n",
       "  0.9022],\n",
       " 'tvec_rf_lem': [0.9962,\n",
       "  0.8143,\n",
       "  18.2594,\n",
       "  0.1857,\n",
       "  0.7752,\n",
       "  0.8481,\n",
       "  0.8159,\n",
       "  0.795,\n",
       "  0.8883]}"
      ]
     },
     "execution_count": 36,
     "metadata": {},
     "output_type": "execute_result"
    }
   ],
   "source": [
    "# Check results dictionary\n",
    "results"
   ]
  },
  {
   "cell_type": "code",
   "execution_count": 37,
   "id": "def05597",
   "metadata": {},
   "outputs": [
    {
     "data": {
      "text/html": [
       "<div>\n",
       "<style scoped>\n",
       "    .dataframe tbody tr th:only-of-type {\n",
       "        vertical-align: middle;\n",
       "    }\n",
       "\n",
       "    .dataframe tbody tr th {\n",
       "        vertical-align: top;\n",
       "    }\n",
       "\n",
       "    .dataframe thead th {\n",
       "        text-align: right;\n",
       "    }\n",
       "</style>\n",
       "<table border=\"1\" class=\"dataframe\">\n",
       "  <thead>\n",
       "    <tr style=\"text-align: right;\">\n",
       "      <th></th>\n",
       "      <th>train_score</th>\n",
       "      <th>test_score</th>\n",
       "      <th>generalisation</th>\n",
       "      <th>misclassification</th>\n",
       "      <th>sensitivity</th>\n",
       "      <th>specificity</th>\n",
       "      <th>precision</th>\n",
       "      <th>f1_score</th>\n",
       "      <th>roc_auc_score</th>\n",
       "    </tr>\n",
       "  </thead>\n",
       "  <tbody>\n",
       "    <tr>\n",
       "      <th>cvec_nb_main</th>\n",
       "      <td>0.9209</td>\n",
       "      <td>0.8487</td>\n",
       "      <td>7.8402</td>\n",
       "      <td>0.1513</td>\n",
       "      <td>0.8668</td>\n",
       "      <td>0.8329</td>\n",
       "      <td>0.8183</td>\n",
       "      <td>0.8419</td>\n",
       "      <td>0.9293</td>\n",
       "    </tr>\n",
       "    <tr>\n",
       "      <th>cvec_nb_stem</th>\n",
       "      <td>0.9343</td>\n",
       "      <td>0.8737</td>\n",
       "      <td>6.4861</td>\n",
       "      <td>0.1263</td>\n",
       "      <td>0.8910</td>\n",
       "      <td>0.8586</td>\n",
       "      <td>0.8455</td>\n",
       "      <td>0.8677</td>\n",
       "      <td>0.9465</td>\n",
       "    </tr>\n",
       "    <tr>\n",
       "      <th>cvec_nb_lem</th>\n",
       "      <td>0.9177</td>\n",
       "      <td>0.8468</td>\n",
       "      <td>7.7258</td>\n",
       "      <td>0.1532</td>\n",
       "      <td>0.8668</td>\n",
       "      <td>0.8294</td>\n",
       "      <td>0.8152</td>\n",
       "      <td>0.8402</td>\n",
       "      <td>0.9319</td>\n",
       "    </tr>\n",
       "    <tr>\n",
       "      <th>tvec_nb_main</th>\n",
       "      <td>0.9429</td>\n",
       "      <td>0.8480</td>\n",
       "      <td>10.0647</td>\n",
       "      <td>0.1520</td>\n",
       "      <td>0.8358</td>\n",
       "      <td>0.8586</td>\n",
       "      <td>0.8369</td>\n",
       "      <td>0.8363</td>\n",
       "      <td>0.9359</td>\n",
       "    </tr>\n",
       "    <tr>\n",
       "      <th>tvec_nb_stem</th>\n",
       "      <td>0.9571</td>\n",
       "      <td>0.8699</td>\n",
       "      <td>9.1109</td>\n",
       "      <td>0.1301</td>\n",
       "      <td>0.8694</td>\n",
       "      <td>0.8703</td>\n",
       "      <td>0.8534</td>\n",
       "      <td>0.8613</td>\n",
       "      <td>0.9522</td>\n",
       "    </tr>\n",
       "    <tr>\n",
       "      <th>tvec_nb_lem</th>\n",
       "      <td>0.9480</td>\n",
       "      <td>0.8512</td>\n",
       "      <td>10.2110</td>\n",
       "      <td>0.1488</td>\n",
       "      <td>0.8412</td>\n",
       "      <td>0.8598</td>\n",
       "      <td>0.8389</td>\n",
       "      <td>0.8400</td>\n",
       "      <td>0.9378</td>\n",
       "    </tr>\n",
       "    <tr>\n",
       "      <th>cvec_rf_main</th>\n",
       "      <td>0.9952</td>\n",
       "      <td>0.8199</td>\n",
       "      <td>17.6145</td>\n",
       "      <td>0.1801</td>\n",
       "      <td>0.7941</td>\n",
       "      <td>0.8423</td>\n",
       "      <td>0.8138</td>\n",
       "      <td>0.8038</td>\n",
       "      <td>0.8893</td>\n",
       "    </tr>\n",
       "    <tr>\n",
       "      <th>cvec_rf_stem</th>\n",
       "      <td>0.9957</td>\n",
       "      <td>0.8286</td>\n",
       "      <td>16.7822</td>\n",
       "      <td>0.1714</td>\n",
       "      <td>0.8223</td>\n",
       "      <td>0.8341</td>\n",
       "      <td>0.8114</td>\n",
       "      <td>0.8168</td>\n",
       "      <td>0.9048</td>\n",
       "    </tr>\n",
       "    <tr>\n",
       "      <th>cvec_rf_lem</th>\n",
       "      <td>0.9965</td>\n",
       "      <td>0.8180</td>\n",
       "      <td>17.9127</td>\n",
       "      <td>0.1820</td>\n",
       "      <td>0.7752</td>\n",
       "      <td>0.8551</td>\n",
       "      <td>0.8229</td>\n",
       "      <td>0.7983</td>\n",
       "      <td>0.8857</td>\n",
       "    </tr>\n",
       "    <tr>\n",
       "      <th>tvec_rf_main</th>\n",
       "      <td>0.9965</td>\n",
       "      <td>0.8174</td>\n",
       "      <td>17.9729</td>\n",
       "      <td>0.1826</td>\n",
       "      <td>0.7739</td>\n",
       "      <td>0.8551</td>\n",
       "      <td>0.8226</td>\n",
       "      <td>0.7975</td>\n",
       "      <td>0.8874</td>\n",
       "    </tr>\n",
       "    <tr>\n",
       "      <th>tvec_rf_stem</th>\n",
       "      <td>0.9957</td>\n",
       "      <td>0.8311</td>\n",
       "      <td>16.5311</td>\n",
       "      <td>0.1689</td>\n",
       "      <td>0.7981</td>\n",
       "      <td>0.8598</td>\n",
       "      <td>0.8317</td>\n",
       "      <td>0.8146</td>\n",
       "      <td>0.9022</td>\n",
       "    </tr>\n",
       "    <tr>\n",
       "      <th>tvec_rf_lem</th>\n",
       "      <td>0.9962</td>\n",
       "      <td>0.8143</td>\n",
       "      <td>18.2594</td>\n",
       "      <td>0.1857</td>\n",
       "      <td>0.7752</td>\n",
       "      <td>0.8481</td>\n",
       "      <td>0.8159</td>\n",
       "      <td>0.7950</td>\n",
       "      <td>0.8883</td>\n",
       "    </tr>\n",
       "  </tbody>\n",
       "</table>\n",
       "</div>"
      ],
      "text/plain": [
       "              train_score  test_score  generalisation  misclassification  \\\n",
       "cvec_nb_main       0.9209      0.8487          7.8402             0.1513   \n",
       "cvec_nb_stem       0.9343      0.8737          6.4861             0.1263   \n",
       "cvec_nb_lem        0.9177      0.8468          7.7258             0.1532   \n",
       "tvec_nb_main       0.9429      0.8480         10.0647             0.1520   \n",
       "tvec_nb_stem       0.9571      0.8699          9.1109             0.1301   \n",
       "tvec_nb_lem        0.9480      0.8512         10.2110             0.1488   \n",
       "cvec_rf_main       0.9952      0.8199         17.6145             0.1801   \n",
       "cvec_rf_stem       0.9957      0.8286         16.7822             0.1714   \n",
       "cvec_rf_lem        0.9965      0.8180         17.9127             0.1820   \n",
       "tvec_rf_main       0.9965      0.8174         17.9729             0.1826   \n",
       "tvec_rf_stem       0.9957      0.8311         16.5311             0.1689   \n",
       "tvec_rf_lem        0.9962      0.8143         18.2594             0.1857   \n",
       "\n",
       "              sensitivity  specificity  precision  f1_score  roc_auc_score  \n",
       "cvec_nb_main       0.8668       0.8329     0.8183    0.8419         0.9293  \n",
       "cvec_nb_stem       0.8910       0.8586     0.8455    0.8677         0.9465  \n",
       "cvec_nb_lem        0.8668       0.8294     0.8152    0.8402         0.9319  \n",
       "tvec_nb_main       0.8358       0.8586     0.8369    0.8363         0.9359  \n",
       "tvec_nb_stem       0.8694       0.8703     0.8534    0.8613         0.9522  \n",
       "tvec_nb_lem        0.8412       0.8598     0.8389    0.8400         0.9378  \n",
       "cvec_rf_main       0.7941       0.8423     0.8138    0.8038         0.8893  \n",
       "cvec_rf_stem       0.8223       0.8341     0.8114    0.8168         0.9048  \n",
       "cvec_rf_lem        0.7752       0.8551     0.8229    0.7983         0.8857  \n",
       "tvec_rf_main       0.7739       0.8551     0.8226    0.7975         0.8874  \n",
       "tvec_rf_stem       0.7981       0.8598     0.8317    0.8146         0.9022  \n",
       "tvec_rf_lem        0.7752       0.8481     0.8159    0.7950         0.8883  "
      ]
     },
     "execution_count": 37,
     "metadata": {},
     "output_type": "execute_result"
    }
   ],
   "source": [
    "# Convert results dictionary into Dataframe for analysis\n",
    "results_df = pd.DataFrame.from_dict(results, orient='index', columns=['train_score', 'test_score', 'generalisation',\n",
    "                           'misclassification', 'sensitivity', 'specificity', 'precision', 'f1_score', 'roc_auc_score'])\n",
    "results_df"
   ]
  },
  {
   "cell_type": "markdown",
   "id": "91c7e161",
   "metadata": {},
   "source": [
    "We ran the 3 kinds of text data (main base form, stemmed form & lemmatized form) into our models. In total, we obtained 12 different sets of results for evaluation.\n",
    "\n",
    "From the table above, we can see that the Random Forest classifier tends to overfit. It gives a high level of accuracy on the training data but does quite poorly on the testing data, giving a high generalisation difference.\n",
    "\n",
    "Stemming and lemmatizing generates the root word, grouping more words and this possibly allowed the model to run faster. We seem to get better results overall from Porter Stemming for all our models. However, Lemmatizing performance was affected at the expense of the other classification metrics, such as accuracy, sensitivity, specificity, precision and the f1 score.\n",
    "\n",
    "We will be using **accuracy (test score) and precision** as metrics for this classification problem since true positives and true negatives are important in classifying words correctly. **F1 score and ROC AUC score** are also taken into account here, since there is only a small data imbalance and it places emphasis on the false negative and false positives. From the table, accuracy and f1 score are quite similar and dont differ too much.\n",
    "\n",
    "Specificity and sensitivity may not be so important here as a wrong classification would not be fatal. Furthermore, the data is not imbalanced to a large extent."
   ]
  },
  {
   "cell_type": "markdown",
   "id": "7e64ac2a",
   "metadata": {},
   "source": [
    "### We will take a look at some of the posts that were wrongly predicted."
   ]
  },
  {
   "cell_type": "code",
   "execution_count": 38,
   "id": "d11e423a",
   "metadata": {},
   "outputs": [
    {
     "name": "stdout",
     "output_type": "stream",
     "text": [
      "Fitting 5 folds for each of 25 candidates, totalling 125 fits\n",
      "Train score:  0.9209\n",
      "Test score:  0.8487\n"
     ]
    }
   ],
   "source": [
    "# Run a single model (CountVectorizer with NaiveBayes using main text)\n",
    "rs = RandomizedSearchCV(pipe_cvec_nb, params_cvec_nb, cv=5, verbose=1, n_jobs=-1, n_iter=25, random_state=42)\n",
    "rs.fit(X_main_train, y_main_train)\n",
    "print(\"Train score: \", round(rs.score(X_main_train, y_main_train),4))\n",
    "print(\"Test score: \", round(rs.score(X_main_test, y_main_test),4))\n",
    "y_pred = rs.predict(X_main_test)"
   ]
  },
  {
   "cell_type": "code",
   "execution_count": 39,
   "id": "f358b4cb",
   "metadata": {},
   "outputs": [],
   "source": [
    "# Create a dataframe for the main text test sets to see predictions\n",
    "text_pred = list(zip(X_main_test, y_main_test, y_pred))\n",
    "text_pred_df = pd.DataFrame(text_pred, columns=['text', 'actual', 'predicted'])"
   ]
  },
  {
   "cell_type": "code",
   "execution_count": 40,
   "id": "ad4b45b2",
   "metadata": {
    "scrolled": false
   },
   "outputs": [
    {
     "data": {
      "text/html": [
       "<div>\n",
       "<style scoped>\n",
       "    .dataframe tbody tr th:only-of-type {\n",
       "        vertical-align: middle;\n",
       "    }\n",
       "\n",
       "    .dataframe tbody tr th {\n",
       "        vertical-align: top;\n",
       "    }\n",
       "\n",
       "    .dataframe thead th {\n",
       "        text-align: right;\n",
       "    }\n",
       "</style>\n",
       "<table border=\"1\" class=\"dataframe\">\n",
       "  <thead>\n",
       "    <tr style=\"text-align: right;\">\n",
       "      <th></th>\n",
       "      <th>text</th>\n",
       "      <th>actual</th>\n",
       "      <th>predicted</th>\n",
       "    </tr>\n",
       "  </thead>\n",
       "  <tbody>\n",
       "    <tr>\n",
       "      <th>2</th>\n",
       "      <td>Like is it based on the physical aspects of a bike weight, shape, etc. \\n\\nI know that right tyre pressure is very crucial for optimum handling. I also know that pressure increases with an increase in temperature of the tyre. the pressure difference from default during street riding might be insignificant but that minute difference can have a major impact on track.\\n\\n1) Does the manufacturer factor in the temperature increase from cold tyres to hot tires, so does this mean they knowingly recommend low tyre pressure so once the tyre gets warm the tyre pressure would be ideal for handling?\\n\\n2) If the above case is true then does this mean filling tyre with nitrogen has an adverse affect as the increase in tyre pressure of a nitrogen filled tyre would be less than an air filled tyre, once the tyre gets warm?How do motorcycle manufacturers set default tyre pressure?</td>\n",
       "      <td>1</td>\n",
       "      <td>0</td>\n",
       "    </tr>\n",
       "    <tr>\n",
       "      <th>12</th>\n",
       "      <td>New here. His and Hers N(to us)BD x2. Dumb to the hobby.</td>\n",
       "      <td>0</td>\n",
       "      <td>1</td>\n",
       "    </tr>\n",
       "    <tr>\n",
       "      <th>22</th>\n",
       "      <td>I'm from DFW but now I live in a small town in NC. I've found some great twisty roads to rip on in the Uhwarrie area but I don't know a single person who rides so I'm always solo now. I've been lucky and never crashed in my life but it could happen at any time. I'm worried I could get thrown into the woods in the middle of nowhere, my bike could get thrown into the woods and it could be years before my body is found. No one on earth would know where I'm at.\\n\\nIs there some phone app or something I could buy that could let my family keep track of my location?Is there some kind of phone app or device for my family to track me on a ride?</td>\n",
       "      <td>1</td>\n",
       "      <td>0</td>\n",
       "    </tr>\n",
       "    <tr>\n",
       "      <th>23</th>\n",
       "      <td>had my front tire replaced and realized I have no idea what adaptor to use to pump air. is there a name for this ? help appreciated.</td>\n",
       "      <td>0</td>\n",
       "      <td>1</td>\n",
       "    </tr>\n",
       "    <tr>\n",
       "      <th>24</th>\n",
       "      <td>the rear wheel locks rather than giving a smooth braking curve.  I apply brake and it locks. forwards and gear shifting is ok.\\n\\n&amp;amp;#x200B;\\n\\n*Processing video radh3fcs8bb91...*\\n\\n*Processing video zerrhuto6bb91...*\\n\\n*Processing img drzr8p566bb91...*\\n\\n*Processing img f3vyjk566bb91...*\\n\\n*Processing img eiu9ap566bb91...*help me repair nexus 7 shimano.</td>\n",
       "      <td>0</td>\n",
       "      <td>1</td>\n",
       "    </tr>\n",
       "    <tr>\n",
       "      <th>25</th>\n",
       "      <td>Woman in crash that killed 2 bicyclists did not grasp gravity of tragedy, prosecutor says</td>\n",
       "      <td>0</td>\n",
       "      <td>1</td>\n",
       "    </tr>\n",
       "    <tr>\n",
       "      <th>34</th>\n",
       "      <td>Having a dirty bike &amp;gt; not riding</td>\n",
       "      <td>0</td>\n",
       "      <td>1</td>\n",
       "    </tr>\n",
       "    <tr>\n",
       "      <th>40</th>\n",
       "      <td>Any pros and cons between the two types of stays? Can't decide what to get.Mudguard/fender stays: U-shaped vs V-shaped</td>\n",
       "      <td>0</td>\n",
       "      <td>1</td>\n",
       "    </tr>\n",
       "    <tr>\n",
       "      <th>57</th>\n",
       "      <td>Hi all \\n\\nI have an MT125 2017 model.\\n\\nNeed to get both front and rear tyres (all round and all weather tyres)\\n\\nI can get;\\n\\n*Pirelli Angel City's for about £120.\\n*Metzeler Sportec Street £160.\\n*Michelin Road Classics £195.\\n\\nDoes ANYONE have any experiences or opinions on these three tyres?  \\n\\nI like the look and specs of the Michelin Streets but they are a bit pricey ..  does anyone know if they're worth it?  \\n\\nI mean the pirellis are £120 ish and I thought they were awesome tyres from reviews.\\n\\nThanks in advanceOpinions on specifically 125cc tyres</td>\n",
       "      <td>1</td>\n",
       "      <td>0</td>\n",
       "    </tr>\n",
       "    <tr>\n",
       "      <th>62</th>\n",
       "      <td>On my group ride, two riders next to me crashed. One rider essentially did a front flip and landed on his chest/head. Broke his collarbone. The other suffered minor injuries, but had a large gash on his head from the helmet. Imagine if they weren’t wearing helmets - today could’ve been much worse. \\n\\nMoral of this story is two things:\\n\\n1) ALWAYS wear a helmet. They saved two lives today. \\n2) ALWAYS be prepared to stop on a dime when drafting. You never know when the person in front will hit their brakes.Group Ride Accident</td>\n",
       "      <td>0</td>\n",
       "      <td>1</td>\n",
       "    </tr>\n",
       "  </tbody>\n",
       "</table>\n",
       "</div>"
      ],
      "text/plain": [
       "                                                                                                                                                                                                                                                                                                                                                                                                                                                                                                                                                                                                                                                                                                                                                                                                                                                                                                             text  \\\n",
       "2   Like is it based on the physical aspects of a bike weight, shape, etc. \\n\\nI know that right tyre pressure is very crucial for optimum handling. I also know that pressure increases with an increase in temperature of the tyre. the pressure difference from default during street riding might be insignificant but that minute difference can have a major impact on track.\\n\\n1) Does the manufacturer factor in the temperature increase from cold tyres to hot tires, so does this mean they knowingly recommend low tyre pressure so once the tyre gets warm the tyre pressure would be ideal for handling?\\n\\n2) If the above case is true then does this mean filling tyre with nitrogen has an adverse affect as the increase in tyre pressure of a nitrogen filled tyre would be less than an air filled tyre, once the tyre gets warm?How do motorcycle manufacturers set default tyre pressure?   \n",
       "12                                                                                                                                                                                                                                                                                                                                                                                                                                                                                                                                                                                                                                                                                                                                                                                                                                                       New here. His and Hers N(to us)BD x2. Dumb to the hobby.   \n",
       "22                                                                                                                                                                                                                                            I'm from DFW but now I live in a small town in NC. I've found some great twisty roads to rip on in the Uhwarrie area but I don't know a single person who rides so I'm always solo now. I've been lucky and never crashed in my life but it could happen at any time. I'm worried I could get thrown into the woods in the middle of nowhere, my bike could get thrown into the woods and it could be years before my body is found. No one on earth would know where I'm at.\\n\\nIs there some phone app or something I could buy that could let my family keep track of my location?Is there some kind of phone app or device for my family to track me on a ride?   \n",
       "23                                                                                                                                                                                                                                                                                                                                                                                                                                                                                                                                                                                                                                                                                                                                                                           had my front tire replaced and realized I have no idea what adaptor to use to pump air. is there a name for this ? help appreciated.   \n",
       "24                                                                                                                                                                                                                                                                                                                                                                                                                                                                                                                                     the rear wheel locks rather than giving a smooth braking curve.  I apply brake and it locks. forwards and gear shifting is ok.\\n\\n&amp;#x200B;\\n\\n*Processing video radh3fcs8bb91...*\\n\\n*Processing video zerrhuto6bb91...*\\n\\n*Processing img drzr8p566bb91...*\\n\\n*Processing img f3vyjk566bb91...*\\n\\n*Processing img eiu9ap566bb91...*help me repair nexus 7 shimano.   \n",
       "25                                                                                                                                                                                                                                                                                                                                                                                                                                                                                                                                                                                                                                                                                                                                                                                                                      Woman in crash that killed 2 bicyclists did not grasp gravity of tragedy, prosecutor says   \n",
       "34                                                                                                                                                                                                                                                                                                                                                                                                                                                                                                                                                                                                                                                                                                                                                                                                                                                                            Having a dirty bike &gt; not riding   \n",
       "40                                                                                                                                                                                                                                                                                                                                                                                                                                                                                                                                                                                                                                                                                                                                                                                         Any pros and cons between the two types of stays? Can't decide what to get.Mudguard/fender stays: U-shaped vs V-shaped   \n",
       "57                                                                                                                                                                                                                                                                                                                    Hi all \\n\\nI have an MT125 2017 model.\\n\\nNeed to get both front and rear tyres (all round and all weather tyres)\\n\\nI can get;\\n\\n*Pirelli Angel City's for about £120.\\n*Metzeler Sportec Street £160.\\n*Michelin Road Classics £195.\\n\\nDoes ANYONE have any experiences or opinions on these three tyres?  \\n\\nI like the look and specs of the Michelin Streets but they are a bit pricey ..  does anyone know if they're worth it?  \\n\\nI mean the pirellis are £120 ish and I thought they were awesome tyres from reviews.\\n\\nThanks in advanceOpinions on specifically 125cc tyres   \n",
       "62                                                                                                                                                                                                                                                                                                                                                           On my group ride, two riders next to me crashed. One rider essentially did a front flip and landed on his chest/head. Broke his collarbone. The other suffered minor injuries, but had a large gash on his head from the helmet. Imagine if they weren’t wearing helmets - today could’ve been much worse. \\n\\nMoral of this story is two things:\\n\\n1) ALWAYS wear a helmet. They saved two lives today. \\n2) ALWAYS be prepared to stop on a dime when drafting. You never know when the person in front will hit their brakes.Group Ride Accident   \n",
       "\n",
       "    actual  predicted  \n",
       "2        1          0  \n",
       "12       0          1  \n",
       "22       1          0  \n",
       "23       0          1  \n",
       "24       0          1  \n",
       "25       0          1  \n",
       "34       0          1  \n",
       "40       0          1  \n",
       "57       1          0  \n",
       "62       0          1  "
      ]
     },
     "execution_count": 40,
     "metadata": {},
     "output_type": "execute_result"
    }
   ],
   "source": [
    "pd.set_option(\"display.max_colwidth\", 4500)\n",
    "pd.set_option(\"display.max_rows\", 1000)\n",
    "\n",
    "# Find those texts with wrong predictions (0 for bicycling, 1 for motorcycles)\n",
    "# Display only first 10, to see all, please delete .head(10)\n",
    "\n",
    "text_pred_df[text_pred_df['actual']!=text_pred_df['predicted']].head(10)"
   ]
  },
  {
   "cell_type": "markdown",
   "id": "9a44f9c6",
   "metadata": {},
   "source": [
    "Seems like we have to further tune our model to catch more of these wrongly classified posts. Having 'cycling' and 'bicycles' in some of the posts, it should have been quite easy to classify correctly, but model is not predicting it correctly. These could have been due to the specific stop words added previously."
   ]
  },
  {
   "cell_type": "markdown",
   "id": "107402bd",
   "metadata": {},
   "source": [
    "## Feature Importance\n",
    "- For RandomTree models, we will use the built-in Feature Importance to find relevant features, which can help with better understanding of the problem.\n",
    "\n",
    "*Back to [Contents](#Contents:)*"
   ]
  },
  {
   "cell_type": "code",
   "execution_count": 41,
   "id": "85d8dccc",
   "metadata": {},
   "outputs": [
    {
     "name": "stdout",
     "output_type": "stream",
     "text": [
      "Fitting 5 folds for each of 25 candidates, totalling 125 fits\n",
      "Train score:  0.9965\n",
      "Test score:  0.8155\n"
     ]
    }
   ],
   "source": [
    "# Run a single model (CountVectorizer with RandomForest using main text data)\n",
    "rs = RandomizedSearchCV(pipe_cvec_rf, params_cvec_rf, cv=5, verbose=1, n_jobs=-1, n_iter=25, random_state=42)\n",
    "rs.fit(X_main_train, y_main_train)\n",
    "print(\"Train score: \", round(rs.score(X_main_train, y_main_train),4))\n",
    "print(\"Test score: \", round(rs.score(X_main_test, y_main_test),4))\n",
    "y_pred = rs.predict(X_main_test)"
   ]
  },
  {
   "cell_type": "code",
   "execution_count": 42,
   "id": "138b3187",
   "metadata": {},
   "outputs": [],
   "source": [
    "feature_names = rs.best_estimator_.named_steps['cvec'].get_feature_names()\n",
    "rf = rs.best_estimator_.named_steps['rf']"
   ]
  },
  {
   "cell_type": "code",
   "execution_count": 43,
   "id": "a05eddbb",
   "metadata": {},
   "outputs": [
    {
     "data": {
      "text/plain": [
       "array([9.34145696e-06, 4.46518504e-04, 3.04320967e-05, ...,\n",
       "       3.63923252e-04, 6.19609444e-04, 1.95478482e-03])"
      ]
     },
     "execution_count": 43,
     "metadata": {},
     "output_type": "execute_result"
    }
   ],
   "source": [
    "rf.feature_importances_"
   ]
  },
  {
   "cell_type": "code",
   "execution_count": 56,
   "id": "f75c1203",
   "metadata": {},
   "outputs": [],
   "source": [
    "# zip these items into a list first, so we can convert into a dataframe later\n",
    "rf_feature_names = zip(feature_names,rf.feature_importances_)"
   ]
  },
  {
   "cell_type": "code",
   "execution_count": 57,
   "id": "becaf808",
   "metadata": {},
   "outputs": [],
   "source": [
    "# create function to convert zip into dataframe, then return top 15 values\n",
    "def feature_df(zip_df):\n",
    "    df = pd.DataFrame(zip_df, columns=['word', 'rf_gini'])    \n",
    "    rf_df = df.sort_values(by=['rf_gini'],ascending=False).head(15)\n",
    "    return rf_df"
   ]
  },
  {
   "cell_type": "code",
   "execution_count": 58,
   "id": "434f937a",
   "metadata": {},
   "outputs": [
    {
     "data": {
      "text/html": [
       "<div>\n",
       "<style scoped>\n",
       "    .dataframe tbody tr th:only-of-type {\n",
       "        vertical-align: middle;\n",
       "    }\n",
       "\n",
       "    .dataframe tbody tr th {\n",
       "        vertical-align: top;\n",
       "    }\n",
       "\n",
       "    .dataframe thead th {\n",
       "        text-align: right;\n",
       "    }\n",
       "</style>\n",
       "<table border=\"1\" class=\"dataframe\">\n",
       "  <thead>\n",
       "    <tr style=\"text-align: right;\">\n",
       "      <th></th>\n",
       "      <th>word</th>\n",
       "      <th>rf_gini</th>\n",
       "    </tr>\n",
       "  </thead>\n",
       "  <tbody>\n",
       "    <tr>\n",
       "      <th>2116</th>\n",
       "      <td>honda</td>\n",
       "      <td>0.013488</td>\n",
       "    </tr>\n",
       "    <tr>\n",
       "      <th>4972</th>\n",
       "      <td>yamaha</td>\n",
       "      <td>0.011006</td>\n",
       "    </tr>\n",
       "    <tr>\n",
       "      <th>2943</th>\n",
       "      <td>ninja</td>\n",
       "      <td>0.009466</td>\n",
       "    </tr>\n",
       "    <tr>\n",
       "      <th>606</th>\n",
       "      <td>bike</td>\n",
       "      <td>0.007867</td>\n",
       "    </tr>\n",
       "    <tr>\n",
       "      <th>2507</th>\n",
       "      <td>license</td>\n",
       "      <td>0.007396</td>\n",
       "    </tr>\n",
       "    <tr>\n",
       "      <th>2897</th>\n",
       "      <td>nbd</td>\n",
       "      <td>0.007332</td>\n",
       "    </tr>\n",
       "    <tr>\n",
       "      <th>1470</th>\n",
       "      <td>engine</td>\n",
       "      <td>0.007328</td>\n",
       "    </tr>\n",
       "    <tr>\n",
       "      <th>3674</th>\n",
       "      <td>rider</td>\n",
       "      <td>0.007278</td>\n",
       "    </tr>\n",
       "    <tr>\n",
       "      <th>1552</th>\n",
       "      <td>exhaust</td>\n",
       "      <td>0.007197</td>\n",
       "    </tr>\n",
       "    <tr>\n",
       "      <th>953</th>\n",
       "      <td>clutch</td>\n",
       "      <td>0.006925</td>\n",
       "    </tr>\n",
       "    <tr>\n",
       "      <th>2521</th>\n",
       "      <td>like</td>\n",
       "      <td>0.006574</td>\n",
       "    </tr>\n",
       "    <tr>\n",
       "      <th>3679</th>\n",
       "      <td>riding</td>\n",
       "      <td>0.006164</td>\n",
       "    </tr>\n",
       "    <tr>\n",
       "      <th>4363</th>\n",
       "      <td>suzuki</td>\n",
       "      <td>0.005689</td>\n",
       "    </tr>\n",
       "    <tr>\n",
       "      <th>4126</th>\n",
       "      <td>sound</td>\n",
       "      <td>0.005570</td>\n",
       "    </tr>\n",
       "    <tr>\n",
       "      <th>3013</th>\n",
       "      <td>oil</td>\n",
       "      <td>0.005360</td>\n",
       "    </tr>\n",
       "  </tbody>\n",
       "</table>\n",
       "</div>"
      ],
      "text/plain": [
       "         word   rf_gini\n",
       "2116    honda  0.013488\n",
       "4972   yamaha  0.011006\n",
       "2943    ninja  0.009466\n",
       "606      bike  0.007867\n",
       "2507  license  0.007396\n",
       "2897      nbd  0.007332\n",
       "1470   engine  0.007328\n",
       "3674    rider  0.007278\n",
       "1552  exhaust  0.007197\n",
       "953    clutch  0.006925\n",
       "2521     like  0.006574\n",
       "3679   riding  0.006164\n",
       "4363   suzuki  0.005689\n",
       "4126    sound  0.005570\n",
       "3013      oil  0.005360"
      ]
     },
     "execution_count": 58,
     "metadata": {},
     "output_type": "execute_result"
    }
   ],
   "source": [
    "df_rf_feature_names = feature_df(rf_feature_names)\n",
    "df_rf_feature_names"
   ]
  },
  {
   "cell_type": "code",
   "execution_count": 61,
   "id": "c7ef4def",
   "metadata": {},
   "outputs": [
    {
     "data": {
      "image/png": "[encoded data removed]",
      "text/plain": [
       "<Figure size 576x576 with 1 Axes>"
      ]
     },
     "metadata": {},
     "output_type": "display_data"
    }
   ],
   "source": [
    "df_rf_feature_names.sort_values('rf_gini',ascending=1).plot.barh(x='word',y='rf_gini',figsize=(8,8))\n",
    "plt.legend(['Random Forest']);\n",
    "plt.ylabel('Word/ feature');\n",
    "plt.xlabel('Gini Importance');"
   ]
  },
  {
   "cell_type": "markdown",
   "id": "e2c044bc",
   "metadata": {},
   "source": [
    "We can see that motorcycles brand words play a big part in the classification problem. Out of the top 15 features, 6 referred to a particular brand or model (Honda, Yamaha, Ninja, Kawasaki, Suzuki, BMW). Other distinguishing features include throttle, exhaust, engine and license, which likely belonged only to the motorcycles subreddit. A notable feature is \"NBD\", which stands for \"New Bike Day\", an abbreviation popular in the cycling community. "
   ]
  },
  {
   "cell_type": "markdown",
   "id": "cc2cc17d",
   "metadata": {},
   "source": [
    "## ROC AUC Curve\n",
    "*Back to [Contents](#Contents:)*"
   ]
  },
  {
   "cell_type": "markdown",
   "id": "9406b687",
   "metadata": {},
   "source": [
    "The curve shows us the behaviour of the classifer for every threshold by plotting the tradeoff between True Positive Rate (TPR) and False Positive Rate (FPR)\n",
    "- TPR is the recall or sensitivity\n",
    "- FPR is (1 - specificity)\n",
    "\n",
    "How to interpret: The higher TPR and the lower FPR for each threshold, the better it is, so classifiers having curves at the top left side are better.\n",
    "\n",
    "**ROC AUC (Area Under the Receiver Operating Characteristic Curve)** score is a metric used to assess the performance of classification machine learning models. Resulting score represents broadly the model's ability to predict classes correctly.\n",
    "\n",
    "Advantages of using ROC AUC score\n",
    "- A simple to track overall performance metric for classification models\n",
    "- A single metric which covers sensitivity and specificity\n",
    "\n",
    "Disadvantage of using ROC AUC score\n",
    "- Does not perform well with heavily imbalanced datasets\n",
    "- Not very intuitive for end users to understand"
   ]
  },
  {
   "cell_type": "code",
   "execution_count": 48,
   "id": "afd829c1",
   "metadata": {
    "scrolled": true
   },
   "outputs": [
    {
     "name": "stdout",
     "output_type": "stream",
     "text": [
      "Fitting 5 folds for each of 25 candidates, totalling 125 fits\n"
     ]
    },
    {
     "data": {
      "text/plain": [
       "RandomizedSearchCV(cv=5,\n",
       "                   estimator=Pipeline(steps=[('cvec', CountVectorizer()),\n",
       "                                             ('rf', RandomForestClassifier())]),\n",
       "                   n_iter=25, n_jobs=-1,\n",
       "                   param_distributions={'cvec__max_features': [2000, 3500,\n",
       "                                                               5000],\n",
       "                                        'cvec__ngram_range': [(1, 1), (1, 2)],\n",
       "                                        'cvec__stop_words': [['i', 'me', 'my',\n",
       "                                                              'myself', 'we',\n",
       "                                                              'our', 'ours',\n",
       "                                                              'ourselves',\n",
       "                                                              'you', \"you're\",\n",
       "                                                              \"you've\",\n",
       "                                                              \"you'll\", \"you'd\",\n",
       "                                                              'your', 'yours',\n",
       "                                                              'yourself',\n",
       "                                                              'yourselves',\n",
       "                                                              'he', 'him',\n",
       "                                                              'his', 'himself',\n",
       "                                                              'she', \"she's\",\n",
       "                                                              'her', 'hers',\n",
       "                                                              'herself', 'it',\n",
       "                                                              \"it's\", 'its',\n",
       "                                                              'itself', ...]],\n",
       "                                        'rf__max_depth': [None, 1, 3, 5],\n",
       "                                        'rf__n_estimators': [100, 150, 200]},\n",
       "                   random_state=42, verbose=1)"
      ]
     },
     "execution_count": 48,
     "metadata": {},
     "output_type": "execute_result"
    }
   ],
   "source": [
    "rs.fit(X_main_train, y_main_train)"
   ]
  },
  {
   "cell_type": "code",
   "execution_count": 49,
   "id": "b2dbd789",
   "metadata": {},
   "outputs": [],
   "source": [
    "y_pred = rs.predict(X_main_test)\n",
    "y_proba = rs.predict_proba(X_main_test)\n",
    "auc = round(roc_auc_score(y_main_test, y_proba[:,1]),4)"
   ]
  },
  {
   "cell_type": "code",
   "execution_count": 50,
   "id": "59c59cd0",
   "metadata": {
    "scrolled": true
   },
   "outputs": [
    {
     "data": {
      "image/png": "[encoded data removed]",
      "text/plain": [
       "<Figure size 360x360 with 1 Axes>"
      ]
     },
     "metadata": {},
     "output_type": "display_data"
    }
   ],
   "source": [
    "from sklearn.metrics import roc_curve\n",
    "from sklearn.metrics import RocCurveDisplay\n",
    "\n",
    "def plot_sklearn_roc_curve(y_real, y_pred):\n",
    "    fpr, tpr, _ = roc_curve(y_real, y_pred)\n",
    "    roc_display = RocCurveDisplay(fpr=fpr, tpr=tpr, estimator_name=f'AUC={auc}').plot()\n",
    "    roc_display.figure_.set_size_inches(5,5)\n",
    "    \n",
    "    plt.title('ROC Curve of RandomForest Model', fontsize=20)\n",
    "    plt.plot([0, 1], [0, 1], color = 'g')\n",
    "    plt.legend(fontsize=15, loc='lower right')\n",
    "    \n",
    "# Plots the ROC curve using the sklearn methods - Good plot\n",
    "plot_sklearn_roc_curve(y_main_test, y_proba[:, 1])"
   ]
  },
  {
   "cell_type": "markdown",
   "id": "41535669",
   "metadata": {},
   "source": [
    "The ROC AUC score ranges from 0.5 to 1, where 1 is a perfect score and 0.5 means the model is as good as random. In our case, a 0.89 score shows that the RandomForest is giving good performance."
   ]
  },
  {
   "cell_type": "markdown",
   "id": "605a44cb",
   "metadata": {},
   "source": [
    "## Conclusion & Recommendations\n",
    "*Back to [Contents](#Contents:)*"
   ]
  },
  {
   "cell_type": "code",
   "execution_count": 51,
   "id": "975b27b5",
   "metadata": {},
   "outputs": [
    {
     "data": {
      "text/html": [
       "<div>\n",
       "<style scoped>\n",
       "    .dataframe tbody tr th:only-of-type {\n",
       "        vertical-align: middle;\n",
       "    }\n",
       "\n",
       "    .dataframe tbody tr th {\n",
       "        vertical-align: top;\n",
       "    }\n",
       "\n",
       "    .dataframe thead th {\n",
       "        text-align: right;\n",
       "    }\n",
       "</style>\n",
       "<table border=\"1\" class=\"dataframe\">\n",
       "  <thead>\n",
       "    <tr style=\"text-align: right;\">\n",
       "      <th></th>\n",
       "      <th>train_score</th>\n",
       "      <th>test_score</th>\n",
       "      <th>generalisation</th>\n",
       "      <th>precision</th>\n",
       "      <th>f1_score</th>\n",
       "      <th>roc_auc_score</th>\n",
       "    </tr>\n",
       "  </thead>\n",
       "  <tbody>\n",
       "    <tr>\n",
       "      <th>cvec_nb_stem</th>\n",
       "      <td>0.9343</td>\n",
       "      <td>0.8737</td>\n",
       "      <td>6.4861</td>\n",
       "      <td>0.8455</td>\n",
       "      <td>0.8677</td>\n",
       "      <td>0.9465</td>\n",
       "    </tr>\n",
       "    <tr>\n",
       "      <th>tvec_nb_stem</th>\n",
       "      <td>0.9571</td>\n",
       "      <td>0.8699</td>\n",
       "      <td>9.1109</td>\n",
       "      <td>0.8534</td>\n",
       "      <td>0.8613</td>\n",
       "      <td>0.9522</td>\n",
       "    </tr>\n",
       "    <tr>\n",
       "      <th>cvec_rf_stem</th>\n",
       "      <td>0.9957</td>\n",
       "      <td>0.8286</td>\n",
       "      <td>16.7822</td>\n",
       "      <td>0.8114</td>\n",
       "      <td>0.8168</td>\n",
       "      <td>0.9048</td>\n",
       "    </tr>\n",
       "    <tr>\n",
       "      <th>tvec_rf_stem</th>\n",
       "      <td>0.9957</td>\n",
       "      <td>0.8311</td>\n",
       "      <td>16.5311</td>\n",
       "      <td>0.8317</td>\n",
       "      <td>0.8146</td>\n",
       "      <td>0.9022</td>\n",
       "    </tr>\n",
       "  </tbody>\n",
       "</table>\n",
       "</div>"
      ],
      "text/plain": [
       "              train_score  test_score  generalisation  precision  f1_score  \\\n",
       "cvec_nb_stem       0.9343      0.8737          6.4861     0.8455    0.8677   \n",
       "tvec_nb_stem       0.9571      0.8699          9.1109     0.8534    0.8613   \n",
       "cvec_rf_stem       0.9957      0.8286         16.7822     0.8114    0.8168   \n",
       "tvec_rf_stem       0.9957      0.8311         16.5311     0.8317    0.8146   \n",
       "\n",
       "              roc_auc_score  \n",
       "cvec_nb_stem         0.9465  \n",
       "tvec_nb_stem         0.9522  \n",
       "cvec_rf_stem         0.9048  \n",
       "tvec_rf_stem         0.9022  "
      ]
     },
     "execution_count": 51,
     "metadata": {},
     "output_type": "execute_result"
    }
   ],
   "source": [
    "results_df.iloc[[1,4,7,10],[0,1,2,6,7,8]]"
   ]
  },
  {
   "cell_type": "markdown",
   "id": "a6f81771",
   "metadata": {},
   "source": [
    "We will select the **CountVectorizer with the Multinomial Naive Bayes model** as it has good generalisation, accuracy, precision, f1 scores and ROC-AUC scores, compared to the other models. We will apply this model after Porter Stemming, whose overall performance is better than when on its base form or after lemmatizing.\n",
    "\n",
    "The Random Forest models show signs of overfitting and further work would have to be done to optimise and tune the hyperparameters. The accuracy, precision and f1 scores are also not as high as when done with the Naive Bayes models.\n",
    "\n",
    "### Recommendations:\n",
    "- There were still some spam posts left over, so more thorough cleaning would have to be done. Some posts also had weird string characters left despite one round of cleaning.\n",
    "- Possibly test out on other models other than Naive Bayes and Random Forest.\n",
    "- We could also explore new features within Reddit such as the upvotes and downvotes, as well as post comments.\n",
    "- As this is a fairly balanced dataset, the metrics are easy to compare. In the future, if we were to encounter highly imbalanced dateset, the use of sensitivity and specificity would be of greater use. The ROC-AUC curve cannot be used and would have to be substituted with the Precision Recall curve."
   ]
  },
  {
   "cell_type": "markdown",
   "id": "d7f400cf",
   "metadata": {},
   "source": [
    "## References\n",
    "Special thanks and credit given to these projects for allowing me to get started on this project,<br>\n",
    "And for also teaching me different techniques and methods to approach the project\n",
    "\n",
    "*Back to [Contents](#Contents:)*"
   ]
  },
  {
   "cell_type": "markdown",
   "id": "b5e74b6d",
   "metadata": {},
   "source": [
    "- https://github.com/KellySlatery/nlp_project_dsi\n",
    "- https://github.com/chawlasahaj/dsiprojects/tree/main/NLP-classification\n",
    "- https://github.com/twludlow/portfolio-03-webscraping-nlp\n",
    "- https://github.com/cheekeet86/project_3\n",
    "- https://github.com/zzeniale/Subreddit-classification\n",
    "- https://github.com/gabrielpprieto/reddit_nlp\n",
    "- https://github.com/doscsy12/GA_projects/tree/master/project_3\n",
    "- https://github.com/yufung/dsi-project-3/blob/master/code/subreddit_classifier.ipynb\n",
    "- https://github.com/gbkgwyneth/GA-DSI-project-03/blob/master/code/Project3.ipynb\n",
    "- https://mljar.com/blog/feature-importance-in-random-forest/\n",
    "- https://github.com/osyounis/reddit_nlp/blob/main/code/Project_3_Main_Code_OSY.ipynb"
   ]
  },
  {
   "cell_type": "code",
   "execution_count": null,
   "id": "3fdfd4e9",
   "metadata": {},
   "outputs": [],
   "source": []
  }
 ],
 "metadata": {
  "kernelspec": {
   "display_name": "Python 3 (ipykernel)",
   "language": "python",
   "name": "python3"
  },
  "language_info": {
   "codemirror_mode": {
    "name": "ipython",
    "version": 3
   },
   "file_extension": ".py",
   "mimetype": "text/x-python",
   "name": "python",
   "nbconvert_exporter": "python",
   "pygments_lexer": "ipython3",
   "version": "3.9.7"
  }
 },
 "nbformat": 4,
 "nbformat_minor": 5
}
